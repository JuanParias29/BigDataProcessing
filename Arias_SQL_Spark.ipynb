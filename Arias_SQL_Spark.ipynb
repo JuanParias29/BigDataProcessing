{
  "nbformat": 4,
  "nbformat_minor": 0,
  "metadata": {
    "colab": {
      "provenance": [],
      "include_colab_link": true
    },
    "kernelspec": {
      "name": "python3",
      "display_name": "Python 3"
    },
    "language_info": {
      "name": "python"
    }
  },
  "cells": [
    {
      "cell_type": "markdown",
      "metadata": {
        "id": "view-in-github",
        "colab_type": "text"
      },
      "source": [
        "<a href=\"https://colab.research.google.com/github/JuanParias29/BigDataProcessing/blob/main/Arias_SQL_Spark.ipynb\" target=\"_parent\"><img src=\"https://colab.research.google.com/assets/colab-badge.svg\" alt=\"Open In Colab\"/></a>"
      ]
    },
    {
      "cell_type": "markdown",
      "source": [
        "![LOGO_PUJ.png](data:image/png;base64,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)\n",
        "\n",
        "***Pontificia Universidad Javeriana***\n",
        "# **Procesamiento de Alto Volumen de Datos**\n",
        "\n",
        "### Taller: **SQL con PySpark**\n",
        "\n",
        "Autor: Juan Pablo Arias Buitrago\n",
        "\n",
        "Fecha:5/05/2025\n",
        "\n",
        "**Objetivo**: Uso de SQL como motor de Consultas sobre DataFrame Spark.\n",
        "\n",
        "Proporciona una abstracción de programación denominada DataFrames y también puede actuar como motor de consulta SQL distribuido. Permite ejecutar consultas Hadoop Hive no modificadas hasta 100 veces más rápido en implementaciones y datos existentes. También proporciona una potente integración con el resto del ecosistema Spark (por ejemplo, integrando el procesamiento de consultas SQL con MLib).\n",
        "\n",
        "Spark SQL aporta soporte nativo para SQL a Spark y agiliza el proceso de consulta de datos almacenados tanto en RDD como en fuentes externas. Spark SQL difumina convenientemente las líneas entre RDDs y tablas relacionales. Spark SQL permite:\n",
        "\n",
        "- Importar datos relacionales de archivos Parquet y tablas Hive\n",
        "- Ejecutar consultas SQL sobre datos importados y RDDs existentes\n",
        "- Escribir fácilmente RDDs en tablas Hive o archivos Parquet.\n",
        "\n",
        "Spark SQL también incluye un optimizador basado en costes, almacenamiento en columnas y generación de código para agilizar las consultas. Al mismo tiempo, escala a miles de nodos y consultas de varias horas utilizando el motor Spark, que proporciona una tolerancia total a fallos a mitad de consulta, sin tener que preocuparse de utilizar un motor diferente para los datos históricos.\n",
        "\n",
        "____________________________________________________"
      ],
      "metadata": {
        "id": "jMm8j1zH9nTE"
      }
    },
    {
      "cell_type": "markdown",
      "source": [
        "**1.- Crear sessión PySpark SQL**\n",
        "\n",
        "\n",
        "\n",
        "```\n",
        "from pyspark.sql.functions import col, when, avg\n",
        "from pyspark.sql import SparkSession\n",
        "\n",
        "spark = SparkSession.builder.appName(\"TallerSQL\").getOrCreate()\n",
        "```\n",
        "\n"
      ],
      "metadata": {
        "id": "o886sDVt_81C"
      }
    },
    {
      "cell_type": "code",
      "execution_count": 1,
      "metadata": {
        "id": "fUJTGTwe5bJ6"
      },
      "outputs": [],
      "source": [
        "# Importar librerias\n",
        "from pyspark.sql.functions import col, when, avg\n",
        "from pyspark.sql import SparkSession\n",
        "\n",
        "# Crear sesion\n",
        "spark = SparkSession.builder.appName(\"TallerSQL\").getOrCreate()"
      ]
    },
    {
      "cell_type": "markdown",
      "source": [
        "**2.-Crear DataFrame Spark:**\n",
        "- Al menos 15 registros: nombres y edades entre (10 y 70 años)**\n",
        "- Mostrar dataframe\n",
        "\n",
        "```\n",
        "df00 = spark.createDataFrame(\n",
        "        [\n",
        "            (\"nombre1\", 22),\n",
        "            (\"nombre2\", 31),\n",
        "        ],\n",
        "        [\"Nombre\", \"Edad\"],\n",
        ")\n",
        "```"
      ],
      "metadata": {
        "id": "mx1yUKjD_5-w"
      }
    },
    {
      "cell_type": "code",
      "source": [
        "df00 = spark.createDataFrame(\n",
        "    [\n",
        "        (\"juan\", 22),\n",
        "        (\"maria\", 31),\n",
        "        (\"jose\", 68),\n",
        "        (\"laura\", 12),\n",
        "        (\"manuel\", 53),\n",
        "        (\"ana\", 11),\n",
        "        (\"pedro\", 18),\n",
        "        (\"luis\", 37),\n",
        "        (\"sofia\", 19),\n",
        "        (\"carlos\", 41),\n",
        "        (\"sandra\", 33),\n",
        "        (\"elena\", 15),\n",
        "        (\"roberto\", 56),\n",
        "        (\"valeria\", 30),\n",
        "        (\"fernando\", 10)\n",
        "    ],\n",
        "    [\"Nombre\", \"Edad\"]\n",
        ")"
      ],
      "metadata": {
        "id": "UcPV1Q2tpxyW"
      },
      "execution_count": 2,
      "outputs": []
    },
    {
      "cell_type": "markdown",
      "source": [
        "**3.- Agregue una nueva columna \"Etapa\":**\n",
        "- Niño: menores de 12 años\n",
        "- Adolescente: menores de 19 años\n",
        "- Adulto: mayor que 19 años\n",
        "- Mostrar dataframe\n",
        "\n",
        "\n",
        "\n",
        "```\n",
        "df1 = df.withColumn(\n",
        "    \"nombreColumna\",\n",
        "    when(col(\"nom\") < 100, \"vivo\")\n",
        "    .when(col(\"nom\").between(100, 180), \"novivo\")\n",
        "    .otherwise(\"nacer\"),\n",
        ")\n",
        "```"
      ],
      "metadata": {
        "id": "PM8PKgzJBsAs"
      }
    },
    {
      "cell_type": "code",
      "source": [
        "df1 = df00.withColumn(\n",
        "    \"Etapa\",\n",
        "    when(col(\"Edad\") >19, \"Adulto\")\n",
        "    .when(col(\"Edad\").between(12, 19), \"Adolescente\")\n",
        "    .when(col(\"Edad\") < 12, \"Niño\")\n",
        "    .otherwise(\"sin etapa\"),\n",
        ")\n",
        "df1.show()"
      ],
      "metadata": {
        "colab": {
          "base_uri": "https://localhost:8080/"
        },
        "id": "JBIi6qfnq2Fb",
        "outputId": "5d5a8256-df32-4a3c-d9e1-3119910a3bb4"
      },
      "execution_count": 3,
      "outputs": [
        {
          "output_type": "stream",
          "name": "stdout",
          "text": [
            "+--------+----+-----------+\n",
            "|  Nombre|Edad|      Etapa|\n",
            "+--------+----+-----------+\n",
            "|    juan|  22|     Adulto|\n",
            "|   maria|  31|     Adulto|\n",
            "|    jose|  68|     Adulto|\n",
            "|   laura|  12|Adolescente|\n",
            "|  manuel|  53|     Adulto|\n",
            "|     ana|  11|       Niño|\n",
            "|   pedro|  18|Adolescente|\n",
            "|    luis|  37|     Adulto|\n",
            "|   sofia|  19|Adolescente|\n",
            "|  carlos|  41|     Adulto|\n",
            "|  sandra|  33|     Adulto|\n",
            "|   elena|  15|Adolescente|\n",
            "| roberto|  56|     Adulto|\n",
            "| valeria|  30|     Adulto|\n",
            "|fernando|  10|       Niño|\n",
            "+--------+----+-----------+\n",
            "\n"
          ]
        }
      ]
    },
    {
      "cell_type": "markdown",
      "source": [
        "**4.- Filtre los datos que son solo 'Adolescentes y Adultos'**\n",
        "\n",
        "\n",
        "```\n",
        "dfA.where(col(\"columna\").isin([\"vivo\", \"novivo\"])).show()\n",
        "```"
      ],
      "metadata": {
        "id": "WmfamSKBDVkV"
      }
    },
    {
      "cell_type": "code",
      "source": [
        "df1 = df1.where(col(\"Etapa\").isin([\"Adolescente\", \"Adulto\"]))\n",
        "df1.show()"
      ],
      "metadata": {
        "colab": {
          "base_uri": "https://localhost:8080/"
        },
        "id": "zCeCIy4zrpmg",
        "outputId": "417555ca-87f8-455a-ddb8-12a6f1b446a8"
      },
      "execution_count": 4,
      "outputs": [
        {
          "output_type": "stream",
          "name": "stdout",
          "text": [
            "+-------+----+-----------+\n",
            "| Nombre|Edad|      Etapa|\n",
            "+-------+----+-----------+\n",
            "|   juan|  22|     Adulto|\n",
            "|  maria|  31|     Adulto|\n",
            "|   jose|  68|     Adulto|\n",
            "|  laura|  12|Adolescente|\n",
            "| manuel|  53|     Adulto|\n",
            "|  pedro|  18|Adolescente|\n",
            "|   luis|  37|     Adulto|\n",
            "|  sofia|  19|Adolescente|\n",
            "| carlos|  41|     Adulto|\n",
            "| sandra|  33|     Adulto|\n",
            "|  elena|  15|Adolescente|\n",
            "|roberto|  56|     Adulto|\n",
            "|valeria|  30|     Adulto|\n",
            "+-------+----+-----------+\n",
            "\n"
          ]
        }
      ]
    },
    {
      "cell_type": "markdown",
      "source": [
        "### Consultas al Dataframe por SQL\n",
        "\n",
        "**5.- Consulte el promedio de la columna Edad**\n",
        "\n",
        "\n",
        "\n",
        "```\n",
        "spark.sql(\"select avg(Edad) from {dfB}\", dfB=dfB).show()\n",
        "```"
      ],
      "metadata": {
        "id": "9HT_eOz3ELy-"
      }
    },
    {
      "cell_type": "code",
      "source": [
        "spark.sql(\"select avg(Edad) from {df1}\", df1=df1).show()"
      ],
      "metadata": {
        "colab": {
          "base_uri": "https://localhost:8080/"
        },
        "id": "m632ld2sr0HN",
        "outputId": "5d078feb-9bfd-444f-ea73-a54a458155eb"
      },
      "execution_count": 5,
      "outputs": [
        {
          "output_type": "stream",
          "name": "stdout",
          "text": [
            "+-----------------+\n",
            "|        avg(Edad)|\n",
            "+-----------------+\n",
            "|33.46153846153846|\n",
            "+-----------------+\n",
            "\n"
          ]
        }
      ]
    },
    {
      "cell_type": "markdown",
      "source": [
        "**6.- Consulte el promedio de la columna Edad por Etapa**\n",
        "\n",
        "\n",
        "\n",
        "```\n",
        "spark.sql(\"select colStage, avg(edad) from {dfH} group by colStage\", dfH=dfH).show()\n",
        "```\n",
        "\n"
      ],
      "metadata": {
        "id": "rOWfBfseExTS"
      }
    },
    {
      "cell_type": "code",
      "source": [
        "spark.sql(\"select Etapa, avg(Edad) from {df1} group by Etapa\", df1=df1).show()"
      ],
      "metadata": {
        "colab": {
          "base_uri": "https://localhost:8080/"
        },
        "id": "Ll052d6dsAhq",
        "outputId": "474735cb-a2aa-41a6-e2e8-d84cccff5f5d"
      },
      "execution_count": 6,
      "outputs": [
        {
          "output_type": "stream",
          "name": "stdout",
          "text": [
            "+-----------+-----------------+\n",
            "|      Etapa|        avg(Edad)|\n",
            "+-----------+-----------------+\n",
            "|Adolescente|             16.0|\n",
            "|     Adulto|41.22222222222222|\n",
            "+-----------+-----------------+\n",
            "\n"
          ]
        }
      ]
    },
    {
      "cell_type": "markdown",
      "source": [
        "**7.- Persistencia: crear un tabla para ser facilmente accesible por el API SQL**\n",
        "\n",
        "- Crear la tabla\n",
        "- Mostrar la tabla creada\n",
        "- Insertar al menos 4 nuevos registros\n",
        "- Mostrar nueva tabla\n",
        "\n",
        "```\n",
        "dfG.write.saveAsTable(\"nombreTabla\")\n",
        "\n",
        "spark.sql(\"select * from nombreTabla\").show()\n",
        "\n",
        "spark.sql(\"INSERT INTO nombreTabla VALUES ('nNombre', 14, 'vivo')\")\n",
        "```"
      ],
      "metadata": {
        "id": "6iupKCo3F6fs"
      }
    },
    {
      "cell_type": "code",
      "source": [
        "df1.write.saveAsTable(\"TableSql\")\n",
        "\n",
        "spark.sql(\"select * from TableSql\").show()\n",
        "\n",
        "spark.sql(\"INSERT INTO TableSql VALUES ('Davin ci', 33, 'Adulto')\")\n",
        "\n",
        "spark.sql(\"select * from TableSql\").show()"
      ],
      "metadata": {
        "colab": {
          "base_uri": "https://localhost:8080/"
        },
        "id": "CiVT6OyysaOC",
        "outputId": "5fe12bd6-46ac-4183-926d-5e1f90d17a1e"
      },
      "execution_count": 10,
      "outputs": [
        {
          "output_type": "stream",
          "name": "stdout",
          "text": [
            "+-------+----+-----------+\n",
            "| Nombre|Edad|      Etapa|\n",
            "+-------+----+-----------+\n",
            "|   luis|  37|     Adulto|\n",
            "|  sofia|  19|Adolescente|\n",
            "| carlos|  41|     Adulto|\n",
            "| sandra|  33|     Adulto|\n",
            "|  elena|  15|Adolescente|\n",
            "|roberto|  56|     Adulto|\n",
            "|valeria|  30|     Adulto|\n",
            "|   juan|  22|     Adulto|\n",
            "|  maria|  31|     Adulto|\n",
            "|   jose|  68|     Adulto|\n",
            "|  laura|  12|Adolescente|\n",
            "| manuel|  53|     Adulto|\n",
            "|  pedro|  18|Adolescente|\n",
            "+-------+----+-----------+\n",
            "\n",
            "+--------+----+-----------+\n",
            "|  Nombre|Edad|      Etapa|\n",
            "+--------+----+-----------+\n",
            "|    luis|  37|     Adulto|\n",
            "|   sofia|  19|Adolescente|\n",
            "|  carlos|  41|     Adulto|\n",
            "|  sandra|  33|     Adulto|\n",
            "|   elena|  15|Adolescente|\n",
            "| roberto|  56|     Adulto|\n",
            "| valeria|  30|     Adulto|\n",
            "|    juan|  22|     Adulto|\n",
            "|   maria|  31|     Adulto|\n",
            "|    jose|  68|     Adulto|\n",
            "|   laura|  12|Adolescente|\n",
            "|  manuel|  53|     Adulto|\n",
            "|   pedro|  18|Adolescente|\n",
            "|Davin ci|  33|     Adulto|\n",
            "+--------+----+-----------+\n",
            "\n"
          ]
        }
      ]
    },
    {
      "cell_type": "markdown",
      "source": [
        "**8.- Consulte en la tabla los adolescentes:**\n",
        "\n",
        "\n",
        "\n",
        "```\n",
        "spark.sql(\"select * from TablaNombre where NTapaS='vivos'\").show()\n",
        "```"
      ],
      "metadata": {
        "id": "ns6BbXgdHiB_"
      }
    },
    {
      "cell_type": "code",
      "source": [
        "spark.sql(\"select * from TableSql where Etapa='Adolescente'\").show()"
      ],
      "metadata": {
        "colab": {
          "base_uri": "https://localhost:8080/"
        },
        "id": "6MOR1Upns_iY",
        "outputId": "e061073e-f124-48cd-f26f-d56247397e8a"
      },
      "execution_count": 11,
      "outputs": [
        {
          "output_type": "stream",
          "name": "stdout",
          "text": [
            "+------+----+-----------+\n",
            "|Nombre|Edad|      Etapa|\n",
            "+------+----+-----------+\n",
            "| sofia|  19|Adolescente|\n",
            "| elena|  15|Adolescente|\n",
            "| laura|  12|Adolescente|\n",
            "| pedro|  18|Adolescente|\n",
            "+------+----+-----------+\n",
            "\n"
          ]
        }
      ]
    },
    {
      "cell_type": "markdown",
      "source": [
        "## RDD Spark\n",
        "\n",
        "**9.- Carge el Fichero [texto.txt](https://github.com/corredor-john/ExploratoryDataAnalisys/blob/f5444496cfbb1a2c2ec2c71592c321e557c0e5ae/Texto/SMSSpamCollection.txt) para ser leido por el contexto SPARK**\n",
        "\n",
        "- Descargue el fichero\n",
        "- Crear el contexto y cargue el fichero\n",
        "\n",
        "\n",
        "\n",
        "```\n",
        "fichero = spark.sparkContext.textFile(\"texto.txt\")\n",
        "\n",
        "counts = (\n",
        "    fichero.flatMap(lambda linea: linea.split(\" \"))\n",
        "    .map(lambda palabra: (palabra, 1))\n",
        "    .reduceByKey(lambda a, b: a + b)\n",
        ")\n",
        "```\n",
        "\n"
      ],
      "metadata": {
        "id": "dadIQP7fIdYZ"
      }
    },
    {
      "cell_type": "code",
      "source": [
        "fichero = spark.sparkContext.textFile(\"texto.txt\")\n",
        "\n",
        "counts = (\n",
        "    fichero.flatMap(lambda linea: linea.split(\" \"))\n",
        "    .map(lambda palabra: (palabra, 1))\n",
        "    .reduceByKey(lambda a, b: a + b)\n",
        ")"
      ],
      "metadata": {
        "id": "KexEowFx9SGJ"
      },
      "execution_count": 12,
      "outputs": []
    },
    {
      "cell_type": "markdown",
      "source": [
        "## **10.- Conclusiones: redacte sus conclusiones por cada paso y conclusión final de Cierre**\n",
        "\n",
        "### Resumen de lo hecho en el notebook\n",
        "\n",
        "- **Paso 1:** Se importan las librerias necesarias de funciones sql para jugar con el dataset e iniciar sesión en spark para poder usar las funciones.\n",
        "- **Paso 2:** Se crea el dataset de forma manual con la funcion CreateDataFrame que crea un objeto tipo Frame en spark.\n",
        "- **Paso 3 y 4:** Utilizando el código proporcionado del docente se hacen filtros y consultas básicas al DataFrame\n",
        "- **Paso 5 y 6:** Se utilizan funciones aritméticas  al conjunto de datos.\n",
        "- **Paso 7 y 8:** Se crea una tabla sql usando la API que proporciona SPARK con el fin de mantener los datos y recuperarlos en cualquier momento, manteniendo la *persisntencia*\n",
        "- **Paso 9:** Se sube un fichero de forma local para en un futuro trabajar con el.\n",
        "---\n",
        "\n",
        "### Conclusiones y Aprendizajes\n",
        "\n",
        "1. Se concluyo que Spark nos permite crear datasets y usar objetos Dataframes para jugar con ellos, importante en Big Data.\n",
        "2. EL uso de SQL nos permitio mantener la persistencia del conjunto de datos, vital al momento de hacer transformaciones y cambios.\n",
        "3. Considero que el taller fue practico y útil para entender el funcionamiento de SparkSQL como montor de consultas, sin embargo con un contexto de negocio podría verse más reflejado su utilidad en la industria."
      ],
      "metadata": {
        "id": "QaMp7qVgIOYc"
      }
    }
  ]
}