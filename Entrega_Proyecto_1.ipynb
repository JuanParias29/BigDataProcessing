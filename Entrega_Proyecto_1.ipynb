{
  "nbformat": 4,
  "nbformat_minor": 0,
  "metadata": {
    "colab": {
      "provenance": [],
      "collapsed_sections": [
        "n-HF4mPSM86C"
      ],
      "include_colab_link": true
    },
    "kernelspec": {
      "name": "python3",
      "display_name": "Python 3"
    },
    "language_info": {
      "name": "python"
    }
  },
  "cells": [
    {
      "cell_type": "markdown",
      "metadata": {
        "id": "view-in-github",
        "colab_type": "text"
      },
      "source": [
        "<a href=\"https://colab.research.google.com/github/JuanParias29/BigDataProcessing/blob/main/Entrega_Proyecto_1.ipynb\" target=\"_parent\"><img src=\"https://colab.research.google.com/assets/colab-badge.svg\" alt=\"Open In Colab\"/></a>"
      ]
    },
    {
      "cell_type": "markdown",
      "source": [
        "# **Entendimiento del Negocio**\n",
        "\n",
        "* **Desigualdad educativa en Colombia**  \n",
        "En Colombia, la calidad educativa presenta notables diferencias entre las grandes ciudades como Bogotá y Medellín, y ciudades más pequeñas como Armenia y Neiva. Las ciudades más pequeñas, ubicadas en regiones con menores recursos y oferta académica, enfrentan desafíos significativos en comparación con las principales urbes del país.\n",
        "\n",
        "* **Factores influyentes**  \n",
        "Diversos factores, como el acceso a recursos educativos, la conectividad a Internet y el nivel socioeconómico de las familias, influyen en los resultados de la prueba ICFES 11, evidenciando la desigualdad educativa en distintas zonas del país.\n",
        "\n",
        "* **Fuente de datos**  \n",
        "El análisis de esta situación se basa en datos provenientes de fuentes oficiales y abiertas, como los datos abiertos de Colombia y el **DANE** (Departamento Administrativo Nacional de Estadística). Estos datos permiten realizar un análisis detallado y contrastante, proporcionando una representación objetiva de la situación educativa en diferentes regiones del país.\n",
        "\n",
        "* **Indicadores macroeconómicos**  \n",
        "Además de los datos educativos, se consideran indicadores macroeconómicos como el desempleo, la pobreza y la inversión pública para comprender mejor los desafíos educativos específicos de cada región.\n",
        "\n",
        "---"
      ],
      "metadata": {
        "id": "tkWmCV-EEwz0"
      }
    },
    {
      "cell_type": "markdown",
      "source": [
        "# Análisis Exploratorio de Datos (EDA)\n",
        "\n",
        "El Análisis Exploratorio de Datos (EDA) es una fase clave en el análisis de datos que nos ayuda a comprender el comportamiento del conjunto de datos. Su objetivo es:\n",
        "\n",
        "1. **Detectar datos atípicos**: Identificar valores que se desvían significativamente de la norma y decidir si se deben eliminar o investigar.\n",
        "\n",
        "2. **Encontrar valores nulos**: Localizar datos faltantes para evaluar cómo afectan al análisis y decidir cómo manejarlos.\n",
        "\n",
        "3. **Identificar patrones y tendencias**: Descubrir relaciones entre variables y comportamientos generales dentro del conjunto de datos.\n",
        "\n",
        "4. **Revisar distribuciones**: Analizar la distribución de las variables para entender su comportamiento y detectar sesgos.\n",
        "\n",
        "5. **Obtener estadísticas descriptivas**: Resumir las principales características de los datos, como la media, mediana y desviación estándar."
      ],
      "metadata": {
        "id": "Pe7XDofIIIO2"
      }
    },
    {
      "cell_type": "code",
      "execution_count": null,
      "metadata": {
        "id": "M0FixVuKEN0T",
        "colab": {
          "base_uri": "https://localhost:8080/"
        },
        "outputId": "26195939-9e5c-41d3-9d8f-f7fd43162fad"
      },
      "outputs": [
        {
          "output_type": "stream",
          "name": "stdout",
          "text": [
            "Mounted at /content/drive\n"
          ]
        }
      ],
      "source": [
        "# Importar las librerias\n",
        "import pandas as pd\n",
        "import numpy as np\n",
        "from pandas import DataFrame\n",
        "\n",
        "# Visualización de datos\n",
        "import seaborn as sns\n",
        "import matplotlib.pyplot as plt\n",
        "import plotly.express as px\n",
        "\n",
        "# Matemáticas, tiempo, manipulación\n",
        "import math\n",
        "import time\n",
        "import os\n",
        "\n",
        "# Drive\n",
        "from google.colab import drive\n",
        "drive.mount('/content/drive')"
      ]
    },
    {
      "cell_type": "code",
      "source": [
        "!ls \"/content/drive/MyDrive/PROCESAMIENTO_BIG_DATA/Estadisticas_educacion_2016-2022.csv\""
      ],
      "metadata": {
        "colab": {
          "base_uri": "https://localhost:8080/"
        },
        "id": "jv9pmagyjMDJ",
        "outputId": "d34e3910-f013-4340-d7cf-afc981446434"
      },
      "execution_count": null,
      "outputs": [
        {
          "output_type": "stream",
          "name": "stdout",
          "text": [
            "/content/drive/MyDrive/PROCESAMIENTO_BIG_DATA/Estadisticas_educacion_2016-2022.csv\n"
          ]
        }
      ]
    },
    {
      "cell_type": "code",
      "source": [
        "# Ruta de los diccionarios de datos en Google Drive\n",
        "file_path1 = '/content/drive/MyDrive/PROCESAMIENTO_BIG_DATA/Estadisticas_educacion_2016-2022.csv'\n",
        "file_path2 = '/content/drive/MyDrive/PROCESAMIENTO_BIG_DATA/Estadisticas_matriculas_2016-2020.csv'\n",
        "file_path3 = '/content/drive/MyDrive/PROCESAMIENTO_BIG_DATA/Inversion_municipal_Duque.csv'\n",
        "file_path4 = '/content/drive/MyDrive/PROCESAMIENTO_BIG_DATA/Penetracion_internet_2016-2022.csv'\n",
        "file_path5 = '/content/drive/MyDrive/PROCESAMIENTO_BIG_DATA/Indice_pobreza_2019-2022.csv'\n",
        "file_path6 = '/content/drive/MyDrive/PROCESAMIENTO_BIG_DATA/Resultados_Saber11_armenia.csv'\n",
        "file_path7 = '/content/drive/MyDrive/PROCESAMIENTO_BIG_DATA/Resultados_Saber11_bogota.csv'\n",
        "file_path8 = '/content/drive/MyDrive/PROCESAMIENTO_BIG_DATA/Resultados_Saber11_medellin.csv'\n",
        "file_path9 = '/content/drive/MyDrive/PROCESAMIENTO_BIG_DATA/Resultados_Saber11_neiva.csv'\n",
        "\n",
        "# Cargar el archivo desde Google Drive\n",
        "educacion = pd.read_csv(file_path1)\n",
        "matriculas = pd.read_csv(file_path2)\n",
        "inversion = pd.read_csv(file_path3)\n",
        "internet = pd.read_csv(file_path4)\n",
        "pobreza = pd.read_csv(file_path5)\n",
        "icfes_armenia = pd.read_csv(file_path6)\n",
        "icfes_bogota = pd.read_csv(file_path7)\n",
        "icfes_medellin = pd.read_csv(file_path8)\n",
        "icfes_neiva = pd.read_csv(file_path9)"
      ],
      "metadata": {
        "id": "8R5anhBTIDED",
        "colab": {
          "base_uri": "https://localhost:8080/"
        },
        "outputId": "276848f8-c891-4ca2-d097-fc3884245b9e"
      },
      "execution_count": null,
      "outputs": [
        {
          "output_type": "stream",
          "name": "stderr",
          "text": [
            "<ipython-input-3-df48e3e2f527>:17: DtypeWarning: Columns (0,1,25,26,31,33) have mixed types. Specify dtype option on import or set low_memory=False.\n",
            "  pobreza = pd.read_csv(file_path5)\n",
            "<ipython-input-3-df48e3e2f527>:20: DtypeWarning: Columns (45,46) have mixed types. Specify dtype option on import or set low_memory=False.\n",
            "  icfes_medellin = pd.read_csv(file_path8)\n"
          ]
        }
      ]
    },
    {
      "cell_type": "markdown",
      "source": [
        "---\n",
        "## **🛜 Internet por Municipio**"
      ],
      "metadata": {
        "id": "KOLAcc-tID6r"
      }
    },
    {
      "cell_type": "markdown",
      "source": [
        "### 📚Descripción general del contenido de los conjuntos de datos\n",
        "- Los conjuntos de datos incluyen información sobre el acceso a Internet fijo en Colombia, detallando el número de suscriptores con conexión dedicada por departamento y municipio, con reportes trimestrales desde 2015-4T hasta el último trimestre disponible. Además, presentan el porcentaje de penetración de Internet fijo, calculado con base en las proyecciones de población del DANE. También contienen datos sobre la Matrícula en Educación Superior, desagregados por nivel de formación y municipio, permitiendo el análisis de su distribución y evolución en el país."
      ],
      "metadata": {
        "id": "QKlK8AgdwAMp"
      }
    },
    {
      "cell_type": "code",
      "source": [
        "# Mostrar las primeras filas del dataset\n",
        "display(internet.head())\n",
        "\n",
        "# Mostrar la cantidad de filas y columnas\n",
        "internet.shape"
      ],
      "metadata": {
        "id": "pnBE9HxI3Wbh",
        "colab": {
          "base_uri": "https://localhost:8080/",
          "height": 223
        },
        "outputId": "03de60bb-8739-40b9-8a11-8aebb2bf05ab"
      },
      "execution_count": null,
      "outputs": [
        {
          "output_type": "display_data",
          "data": {
            "text/plain": [
              "    AÑO  TRIMESTRE  COD_DEPARTAMENTO DEPARTAMENTO  COD_MUNICIPIO MUNICIPIO  \\\n",
              "0  2016          1                 5    ANTIOQUIA           5059   ARMENIA   \n",
              "1  2020          1                63      QUINDÍO          63001   ARMENIA   \n",
              "2  2019          3                 5    ANTIOQUIA           5059   ARMENIA   \n",
              "3  2016          3                 5    ANTIOQUIA           5059   ARMENIA   \n",
              "4  2022          2                 5    ANTIOQUIA           5059   ARMENIA   \n",
              "\n",
              "   No. ACCESOS FIJOS A INTERNET  POBLACIÓN DANE INDICE  \n",
              "0                           233            5212   4,47  \n",
              "1                         77271          302613  25,53  \n",
              "2                           115            5085   2,26  \n",
              "3                           398            5212   7,64  \n",
              "4                           779            5314  14,66  "
            ],
            "text/html": [
              "\n",
              "  <div id=\"df-8820e895-cc59-444d-ad6b-ce304903a14d\" class=\"colab-df-container\">\n",
              "    <div>\n",
              "<style scoped>\n",
              "    .dataframe tbody tr th:only-of-type {\n",
              "        vertical-align: middle;\n",
              "    }\n",
              "\n",
              "    .dataframe tbody tr th {\n",
              "        vertical-align: top;\n",
              "    }\n",
              "\n",
              "    .dataframe thead th {\n",
              "        text-align: right;\n",
              "    }\n",
              "</style>\n",
              "<table border=\"1\" class=\"dataframe\">\n",
              "  <thead>\n",
              "    <tr style=\"text-align: right;\">\n",
              "      <th></th>\n",
              "      <th>AÑO</th>\n",
              "      <th>TRIMESTRE</th>\n",
              "      <th>COD_DEPARTAMENTO</th>\n",
              "      <th>DEPARTAMENTO</th>\n",
              "      <th>COD_MUNICIPIO</th>\n",
              "      <th>MUNICIPIO</th>\n",
              "      <th>No. ACCESOS FIJOS A INTERNET</th>\n",
              "      <th>POBLACIÓN DANE</th>\n",
              "      <th>INDICE</th>\n",
              "    </tr>\n",
              "  </thead>\n",
              "  <tbody>\n",
              "    <tr>\n",
              "      <th>0</th>\n",
              "      <td>2016</td>\n",
              "      <td>1</td>\n",
              "      <td>5</td>\n",
              "      <td>ANTIOQUIA</td>\n",
              "      <td>5059</td>\n",
              "      <td>ARMENIA</td>\n",
              "      <td>233</td>\n",
              "      <td>5212</td>\n",
              "      <td>4,47</td>\n",
              "    </tr>\n",
              "    <tr>\n",
              "      <th>1</th>\n",
              "      <td>2020</td>\n",
              "      <td>1</td>\n",
              "      <td>63</td>\n",
              "      <td>QUINDÍO</td>\n",
              "      <td>63001</td>\n",
              "      <td>ARMENIA</td>\n",
              "      <td>77271</td>\n",
              "      <td>302613</td>\n",
              "      <td>25,53</td>\n",
              "    </tr>\n",
              "    <tr>\n",
              "      <th>2</th>\n",
              "      <td>2019</td>\n",
              "      <td>3</td>\n",
              "      <td>5</td>\n",
              "      <td>ANTIOQUIA</td>\n",
              "      <td>5059</td>\n",
              "      <td>ARMENIA</td>\n",
              "      <td>115</td>\n",
              "      <td>5085</td>\n",
              "      <td>2,26</td>\n",
              "    </tr>\n",
              "    <tr>\n",
              "      <th>3</th>\n",
              "      <td>2016</td>\n",
              "      <td>3</td>\n",
              "      <td>5</td>\n",
              "      <td>ANTIOQUIA</td>\n",
              "      <td>5059</td>\n",
              "      <td>ARMENIA</td>\n",
              "      <td>398</td>\n",
              "      <td>5212</td>\n",
              "      <td>7,64</td>\n",
              "    </tr>\n",
              "    <tr>\n",
              "      <th>4</th>\n",
              "      <td>2022</td>\n",
              "      <td>2</td>\n",
              "      <td>5</td>\n",
              "      <td>ANTIOQUIA</td>\n",
              "      <td>5059</td>\n",
              "      <td>ARMENIA</td>\n",
              "      <td>779</td>\n",
              "      <td>5314</td>\n",
              "      <td>14,66</td>\n",
              "    </tr>\n",
              "  </tbody>\n",
              "</table>\n",
              "</div>\n",
              "    <div class=\"colab-df-buttons\">\n",
              "\n",
              "  <div class=\"colab-df-container\">\n",
              "    <button class=\"colab-df-convert\" onclick=\"convertToInteractive('df-8820e895-cc59-444d-ad6b-ce304903a14d')\"\n",
              "            title=\"Convert this dataframe to an interactive table.\"\n",
              "            style=\"display:none;\">\n",
              "\n",
              "  <svg xmlns=\"http://www.w3.org/2000/svg\" height=\"24px\" viewBox=\"0 -960 960 960\">\n",
              "    <path d=\"M120-120v-720h720v720H120Zm60-500h600v-160H180v160Zm220 220h160v-160H400v160Zm0 220h160v-160H400v160ZM180-400h160v-160H180v160Zm440 0h160v-160H620v160ZM180-180h160v-160H180v160Zm440 0h160v-160H620v160Z\"/>\n",
              "  </svg>\n",
              "    </button>\n",
              "\n",
              "  <style>\n",
              "    .colab-df-container {\n",
              "      display:flex;\n",
              "      gap: 12px;\n",
              "    }\n",
              "\n",
              "    .colab-df-convert {\n",
              "      background-color: #E8F0FE;\n",
              "      border: none;\n",
              "      border-radius: 50%;\n",
              "      cursor: pointer;\n",
              "      display: none;\n",
              "      fill: #1967D2;\n",
              "      height: 32px;\n",
              "      padding: 0 0 0 0;\n",
              "      width: 32px;\n",
              "    }\n",
              "\n",
              "    .colab-df-convert:hover {\n",
              "      background-color: #E2EBFA;\n",
              "      box-shadow: 0px 1px 2px rgba(60, 64, 67, 0.3), 0px 1px 3px 1px rgba(60, 64, 67, 0.15);\n",
              "      fill: #174EA6;\n",
              "    }\n",
              "\n",
              "    .colab-df-buttons div {\n",
              "      margin-bottom: 4px;\n",
              "    }\n",
              "\n",
              "    [theme=dark] .colab-df-convert {\n",
              "      background-color: #3B4455;\n",
              "      fill: #D2E3FC;\n",
              "    }\n",
              "\n",
              "    [theme=dark] .colab-df-convert:hover {\n",
              "      background-color: #434B5C;\n",
              "      box-shadow: 0px 1px 3px 1px rgba(0, 0, 0, 0.15);\n",
              "      filter: drop-shadow(0px 1px 2px rgba(0, 0, 0, 0.3));\n",
              "      fill: #FFFFFF;\n",
              "    }\n",
              "  </style>\n",
              "\n",
              "    <script>\n",
              "      const buttonEl =\n",
              "        document.querySelector('#df-8820e895-cc59-444d-ad6b-ce304903a14d button.colab-df-convert');\n",
              "      buttonEl.style.display =\n",
              "        google.colab.kernel.accessAllowed ? 'block' : 'none';\n",
              "\n",
              "      async function convertToInteractive(key) {\n",
              "        const element = document.querySelector('#df-8820e895-cc59-444d-ad6b-ce304903a14d');\n",
              "        const dataTable =\n",
              "          await google.colab.kernel.invokeFunction('convertToInteractive',\n",
              "                                                    [key], {});\n",
              "        if (!dataTable) return;\n",
              "\n",
              "        const docLinkHtml = 'Like what you see? Visit the ' +\n",
              "          '<a target=\"_blank\" href=https://colab.research.google.com/notebooks/data_table.ipynb>data table notebook</a>'\n",
              "          + ' to learn more about interactive tables.';\n",
              "        element.innerHTML = '';\n",
              "        dataTable['output_type'] = 'display_data';\n",
              "        await google.colab.output.renderOutput(dataTable, element);\n",
              "        const docLink = document.createElement('div');\n",
              "        docLink.innerHTML = docLinkHtml;\n",
              "        element.appendChild(docLink);\n",
              "      }\n",
              "    </script>\n",
              "  </div>\n",
              "\n",
              "\n",
              "<div id=\"df-d2635587-73f4-4af8-808c-019fce273560\">\n",
              "  <button class=\"colab-df-quickchart\" onclick=\"quickchart('df-d2635587-73f4-4af8-808c-019fce273560')\"\n",
              "            title=\"Suggest charts\"\n",
              "            style=\"display:none;\">\n",
              "\n",
              "<svg xmlns=\"http://www.w3.org/2000/svg\" height=\"24px\"viewBox=\"0 0 24 24\"\n",
              "     width=\"24px\">\n",
              "    <g>\n",
              "        <path d=\"M19 3H5c-1.1 0-2 .9-2 2v14c0 1.1.9 2 2 2h14c1.1 0 2-.9 2-2V5c0-1.1-.9-2-2-2zM9 17H7v-7h2v7zm4 0h-2V7h2v10zm4 0h-2v-4h2v4z\"/>\n",
              "    </g>\n",
              "</svg>\n",
              "  </button>\n",
              "\n",
              "<style>\n",
              "  .colab-df-quickchart {\n",
              "      --bg-color: #E8F0FE;\n",
              "      --fill-color: #1967D2;\n",
              "      --hover-bg-color: #E2EBFA;\n",
              "      --hover-fill-color: #174EA6;\n",
              "      --disabled-fill-color: #AAA;\n",
              "      --disabled-bg-color: #DDD;\n",
              "  }\n",
              "\n",
              "  [theme=dark] .colab-df-quickchart {\n",
              "      --bg-color: #3B4455;\n",
              "      --fill-color: #D2E3FC;\n",
              "      --hover-bg-color: #434B5C;\n",
              "      --hover-fill-color: #FFFFFF;\n",
              "      --disabled-bg-color: #3B4455;\n",
              "      --disabled-fill-color: #666;\n",
              "  }\n",
              "\n",
              "  .colab-df-quickchart {\n",
              "    background-color: var(--bg-color);\n",
              "    border: none;\n",
              "    border-radius: 50%;\n",
              "    cursor: pointer;\n",
              "    display: none;\n",
              "    fill: var(--fill-color);\n",
              "    height: 32px;\n",
              "    padding: 0;\n",
              "    width: 32px;\n",
              "  }\n",
              "\n",
              "  .colab-df-quickchart:hover {\n",
              "    background-color: var(--hover-bg-color);\n",
              "    box-shadow: 0 1px 2px rgba(60, 64, 67, 0.3), 0 1px 3px 1px rgba(60, 64, 67, 0.15);\n",
              "    fill: var(--button-hover-fill-color);\n",
              "  }\n",
              "\n",
              "  .colab-df-quickchart-complete:disabled,\n",
              "  .colab-df-quickchart-complete:disabled:hover {\n",
              "    background-color: var(--disabled-bg-color);\n",
              "    fill: var(--disabled-fill-color);\n",
              "    box-shadow: none;\n",
              "  }\n",
              "\n",
              "  .colab-df-spinner {\n",
              "    border: 2px solid var(--fill-color);\n",
              "    border-color: transparent;\n",
              "    border-bottom-color: var(--fill-color);\n",
              "    animation:\n",
              "      spin 1s steps(1) infinite;\n",
              "  }\n",
              "\n",
              "  @keyframes spin {\n",
              "    0% {\n",
              "      border-color: transparent;\n",
              "      border-bottom-color: var(--fill-color);\n",
              "      border-left-color: var(--fill-color);\n",
              "    }\n",
              "    20% {\n",
              "      border-color: transparent;\n",
              "      border-left-color: var(--fill-color);\n",
              "      border-top-color: var(--fill-color);\n",
              "    }\n",
              "    30% {\n",
              "      border-color: transparent;\n",
              "      border-left-color: var(--fill-color);\n",
              "      border-top-color: var(--fill-color);\n",
              "      border-right-color: var(--fill-color);\n",
              "    }\n",
              "    40% {\n",
              "      border-color: transparent;\n",
              "      border-right-color: var(--fill-color);\n",
              "      border-top-color: var(--fill-color);\n",
              "    }\n",
              "    60% {\n",
              "      border-color: transparent;\n",
              "      border-right-color: var(--fill-color);\n",
              "    }\n",
              "    80% {\n",
              "      border-color: transparent;\n",
              "      border-right-color: var(--fill-color);\n",
              "      border-bottom-color: var(--fill-color);\n",
              "    }\n",
              "    90% {\n",
              "      border-color: transparent;\n",
              "      border-bottom-color: var(--fill-color);\n",
              "    }\n",
              "  }\n",
              "</style>\n",
              "\n",
              "  <script>\n",
              "    async function quickchart(key) {\n",
              "      const quickchartButtonEl =\n",
              "        document.querySelector('#' + key + ' button');\n",
              "      quickchartButtonEl.disabled = true;  // To prevent multiple clicks.\n",
              "      quickchartButtonEl.classList.add('colab-df-spinner');\n",
              "      try {\n",
              "        const charts = await google.colab.kernel.invokeFunction(\n",
              "            'suggestCharts', [key], {});\n",
              "      } catch (error) {\n",
              "        console.error('Error during call to suggestCharts:', error);\n",
              "      }\n",
              "      quickchartButtonEl.classList.remove('colab-df-spinner');\n",
              "      quickchartButtonEl.classList.add('colab-df-quickchart-complete');\n",
              "    }\n",
              "    (() => {\n",
              "      let quickchartButtonEl =\n",
              "        document.querySelector('#df-d2635587-73f4-4af8-808c-019fce273560 button');\n",
              "      quickchartButtonEl.style.display =\n",
              "        google.colab.kernel.accessAllowed ? 'block' : 'none';\n",
              "    })();\n",
              "  </script>\n",
              "</div>\n",
              "\n",
              "    </div>\n",
              "  </div>\n"
            ],
            "application/vnd.google.colaboratory.intrinsic+json": {
              "type": "dataframe",
              "summary": "{\n  \"name\": \"internet\",\n  \"rows\": 5,\n  \"fields\": [\n    {\n      \"column\": \"A\\u00d1O\",\n      \"properties\": {\n        \"dtype\": \"number\",\n        \"std\": 2,\n        \"min\": 2016,\n        \"max\": 2022,\n        \"num_unique_values\": 4,\n        \"samples\": [\n          2020,\n          2022,\n          2016\n        ],\n        \"semantic_type\": \"\",\n        \"description\": \"\"\n      }\n    },\n    {\n      \"column\": \"TRIMESTRE\",\n      \"properties\": {\n        \"dtype\": \"number\",\n        \"std\": 1,\n        \"min\": 1,\n        \"max\": 3,\n        \"num_unique_values\": 3,\n        \"samples\": [\n          1,\n          3,\n          2\n        ],\n        \"semantic_type\": \"\",\n        \"description\": \"\"\n      }\n    },\n    {\n      \"column\": \"COD_DEPARTAMENTO\",\n      \"properties\": {\n        \"dtype\": \"number\",\n        \"std\": 25,\n        \"min\": 5,\n        \"max\": 63,\n        \"num_unique_values\": 2,\n        \"samples\": [\n          63,\n          5\n        ],\n        \"semantic_type\": \"\",\n        \"description\": \"\"\n      }\n    },\n    {\n      \"column\": \"DEPARTAMENTO\",\n      \"properties\": {\n        \"dtype\": \"category\",\n        \"num_unique_values\": 2,\n        \"samples\": [\n          \"QUIND\\u00cdO\",\n          \"ANTIOQUIA\"\n        ],\n        \"semantic_type\": \"\",\n        \"description\": \"\"\n      }\n    },\n    {\n      \"column\": \"COD_MUNICIPIO\",\n      \"properties\": {\n        \"dtype\": \"number\",\n        \"std\": 25912,\n        \"min\": 5059,\n        \"max\": 63001,\n        \"num_unique_values\": 2,\n        \"samples\": [\n          63001,\n          5059\n        ],\n        \"semantic_type\": \"\",\n        \"description\": \"\"\n      }\n    },\n    {\n      \"column\": \"MUNICIPIO\",\n      \"properties\": {\n        \"dtype\": \"category\",\n        \"num_unique_values\": 1,\n        \"samples\": [\n          \"ARMENIA\"\n        ],\n        \"semantic_type\": \"\",\n        \"description\": \"\"\n      }\n    },\n    {\n      \"column\": \"No. ACCESOS FIJOS A INTERNET\",\n      \"properties\": {\n        \"dtype\": \"number\",\n        \"std\": 34387,\n        \"min\": 115,\n        \"max\": 77271,\n        \"num_unique_values\": 5,\n        \"samples\": [\n          77271\n        ],\n        \"semantic_type\": \"\",\n        \"description\": \"\"\n      }\n    },\n    {\n      \"column\": \"POBLACI\\u00d3N DANE\",\n      \"properties\": {\n        \"dtype\": \"number\",\n        \"std\": 133004,\n        \"min\": 5085,\n        \"max\": 302613,\n        \"num_unique_values\": 4,\n        \"samples\": [\n          302613\n        ],\n        \"semantic_type\": \"\",\n        \"description\": \"\"\n      }\n    },\n    {\n      \"column\": \"INDICE\",\n      \"properties\": {\n        \"dtype\": \"string\",\n        \"num_unique_values\": 5,\n        \"samples\": [\n          \"25,53\"\n        ],\n        \"semantic_type\": \"\",\n        \"description\": \"\"\n      }\n    }\n  ]\n}"
            }
          },
          "metadata": {}
        },
        {
          "output_type": "execute_result",
          "data": {
            "text/plain": [
              "(140, 9)"
            ]
          },
          "metadata": {},
          "execution_count": 4
        }
      ]
    },
    {
      "cell_type": "markdown",
      "source": [
        "### **📌 Compresión de los Atributos del Dataset**\n",
        "\n",
        "## 📅 Datos Generales\n",
        "- **AÑO** (`a_o`): Representa el año en el que se registraron los datos.  \n",
        "- **TRIMESTRE** (`trimestre`): Indica el trimestre del año correspondiente a la información recolectada.  \n",
        "\n",
        "## 🗺️ Ubicación Geográfica\n",
        "- **COD_DEPARTAMENTO** (`cod_departamento`): Código único que identifica el departamento según la clasificación oficial.  \n",
        "- **DEPARTAMENTO** (`departamento`): Nombre del departamento donde se registraron los datos.  \n",
        "- **COD_MUNICIPIO** (`cod_municipio`): Código único asignado a cada municipio.  \n",
        "- **MUNICIPIO** (`municipio`): Nombre del municipio al que corresponden los datos.  \n",
        "\n",
        "## 🌐 Conectividad a Internet\n",
        "- **No. ACCESOS FIJOS A INTERNET** (`no_accesos_fijos_a_internet`): Cantidad de accesos fijos a internet registrados en el municipio.  \n",
        "- **POBLACIÓN DANE** (`poblaci_n_dane`): Número total de habitantes en el municipio según los datos del DANE.  \n",
        "- **INDICE** (`indice`): Métrica que refleja el nivel de penetración de internet fijo en el municipio, calculada con base en la población y el número de accesos.  "
      ],
      "metadata": {
        "id": "GbAx1x643_G1"
      }
    },
    {
      "cell_type": "markdown",
      "source": [
        "### **🔢 Tipos de Datos 🔠**"
      ],
      "metadata": {
        "id": "ll5TjCyA392A"
      }
    },
    {
      "cell_type": "code",
      "source": [
        "#Identificar las variables del dataset\n",
        "print(\"Las variables del dataset son: \\n\")\n",
        "print(internet.dtypes)"
      ],
      "metadata": {
        "id": "2TSPEr6nPEJ1",
        "colab": {
          "base_uri": "https://localhost:8080/"
        },
        "outputId": "4d175ade-4dd5-4752-872b-034df2200b93"
      },
      "execution_count": null,
      "outputs": [
        {
          "output_type": "stream",
          "name": "stdout",
          "text": [
            "Las variables del dataset son: \n",
            "\n",
            "AÑO                              int64\n",
            "TRIMESTRE                        int64\n",
            "COD_DEPARTAMENTO                 int64\n",
            "DEPARTAMENTO                    object\n",
            "COD_MUNICIPIO                    int64\n",
            "MUNICIPIO                       object\n",
            "No. ACCESOS FIJOS A INTERNET     int64\n",
            "POBLACIÓN DANE                   int64\n",
            "INDICE                          object\n",
            "dtype: object\n"
          ]
        }
      ]
    },
    {
      "cell_type": "markdown",
      "source": [
        "- **AÑO** (`int64`): Valor numérico que indica el año de registro.  \n",
        "- **TRIMESTRE** (`int64`): Número entero que representa el trimestre del año (1, 2, 3 o 4).  \n",
        "- **COD_DEPARTAMENTO** (`int64`): Código numérico único que identifica cada departamento.  \n",
        "- **DEPARTAMENTO** (`object`): Nombre del departamento, representado como texto.  \n",
        "- **COD_MUNICIPIO** (`int64`): Código numérico asignado a cada municipio.  \n",
        "- **MUNICIPIO** (`object`): Nombre del municipio, almacenado como texto.  \n",
        "- **No. ACCESOS FIJOS A INTERNET** (`int64`): Número entero que indica la cantidad de accesos fijos a internet en el municipio.  \n",
        "- **POBLACIÓN DANE** (`int64`): Valor numérico que representa el total de habitantes según el DANE.  \n",
        "- **INDICE** (`object`): Índice de penetración de internet, almacenado como texto, lo que sugiere una posible conversión a tipo numérico si se requiere análisis cuantitativo.\n",
        "---"
      ],
      "metadata": {
        "id": "c6nBMIwRO_2Z"
      }
    },
    {
      "cell_type": "markdown",
      "source": [
        "### **📊 Analisis Estadístico y Gráficos**"
      ],
      "metadata": {
        "id": "IOOBujkL4EO-"
      }
    },
    {
      "cell_type": "code",
      "source": [
        "# Transformar INDICE a flotante\n",
        "internet[\"INDICE\"] = internet[\"INDICE\"].astype(str).str.replace(\",\", \".\").astype(float)\n",
        "\n",
        "# Eliminar atributos irrelevantes\n",
        "internet = internet.drop([\"COD_DEPARTAMENTO\", \"COD_MUNICIPIO\", \"TRIMESTRE\"], axis=1)\n",
        "\n",
        "# Obtener estadísticas generales\n",
        "estadisticas = internet.describe()\n",
        "\n",
        "# Mostrar estadísticas\n",
        "print(estadisticas)\n",
        "\n",
        "#Conteo de Registros por Año y Departamento\n",
        "print(\"\\n📅 Distribución de Datos por Año:\")\n",
        "print(internet[\"AÑO\"].value_counts())\n",
        "\n",
        "print(\"\\n📍 Departamentos con más registros:\")\n",
        "print(internet[\"DEPARTAMENTO\"].value_counts().head(10))  # Top 10 departamentos con más datos\n",
        "\n",
        "##Graficas\n",
        "\n",
        "#Distribución del acceso a Internet\n",
        "plt.figure(figsize=(10, 5))\n",
        "sns.histplot(internet[\"No. ACCESOS FIJOS A INTERNET\"], bins=30, kde=True, color=\"blue\")\n",
        "plt.title(\"Distribución de Accesos Fijos a Internet\")\n",
        "plt.xlabel(\"Número de Accesos\")\n",
        "plt.ylabel(\"Frecuencia\")\n",
        "plt.show()\n",
        "\n",
        "#Relación entre Población y Accesos Fijos a Internet\n",
        "plt.figure(figsize=(8, 6))\n",
        "sns.scatterplot(x=internet[\"POBLACIÓN DANE\"], y=internet[\"No. ACCESOS FIJOS A INTERNET\"], alpha=0.5)\n",
        "plt.title(\"Relación entre Población y Accesos Fijos a Internet\")\n",
        "plt.xlabel(\"Población\")\n",
        "plt.ylabel(\"Accesos Fijos a Internet\")\n",
        "plt.show()\n",
        "\n",
        "#Mapa de Calor de Correlaciones\n",
        "plt.figure(figsize=(8, 6))\n",
        "sns.heatmap(internet.corr(), annot=True, cmap=\"coolwarm\", fmt=\".2f\")\n",
        "plt.title(\"Mapa de Calor de Correlaciones\")\n",
        "plt.show()\n",
        "\n",
        "\n"
      ],
      "metadata": {
        "id": "0EQYhgHHUsew",
        "colab": {
          "base_uri": "https://localhost:8080/",
          "height": 1000
        },
        "outputId": "0c65b7d1-fd1b-4abd-9ab8-ad1dd1d24205"
      },
      "execution_count": null,
      "outputs": [
        {
          "output_type": "stream",
          "name": "stdout",
          "text": [
            "               AÑO  No. ACCESOS FIJOS A INTERNET  POBLACIÓN DANE      INDICE\n",
            "count   140.000000                  1.400000e+02    1.400000e+02  140.000000\n",
            "mean   2019.000000                  5.553707e+05    2.143486e+06   21.399929\n",
            "std       2.007181                  7.607291e+05    2.869796e+06    8.176001\n",
            "min    2016.000000                  1.090000e+02    5.085000e+03    2.140000\n",
            "25%    2017.000000                  6.669925e+04    2.916980e+05   20.497500\n",
            "50%    2019.000000                  8.942650e+04    3.610490e+05   23.945000\n",
            "75%    2021.000000                  6.862135e+05    2.549008e+06   26.175000\n",
            "max    2022.000000                  2.638171e+06    7.873316e+06   35.950000\n",
            "\n",
            "📅 Distribución de Datos por Año:\n",
            "AÑO\n",
            "2016    20\n",
            "2020    20\n",
            "2019    20\n",
            "2022    20\n",
            "2021    20\n",
            "2018    20\n",
            "2017    20\n",
            "Name: count, dtype: int64\n",
            "\n",
            "📍 Departamentos con más registros:\n",
            "DEPARTAMENTO\n",
            "ANTIOQUIA      56\n",
            "QUINDÍO        28\n",
            "BOGOTÁ D.C.    28\n",
            "HUILA          28\n",
            "Name: count, dtype: int64\n"
          ]
        },
        {
          "output_type": "display_data",
          "data": {
            "text/plain": [
              "<Figure size 1000x500 with 1 Axes>"
            ],
            "image/png": "[encoded data removed]"
          },
          "metadata": {}
        },
        {
          "output_type": "display_data",
          "data": {
            "text/plain": [
              "<Figure size 800x600 with 1 Axes>"
            ],
            "image/png": "[encoded data removed]"
          },
          "metadata": {}
        },
        {
          "output_type": "error",
          "ename": "ValueError",
          "evalue": "could not convert string to float: 'ANTIOQUIA'",
          "traceback": [
            "\u001b[0;31m---------------------------------------------------------------------------\u001b[0m",
            "\u001b[0;31mValueError\u001b[0m                                Traceback (most recent call last)",
            "\u001b[0;32m<ipython-input-6-989d5ecee684>\u001b[0m in \u001b[0;36m<cell line: 0>\u001b[0;34m()\u001b[0m\n\u001b[1;32m     38\u001b[0m \u001b[0;31m#Mapa de Calor de Correlaciones\u001b[0m\u001b[0;34m\u001b[0m\u001b[0;34m\u001b[0m\u001b[0m\n\u001b[1;32m     39\u001b[0m \u001b[0mplt\u001b[0m\u001b[0;34m.\u001b[0m\u001b[0mfigure\u001b[0m\u001b[0;34m(\u001b[0m\u001b[0mfigsize\u001b[0m\u001b[0;34m=\u001b[0m\u001b[0;34m(\u001b[0m\u001b[0;36m8\u001b[0m\u001b[0;34m,\u001b[0m \u001b[0;36m6\u001b[0m\u001b[0;34m)\u001b[0m\u001b[0;34m)\u001b[0m\u001b[0;34m\u001b[0m\u001b[0;34m\u001b[0m\u001b[0m\n\u001b[0;32m---> 40\u001b[0;31m \u001b[0msns\u001b[0m\u001b[0;34m.\u001b[0m\u001b[0mheatmap\u001b[0m\u001b[0;34m(\u001b[0m\u001b[0minternet\u001b[0m\u001b[0;34m.\u001b[0m\u001b[0mcorr\u001b[0m\u001b[0;34m(\u001b[0m\u001b[0;34m)\u001b[0m\u001b[0;34m,\u001b[0m \u001b[0mannot\u001b[0m\u001b[0;34m=\u001b[0m\u001b[0;32mTrue\u001b[0m\u001b[0;34m,\u001b[0m \u001b[0mcmap\u001b[0m\u001b[0;34m=\u001b[0m\u001b[0;34m\"coolwarm\"\u001b[0m\u001b[0;34m,\u001b[0m \u001b[0mfmt\u001b[0m\u001b[0;34m=\u001b[0m\u001b[0;34m\".2f\"\u001b[0m\u001b[0;34m)\u001b[0m\u001b[0;34m\u001b[0m\u001b[0;34m\u001b[0m\u001b[0m\n\u001b[0m\u001b[1;32m     41\u001b[0m \u001b[0mplt\u001b[0m\u001b[0;34m.\u001b[0m\u001b[0mtitle\u001b[0m\u001b[0;34m(\u001b[0m\u001b[0;34m\"Mapa de Calor de Correlaciones\"\u001b[0m\u001b[0;34m)\u001b[0m\u001b[0;34m\u001b[0m\u001b[0;34m\u001b[0m\u001b[0m\n\u001b[1;32m     42\u001b[0m \u001b[0mplt\u001b[0m\u001b[0;34m.\u001b[0m\u001b[0mshow\u001b[0m\u001b[0;34m(\u001b[0m\u001b[0;34m)\u001b[0m\u001b[0;34m\u001b[0m\u001b[0;34m\u001b[0m\u001b[0m\n",
            "\u001b[0;32m/usr/local/lib/python3.11/dist-packages/pandas/core/frame.py\u001b[0m in \u001b[0;36mcorr\u001b[0;34m(self, method, min_periods, numeric_only)\u001b[0m\n\u001b[1;32m  11047\u001b[0m         \u001b[0mcols\u001b[0m \u001b[0;34m=\u001b[0m \u001b[0mdata\u001b[0m\u001b[0;34m.\u001b[0m\u001b[0mcolumns\u001b[0m\u001b[0;34m\u001b[0m\u001b[0;34m\u001b[0m\u001b[0m\n\u001b[1;32m  11048\u001b[0m         \u001b[0midx\u001b[0m \u001b[0;34m=\u001b[0m \u001b[0mcols\u001b[0m\u001b[0;34m.\u001b[0m\u001b[0mcopy\u001b[0m\u001b[0;34m(\u001b[0m\u001b[0;34m)\u001b[0m\u001b[0;34m\u001b[0m\u001b[0;34m\u001b[0m\u001b[0m\n\u001b[0;32m> 11049\u001b[0;31m         \u001b[0mmat\u001b[0m \u001b[0;34m=\u001b[0m \u001b[0mdata\u001b[0m\u001b[0;34m.\u001b[0m\u001b[0mto_numpy\u001b[0m\u001b[0;34m(\u001b[0m\u001b[0mdtype\u001b[0m\u001b[0;34m=\u001b[0m\u001b[0mfloat\u001b[0m\u001b[0;34m,\u001b[0m \u001b[0mna_value\u001b[0m\u001b[0;34m=\u001b[0m\u001b[0mnp\u001b[0m\u001b[0;34m.\u001b[0m\u001b[0mnan\u001b[0m\u001b[0;34m,\u001b[0m \u001b[0mcopy\u001b[0m\u001b[0;34m=\u001b[0m\u001b[0;32mFalse\u001b[0m\u001b[0;34m)\u001b[0m\u001b[0;34m\u001b[0m\u001b[0;34m\u001b[0m\u001b[0m\n\u001b[0m\u001b[1;32m  11050\u001b[0m \u001b[0;34m\u001b[0m\u001b[0m\n\u001b[1;32m  11051\u001b[0m         \u001b[0;32mif\u001b[0m \u001b[0mmethod\u001b[0m \u001b[0;34m==\u001b[0m \u001b[0;34m\"pearson\"\u001b[0m\u001b[0;34m:\u001b[0m\u001b[0;34m\u001b[0m\u001b[0;34m\u001b[0m\u001b[0m\n",
            "\u001b[0;32m/usr/local/lib/python3.11/dist-packages/pandas/core/frame.py\u001b[0m in \u001b[0;36mto_numpy\u001b[0;34m(self, dtype, copy, na_value)\u001b[0m\n\u001b[1;32m   1991\u001b[0m         \u001b[0;32mif\u001b[0m \u001b[0mdtype\u001b[0m \u001b[0;32mis\u001b[0m \u001b[0;32mnot\u001b[0m \u001b[0;32mNone\u001b[0m\u001b[0;34m:\u001b[0m\u001b[0;34m\u001b[0m\u001b[0;34m\u001b[0m\u001b[0m\n\u001b[1;32m   1992\u001b[0m             \u001b[0mdtype\u001b[0m \u001b[0;34m=\u001b[0m \u001b[0mnp\u001b[0m\u001b[0;34m.\u001b[0m\u001b[0mdtype\u001b[0m\u001b[0;34m(\u001b[0m\u001b[0mdtype\u001b[0m\u001b[0;34m)\u001b[0m\u001b[0;34m\u001b[0m\u001b[0;34m\u001b[0m\u001b[0m\n\u001b[0;32m-> 1993\u001b[0;31m         \u001b[0mresult\u001b[0m \u001b[0;34m=\u001b[0m \u001b[0mself\u001b[0m\u001b[0;34m.\u001b[0m\u001b[0m_mgr\u001b[0m\u001b[0;34m.\u001b[0m\u001b[0mas_array\u001b[0m\u001b[0;34m(\u001b[0m\u001b[0mdtype\u001b[0m\u001b[0;34m=\u001b[0m\u001b[0mdtype\u001b[0m\u001b[0;34m,\u001b[0m \u001b[0mcopy\u001b[0m\u001b[0;34m=\u001b[0m\u001b[0mcopy\u001b[0m\u001b[0;34m,\u001b[0m \u001b[0mna_value\u001b[0m\u001b[0;34m=\u001b[0m\u001b[0mna_value\u001b[0m\u001b[0;34m)\u001b[0m\u001b[0;34m\u001b[0m\u001b[0;34m\u001b[0m\u001b[0m\n\u001b[0m\u001b[1;32m   1994\u001b[0m         \u001b[0;32mif\u001b[0m \u001b[0mresult\u001b[0m\u001b[0;34m.\u001b[0m\u001b[0mdtype\u001b[0m \u001b[0;32mis\u001b[0m \u001b[0;32mnot\u001b[0m \u001b[0mdtype\u001b[0m\u001b[0;34m:\u001b[0m\u001b[0;34m\u001b[0m\u001b[0;34m\u001b[0m\u001b[0m\n\u001b[1;32m   1995\u001b[0m             \u001b[0mresult\u001b[0m \u001b[0;34m=\u001b[0m \u001b[0mnp\u001b[0m\u001b[0;34m.\u001b[0m\u001b[0masarray\u001b[0m\u001b[0;34m(\u001b[0m\u001b[0mresult\u001b[0m\u001b[0;34m,\u001b[0m \u001b[0mdtype\u001b[0m\u001b[0;34m=\u001b[0m\u001b[0mdtype\u001b[0m\u001b[0;34m)\u001b[0m\u001b[0;34m\u001b[0m\u001b[0;34m\u001b[0m\u001b[0m\n",
            "\u001b[0;32m/usr/local/lib/python3.11/dist-packages/pandas/core/internals/managers.py\u001b[0m in \u001b[0;36mas_array\u001b[0;34m(self, dtype, copy, na_value)\u001b[0m\n\u001b[1;32m   1692\u001b[0m                 \u001b[0marr\u001b[0m\u001b[0;34m.\u001b[0m\u001b[0mflags\u001b[0m\u001b[0;34m.\u001b[0m\u001b[0mwriteable\u001b[0m \u001b[0;34m=\u001b[0m \u001b[0;32mFalse\u001b[0m\u001b[0;34m\u001b[0m\u001b[0;34m\u001b[0m\u001b[0m\n\u001b[1;32m   1693\u001b[0m         \u001b[0;32melse\u001b[0m\u001b[0;34m:\u001b[0m\u001b[0;34m\u001b[0m\u001b[0;34m\u001b[0m\u001b[0m\n\u001b[0;32m-> 1694\u001b[0;31m             \u001b[0marr\u001b[0m \u001b[0;34m=\u001b[0m \u001b[0mself\u001b[0m\u001b[0;34m.\u001b[0m\u001b[0m_interleave\u001b[0m\u001b[0;34m(\u001b[0m\u001b[0mdtype\u001b[0m\u001b[0;34m=\u001b[0m\u001b[0mdtype\u001b[0m\u001b[0;34m,\u001b[0m \u001b[0mna_value\u001b[0m\u001b[0;34m=\u001b[0m\u001b[0mna_value\u001b[0m\u001b[0;34m)\u001b[0m\u001b[0;34m\u001b[0m\u001b[0;34m\u001b[0m\u001b[0m\n\u001b[0m\u001b[1;32m   1695\u001b[0m             \u001b[0;31m# The underlying data was copied within _interleave, so no need\u001b[0m\u001b[0;34m\u001b[0m\u001b[0;34m\u001b[0m\u001b[0m\n\u001b[1;32m   1696\u001b[0m             \u001b[0;31m# to further copy if copy=True or setting na_value\u001b[0m\u001b[0;34m\u001b[0m\u001b[0;34m\u001b[0m\u001b[0m\n",
            "\u001b[0;32m/usr/local/lib/python3.11/dist-packages/pandas/core/internals/managers.py\u001b[0m in \u001b[0;36m_interleave\u001b[0;34m(self, dtype, na_value)\u001b[0m\n\u001b[1;32m   1751\u001b[0m             \u001b[0;32melse\u001b[0m\u001b[0;34m:\u001b[0m\u001b[0;34m\u001b[0m\u001b[0;34m\u001b[0m\u001b[0m\n\u001b[1;32m   1752\u001b[0m                 \u001b[0marr\u001b[0m \u001b[0;34m=\u001b[0m \u001b[0mblk\u001b[0m\u001b[0;34m.\u001b[0m\u001b[0mget_values\u001b[0m\u001b[0;34m(\u001b[0m\u001b[0mdtype\u001b[0m\u001b[0;34m)\u001b[0m\u001b[0;34m\u001b[0m\u001b[0;34m\u001b[0m\u001b[0m\n\u001b[0;32m-> 1753\u001b[0;31m             \u001b[0mresult\u001b[0m\u001b[0;34m[\u001b[0m\u001b[0mrl\u001b[0m\u001b[0;34m.\u001b[0m\u001b[0mindexer\u001b[0m\u001b[0;34m]\u001b[0m \u001b[0;34m=\u001b[0m \u001b[0marr\u001b[0m\u001b[0;34m\u001b[0m\u001b[0;34m\u001b[0m\u001b[0m\n\u001b[0m\u001b[1;32m   1754\u001b[0m             \u001b[0mitemmask\u001b[0m\u001b[0;34m[\u001b[0m\u001b[0mrl\u001b[0m\u001b[0;34m.\u001b[0m\u001b[0mindexer\u001b[0m\u001b[0;34m]\u001b[0m \u001b[0;34m=\u001b[0m \u001b[0;36m1\u001b[0m\u001b[0;34m\u001b[0m\u001b[0;34m\u001b[0m\u001b[0m\n\u001b[1;32m   1755\u001b[0m \u001b[0;34m\u001b[0m\u001b[0m\n",
            "\u001b[0;31mValueError\u001b[0m: could not convert string to float: 'ANTIOQUIA'"
          ]
        },
        {
          "output_type": "display_data",
          "data": {
            "text/plain": [
              "<Figure size 800x600 with 0 Axes>"
            ]
          },
          "metadata": {}
        }
      ]
    },
    {
      "cell_type": "markdown",
      "source": [
        "* Los datos sobre la penetración de internet fijo en los municipios seleccionados no contienen valores faltantes, lo que indica una alta calidad en su registro. No obstante, es esencial aplicar herramientas estadísticas y visualizaciones gráficas para analizar su comportamiento y tendencia, garantizando así su calidad.\n",
        "---"
      ],
      "metadata": {
        "id": "LNi7YAxL4et1"
      }
    },
    {
      "cell_type": "markdown",
      "source": [
        "### **📝 Calidad de Datos**"
      ],
      "metadata": {
        "id": "kUbVLEkL4CCk"
      }
    },
    {
      "cell_type": "code",
      "source": [
        "#Verificar el número de campos vacios\n",
        "cantidad_nulos = internet.isnull().sum()  # conteo de los nulos\n",
        "print(\"Cantidad de campos vacios en cada columna: \\n\", cantidad_nulos)"
      ],
      "metadata": {
        "id": "u-p2l1IZPONG"
      },
      "execution_count": null,
      "outputs": []
    },
    {
      "cell_type": "code",
      "source": [
        "#Calcular el porcentaje de campos vacios por columna\n",
        "cantidad_registros = internet.shape[0]\n",
        "print(\"Cantidad de registros: \", internet.shape[0])\n",
        "Porcentaje = cantidad_nulos/cantidad_registros*100\n",
        "print(\"Porcentaje de campos vacios por columna: \\n\", Porcentaje)"
      ],
      "metadata": {
        "id": "IZ0uqJjDPVpc"
      },
      "execution_count": null,
      "outputs": []
    },
    {
      "cell_type": "markdown",
      "source": [
        "---\n",
        "## **Educación por Municipio**"
      ],
      "metadata": {
        "id": "Ym_p6bbiIw1K"
      }
    },
    {
      "cell_type": "markdown",
      "source": [
        "### 📚Descripción general del contenido de los conjuntos de datos  }\n",
        "- Los conjuntos de datos contienen información estadística sobre educación en los niveles preescolar, básica y media en municipios de Colombia, desde 2011 hasta 2023, excluyendo valores atípicos. Incluyen indicadores sectoriales clave, como tasas de cobertura bruta y neta, calculadas con proyecciones del Censo 2018 para 2018 y 2019. Los valores están en formato decimal en la base de datos, pero se exportan multiplicados por 100 para expresarlos como porcentajes."
      ],
      "metadata": {
        "id": "q_GxsdH400lC"
      }
    },
    {
      "cell_type": "code",
      "source": [
        "# Mostrar las primeras filas del dataset\n",
        "display(educacion.head())\n",
        "\n",
        "# Mostrar la cantidad de filas y columnas\n",
        "educacion.shape"
      ],
      "metadata": {
        "id": "Q24bnvht3z7s"
      },
      "execution_count": null,
      "outputs": []
    },
    {
      "cell_type": "markdown",
      "source": [
        "### **📌 Compresión de los Atributos del Dataset**\n",
        "## 📅 Datos Generales\n",
        "- **AÑO** (`a_o`): Representa el año en el que se registraron los datos.\n",
        "- **CÓDIGO_MUNICIPIO** (`c_digo_municipio`): Código DANE del municipio.\n",
        "- **MUNICIPIO** (`municipio`): Nombre del municipio.\n",
        "- **CÓDIGO_DEPARTAMENTO** (`c_digo_departamento`): Código DANE del departamento.\n",
        "- **DEPARTAMENTO** (`departamento`): Nombre del departamento.\n",
        "- **CÓDIGO_ETC** (`c_digo_etc`): Código DANE de la ETC.\n",
        "- **ETC** (`etc`): Nombre de la ETC.\n",
        "\n",
        "## 🌍 Demografía Educativa\n",
        "- **POBLACIÓN_5_16** (`poblaci_n_5_16`): Población en edad teórica de estudiar (5 a 16 años) según proyecciones del DANE.\n",
        "- **TASA_MATRICULACIÓN_5_16** (`tasa_matriculaci_n_5_16`): Proporción de la población entre 5 y 16 años que asiste al sistema educativo. Puede ser mayor al 100% por flujos migratorios.\n",
        "\n",
        "## 📊 Cobertura Educativa\n",
        "- **COBERTURA_NETA** (`cobertura_neta`): Relación entre estudiantes matriculados en transición, primaria, secundaria y media con edad teórica y la población total correspondiente.\n",
        "- **COBERTURA_NETA_TRANSICIÓN** (`cobertura_neta_transici_n`): Relación entre estudiantes matriculados en transición con edad teórica y la población total correspondiente.\n",
        "- **COBERTURA_NETA_PRIMARIA** (`cobertura_neta_primaria`): Relación entre estudiantes matriculados en primaria con edad teórica y la población total correspondiente.\n",
        "- **COBERTURA_NETA_SECUNDARIA** (`cobertura_neta_secundaria`): Relación entre estudiantes matriculados en secundaria con edad teórica y la población total correspondiente.\n",
        "- **COBERTURA_NETA_MEDIA** (`cobertura_neta_media`): Relación entre estudiantes matriculados en media con edad teórica y la población total correspondiente.\n",
        "- **COBERTURA_BRUTA** (`cobertura_bruta`): Relación entre estudiantes matriculados en transición, primaria, secundaria y media y la población en edad teórica para estos niveles.\n",
        "\n",
        "## 🏫 Calidad y Infraestructura Educativa\n",
        "- **TAMAÑO_PROMEDIO_DE_GRUPO** (`tama_o_promedio_de_grupo`): Número promedio de estudiantes por grupo considerando el sector oficial y no oficial.\n",
        "- **SEDES_CONECTADAS_A_INTERNET** (`sedes_conectadas_a_internet`): Porcentaje de sedes oficiales de una Entidad Territorial Certificada conectadas a internet.\n",
        "\n",
        "## 📉 Indicadores de Desempeño Académico\n",
        "- **DESERCIÓN** (`deserci_n`): Tasa de deserción intraanual del sector oficial, indica alumnos que abandonan estudios durante el año.\n",
        "- **APROBACIÓN** (`aprobaci_n`): Tasa de aprobación de estudiantes del sector oficial en educación preescolar, básica y media.\n",
        "- **REPROBACIÓN** (`reprobaci_n`): Tasa de reprobación de estudiantes del sector oficial en educación preescolar, básica y media.\n",
        "- **REPITENCIA** (`repitencia`): Tasa de repitencia del sector oficial, porcentaje de alumnos que repiten grado del año anterior."
      ],
      "metadata": {
        "id": "DqS2RtuRMdOB"
      }
    },
    {
      "cell_type": "markdown",
      "source": [
        "### **🔢 Tipos de Datos 🔠**"
      ],
      "metadata": {
        "id": "d8mI8XUTJlPe"
      }
    },
    {
      "cell_type": "code",
      "source": [
        "#Identificar las variables del dataset\n",
        "print(\"Las variables del dataset son: \\n\")\n",
        "print(educacion.dtypes)"
      ],
      "metadata": {
        "id": "6-EVCx9tenUn"
      },
      "execution_count": null,
      "outputs": []
    },
    {
      "cell_type": "markdown",
      "source": [
        "### **📊 Analisis Estadístico y Gráficos**"
      ],
      "metadata": {
        "id": "1RiRvDsyNH8p"
      }
    },
    {
      "cell_type": "code",
      "source": [
        "# Obtener estadísticas generales\n",
        "estadisticas = educacion.describe()\n",
        "\n",
        "# Mostrar estadísticas\n",
        "print(estadisticas)\n",
        "\n",
        "#Conteo de Municipios y Departamentos\n",
        "print(\"\\n📍 Número de Municipios por Departamento:\")\n",
        "print(dataset[\"DEPARTAMENTO\"].value_counts().head(10))\n",
        "\n",
        "print(\"\\n🏫 Número de ETCs por Departamento:\")\n",
        "print(dataset[\"ETC\"].value_counts().head(10))\n",
        "\n",
        "\n",
        "##graficas\n",
        "#Distribución de la Tasa de Matriculación (5-16 años)\n",
        "plt.figure(figsize=(10, 5))\n",
        "sns.histplot(dataset[\"TASA_MATRICULACIÓN_5_16\"], bins=30, kde=True, color=\"green\")\n",
        "plt.title(\"Distribución de la Tasa de Matriculación (5-16 años)\")\n",
        "plt.xlabel(\"Tasa de Matriculación (%)\")\n",
        "plt.ylabel(\"Frecuencia\")\n",
        "plt.show()\n",
        "\n",
        "#Boxplot de Cobertura Neta por Nivel Educativo\n",
        "plt.figure(figsize=(10, 6))\n",
        "sns.boxplot(data=dataset[[\"COBERTURA_NETA_TRANSICIÓN\", \"COBERTURA_NETA_PRIMARIA\",\n",
        "                          \"COBERTURA_NETA_SECUNDARIA\", \"COBERTURA_NETA_MEDIA\"]])\n",
        "plt.title(\"Distribución de la Cobertura Neta por Nivel Educativo\")\n",
        "plt.ylabel(\"Cobertura (%)\")\n",
        "plt.show()\n",
        "\n",
        "#Relación entre Deserción y Reprobación\n",
        "plt.figure(figsize=(8, 6))\n",
        "sns.scatterplot(x=dataset[\"DESERCIÓN\"], y=dataset[\"REPROBACIÓN\"], alpha=0.5)\n",
        "plt.title(\"Relación entre Deserción y Reprobación\")\n",
        "plt.xlabel(\"Deserción (%)\")\n",
        "plt.ylabel(\"Reprobación (%)\")\n",
        "plt.show()\n",
        "\n",
        "#Mapa de Calor de Correlaciones\n",
        "plt.figure(figsize=(10, 8))\n",
        "sns.heatmap(dataset.corr(), annot=True, cmap=\"coolwarm\", fmt=\".2f\")\n",
        "plt.title(\"Mapa de Calor de Correlaciones entre Variables\")\n",
        "plt.show()\n",
        "\n"
      ],
      "metadata": {
        "id": "-dYlkBtNysCd"
      },
      "execution_count": null,
      "outputs": []
    },
    {
      "cell_type": "markdown",
      "source": [
        "### **📝 Calidad de Datos**"
      ],
      "metadata": {
        "id": "n-HF4mPSM86C"
      }
    },
    {
      "cell_type": "code",
      "source": [
        "#Verificar el número de campos vacios\n",
        "cantidad_nulos = educacion.isnull().sum()  # conteo de los nulos\n",
        "print(\"Cantidad de campos vacios en cada columna: \\n\", cantidad_nulos)"
      ],
      "metadata": {
        "id": "663ej97ai3XL"
      },
      "execution_count": null,
      "outputs": []
    },
    {
      "cell_type": "code",
      "source": [
        "#Calcular el porcentaje de campos vacios por columna\n",
        "cantidad_registros = educacion.shape[0]\n",
        "print(\"Cantidad de registros: \", internet.shape[0])\n",
        "Porcentaje = cantidad_nulos/cantidad_registros*100\n",
        "print(\"Porcentaje de campos vacios por columna: \\n\", Porcentaje)"
      ],
      "metadata": {
        "id": "DSsobziGjtA-"
      },
      "execution_count": null,
      "outputs": []
    },
    {
      "cell_type": "markdown",
      "source": [
        "La metadata del atributo \"repitencia\" corresponde al porcentaje de alumnos matriculados en un año escolar en transición, primaria, secundaria y media que se encuentran repitiendo el mismo grado cursado el año anterior. Sin embargo, este dato no corresponde a un porcentaje sino un número entero."
      ],
      "metadata": {
        "id": "h85l5YUjjENy"
      }
    },
    {
      "cell_type": "markdown",
      "source": [
        "---\n",
        "## **Matrícula por Nivel Educativo**"
      ],
      "metadata": {
        "id": "J_eSTG-cI0gz"
      }
    },
    {
      "cell_type": "markdown",
      "source": [
        "### 📚Descripción general del contenido de los conjuntos de datos  \n",
        "- Los conjuntos de datos contienen información detallada sobre la Matrícula Estadística de Educación Superior en Colombia, desagregada por nivel de formación (técnico, tecnológico, universitario, posgrados, entre otros) y por municipio. Estos datos permiten analizar la evolución de la matrícula a lo largo del tiempo, identificar tendencias en el acceso a la educación superior y comparar la distribución de estudiantes en diferentes regiones. Además, facilitan estudios sobre cobertura, crecimiento del sector educativo y planificación de políticas públicas para mejorar el acceso y la calidad de la educación superior en el país."
      ],
      "metadata": {
        "id": "3xtPaByC013h"
      }
    },
    {
      "cell_type": "code",
      "source": [
        "# Mostrar las primeras filas del dataset\n",
        "display(matriculas.head())\n",
        "\n",
        "# Mostrar la cantidad de filas y columnas\n",
        "matriculas.shape"
      ],
      "metadata": {
        "id": "hQ2vo8Djc1TN"
      },
      "execution_count": null,
      "outputs": []
    },
    {
      "cell_type": "markdown",
      "source": [
        "### **📌 Compresión de los Atributos del Dataset**\n",
        "\n",
        "## 📅 Datos Generales\n",
        "- **AÑO** (`a_o`): Número que representa el año en el que se registraron los datos.\n",
        "\n",
        "## 🗺️ Ubicación Geográfica\n",
        "- **Código del Departamento** (`c_digo_deldepartamento`): Texto que identifica el código del departamento según la clasificación oficial.\n",
        "- **Nombre del Departamento** (`nombre_del_departamento`): Texto que contiene el nombre del departamento.\n",
        "\n",
        "- **Código del Municipio** (`c_digo_delmunicipio`): Texto que asigna el código único de cada municipio.\n",
        "- **Nombre del Municipio** (`nombre_del_municipio`): Texto que contiene el nombre del municipio.\n",
        "\n",
        "## 🎓 Educación Superior\n",
        "- **TÉCNICA PROFESIONAL** (`tecnica_profesional`): Número que indica la cantidad de programas académicos de nivel técnico profesional en el municipio.\n",
        "- **TECNOLOGICA** (`tecnologica`): Número que indica la cantidad de programas académicos de nivel tecnológico en el municipio.\n",
        "- **UNIVERSITARIA** (`universitaria`): Número que indica la cantidad de programas académicos de nivel universitario en el municipio.\n",
        "- **ESPECIALIZACION** (`especializacion`): Número que indica la cantidad de programas académicos de especialización en el municipio.\n",
        "- **MAESTRÍA** (`maestria`): Número que indica la cantidad de programas académicos de maestría en el municipio.\n",
        "- **DOCTORADO** (`doctorado`): Número que indica la cantidad de programas académicos de doctorado en el municipio.\n",
        "- **IES CON OFERTA** (`ies_con_oferta`): Número de Instituciones de Educación Superior (IES) con oferta de programas académicos en el municipio."
      ],
      "metadata": {
        "id": "Gc56pPpJNbG5"
      }
    },
    {
      "cell_type": "markdown",
      "source": [
        "### **🔢 Tipos de Datos 🔠**"
      ],
      "metadata": {
        "id": "Z04CvXZgJ2R3"
      }
    },
    {
      "cell_type": "code",
      "source": [
        "#Identificar las variables del dataset\n",
        "print(\"Las variables del dataset son: \\n\")\n",
        "print(matriculas.dtypes)"
      ],
      "metadata": {
        "id": "oJ2VJ0CS77fy"
      },
      "execution_count": null,
      "outputs": []
    },
    {
      "cell_type": "markdown",
      "source": [
        "### **📊 Analisis Estadístico y Gráficos**"
      ],
      "metadata": {
        "id": "LUmZ3xkuNner"
      }
    },
    {
      "cell_type": "code",
      "source": [
        "# Obtener estadísticas generales\n",
        "estadisticas = matriculas.describe()\n",
        "\n",
        "# Mostrar estadísticas\n",
        "print(estadisticas)\n",
        "\n",
        "##graficas\n",
        "#Distribución de Programas Académicos por Nivel\n",
        "plt.figure(figsize=(10, 5))\n",
        "dataset[[\"tecnica_profesional\", \"tecnologica\", \"universitaria\",\n",
        "         \"especializacion\", \"maestria\", \"doctorado\"]].sum().plot(kind='bar', color=[\"blue\", \"green\", \"orange\", \"purple\", \"red\", \"brown\"])\n",
        "plt.title(\"Total de Programas Académicos por Nivel en Colombia\")\n",
        "plt.ylabel(\"Cantidad de Programas\")\n",
        "plt.xticks(rotation=45)\n",
        "plt.show()\n",
        "\n",
        "#Mapa de Calor de Correlaciones entre Tipos de Programas\n",
        "plt.figure(figsize=(10, 6))\n",
        "sns.heatmap(dataset[[\"tecnica_profesional\", \"tecnologica\", \"universitaria\",\n",
        "                     \"especializacion\", \"maestria\", \"doctorado\", \"ies_con_oferta\"]].corr(),\n",
        "            annot=True, cmap=\"coolwarm\", fmt=\".2f\")\n",
        "plt.title(\"Mapa de Calor de Correlaciones entre Tipos de Programas\")\n",
        "plt.show()\n",
        "\n",
        "#Distribución de Universidades por Departamento\n",
        "plt.figure(figsize=(12, 6))\n",
        "top_departamentos = dataset.groupby(\"nombre_del_departamento\")[\"ies_con_oferta\"].sum().sort_values(ascending=False).head(10)\n",
        "top_departamentos.plot(kind=\"bar\", color=\"blue\")\n",
        "plt.title(\"Top 10 Departamentos con Más Instituciones de Educación Superior\")\n",
        "plt.ylabel(\"Cantidad de IES\")\n",
        "plt.xticks(rotation=45)\n",
        "plt.show()\n",
        "\n",
        "#Comparación de Programas Universitarios vs. Tecnológicos\n",
        "t.figure(figsize=(8, 6))\n",
        "sns.scatterplot(x=dataset[\"universitaria\"], y=dataset[\"tecnologica\"], alpha=0.5)\n",
        "plt.title(\"Relación entre Programas Universitarios y Tecnológicos\")\n",
        "plt.xlabel(\"Programas Universitarios\")\n",
        "plt.ylabel(\"Programas Tecnológicos\")\n",
        "plt.show()\n",
        "\n"
      ],
      "metadata": {
        "id": "jXUPcOgQ8ELL"
      },
      "execution_count": null,
      "outputs": []
    },
    {
      "cell_type": "markdown",
      "source": [
        "### **📝 Calidad de Datos**"
      ],
      "metadata": {
        "id": "Am7yoNEfNfH8"
      }
    },
    {
      "cell_type": "code",
      "source": [
        "#Verificar el número de campos vacios\n",
        "cantidad_nulos = matriculas.isnull().sum()  # conteo de los nulos\n",
        "print(\"Cantidad de campos vacios en cada columna: \\n\", cantidad_nulos)"
      ],
      "metadata": {
        "id": "Ad0esXBu7_ey"
      },
      "execution_count": null,
      "outputs": []
    },
    {
      "cell_type": "markdown",
      "source": [
        "---\n",
        "## **Índice de Pobreza de Hogares por Persona**"
      ],
      "metadata": {
        "id": "9h9DQpd9I8iu"
      }
    },
    {
      "cell_type": "markdown",
      "source": [
        "### 📚Descripción general del contenido de los conjuntos de datos\n",
        "- Los conjuntos de datos contienen información detallada sobre diversos aspectos sociodemográficos, educativos, laborales y de salud de la población en Colombia. Incluyen variables clave como **identificadores únicos** (directorio, secuencia de encuesta, orden), características personales (**edad, alfabetización, nivel educativo alcanzado, matrícula actual**), condiciones de salud (**afiliación a seguridad social, acceso a servicios médicos, alimentación escolar**), y aspectos laborales (**ocupación principal, búsqueda de empleo, cotización a pensiones**). Esta información permite realizar análisis sobre la cobertura educativa, acceso a servicios de salud, condiciones laborales y bienestar social, facilitando la toma de decisiones y la formulación de políticas públicas."
      ],
      "metadata": {
        "id": "l-RpeHJF03pf"
      }
    },
    {
      "cell_type": "code",
      "source": [
        "# Mostrar las primeras filas del dataset\n",
        "display(pobreza.head())\n",
        "\n",
        "# Mostrar la cantidad de filas y columnas\n",
        "pobreza.shape"
      ],
      "metadata": {
        "id": "wmvzM0_Wc7sV"
      },
      "execution_count": null,
      "outputs": []
    },
    {
      "cell_type": "markdown",
      "source": [
        "### **📌 Compresión de los Atributos del Dataset**\n",
        "## 📂 Identificación y Secuencia\n",
        "- **DIRECTORIO** (`directorio`): Identificador del directorio de la encuesta.  \n",
        "- **SECUENCIA_ENCUESTA** (`secuencia_encuesta`): Número de secuencia de la encuesta.  \n",
        "- **SECUENCIA_P** (`secuencia_p`): Número de secuencia de la persona dentro del hogar.  \n",
        "- **ORDEN** (`orden`): Orden de la persona en la encuesta.  \n",
        "\n",
        "## 👤 Información Demográfica\n",
        "- **P6020** (`P6020`): Género de la persona.  \n",
        "- **P6040** (`P6040`): ¿Cuántos años cumplidos tiene?  \n",
        "- **FEX_C** (`fex_c`): Factor de expansión de la encuesta.  \n",
        "\n",
        "## 🏥 Salud\n",
        "- **P6051** (`P6051`): Estado de salud general.  \n",
        "- **P6090** (`P6090`): ¿Está afiliado, es cotizante o es beneficiario de alguna entidad de seguridad social en salud? (EPS o ARS - Sisben).  \n",
        "- **P5665** (`P5665`): En los últimos 30 días, ¿tuvo alguna enfermedad, accidente, problema odontológico u otro problema de salud que no haya implicado hospitalización?  \n",
        "- **P8563** (`P8563`): Para tratar ese problema de salud, ¿qué hizo principalmente?  \n",
        "\n",
        "## 🏠 Condiciones de Vida\n",
        "- **P51** (`P51`): ¿Dónde o con quién permanece la mayor parte del tiempo entre semana?  \n",
        "- **P55** (`P55`): ¿Recibe o toma desayuno o almuerzo en el lugar donde permanece la mayor parte del tiempo entre semana?  \n",
        "- **P774** (`P774`): ¿Quién paga por esta alimentación?  \n",
        "\n",
        "## 📖 Educación\n",
        "- **P6160** (`P6160`): ¿Sabe leer y escribir?  \n",
        "- **P8586** (`P8586`): ¿Actualmente estudia? (Asiste al preescolar, escuela, colegio o universidad).  \n",
        "- **P8587** (`P8587`): ¿Cuál es el nivel educativo más alto alcanzado y el último año o grado aprobado en este nivel?  \n",
        "- **P8587S1** (`P8587S1`): Grado o año aprobado.  \n",
        "- **P1088** (`P1088`): ¿En qué nivel está matriculado y qué grado cursa?  \n",
        "- **P1088S1** (`P1088S1`): Grado o año que cursa.  \n",
        "- **P6180** (`P6180`): ¿Recibe en el plantel educativo alimentos en forma gratuita o por un pago simbólico?  \n",
        "\n",
        "## 💼 Ocupación y Trabajo\n",
        "- **P6240** (`P6240`): ¿En qué actividad ocupó la mayor parte del tiempo la semana pasada?  \n",
        "- **P6250** (`P6250`): Además de lo anterior, ¿realizó alguna actividad paga por una hora o más?  \n",
        "- **P6260** (`P6260`): Aunque no trabajó la semana pasada por una hora o más en forma remunerada, ¿tenía algún trabajo o negocio por el que recibe ingresos?  \n",
        "- **P6270** (`P6270`): ¿Trabajó la semana pasada en un negocio por una hora o más sin que le pagaran?  \n",
        "- **P6351** (`P6351`): Si le hubiera resultado algún trabajo, ¿estaba disponible la semana pasada para empezar a trabajar?  \n",
        "- **P6390S1** (`P6390S1`): ¿A qué actividad se dedica principalmente la empresa o negocio en la que realiza su trabajo?  \n",
        "- **P7250** (`P7250`): ¿Durante cuántas semanas ha estado buscando trabajo?  \n",
        "- **P6920** (`P6920`): ¿Está cotizando actualmente a un fondo de pensiones?"
      ],
      "metadata": {
        "id": "Qz5Th5oANbsY"
      }
    },
    {
      "cell_type": "markdown",
      "source": [
        "### **🔢 Tipos de Datos 🔠**"
      ],
      "metadata": {
        "id": "3KSapgy2J28c"
      }
    },
    {
      "cell_type": "code",
      "source": [
        "#Identificar las variables del dataset\n",
        "print(\"Las variables del dataset son: \\n\")\n",
        "print(pobreza.dtypes)"
      ],
      "metadata": {
        "id": "2AhBdz588Pac"
      },
      "execution_count": null,
      "outputs": []
    },
    {
      "cell_type": "markdown",
      "source": [
        "### **📊 Analisis Estadístico y Gráficos**"
      ],
      "metadata": {
        "id": "1UqTmr7MNn7k"
      }
    },
    {
      "cell_type": "code",
      "source": [
        "# Obtener estadísticas generales\n",
        "estadisticas = pobreza.describe()\n",
        "\n",
        "# Mostrar estadísticas\n",
        "print(estadisticas)\n",
        "\n",
        "#Distribución de Género\n",
        "print(\"\\n👥 Distribución de Género:\")\n",
        "print(dataset[\"P6020\"].value_counts())\n",
        "\n",
        "plt.figure(figsize=(6, 4))\n",
        "dataset[\"P6020\"].value_counts().plot(kind=\"bar\", color=[\"blue\", \"pink\"])\n",
        "plt.title(\"Distribución de Género en la Encuesta\")\n",
        "plt.xticks(ticks=[0, 1], labels=[\"Hombres\", \"Mujeres\"], rotation=0)\n",
        "plt.ylabel(\"Frecuencia\")\n",
        "plt.show()\n",
        "\n",
        "#Edad Promedio de la Población Encuestada\n",
        "print(\"\\n📅 Edad Promedio de los Encuestados:\", dataset[\"P6040\"].mean())\n",
        "plt.figure(figsize=(8, 4))\n",
        "sns.histplot(dataset[\"P6040\"], bins=20, kde=True, color=\"green\")\n",
        "plt.title(\"Distribución de la Edad de los Encuestados\")\n",
        "plt.xlabel(\"Edad\")\n",
        "plt.ylabel(\"Frecuencia\")\n",
        "plt.show()\n",
        "\n",
        "#Estado General de Salud\n",
        "plt.figure(figsize=(8, 4))\n",
        "dataset[\"P6051\"].value_counts().sort_index().plot(kind=\"bar\", color=\"purple\")\n",
        "plt.title(\"Estado de Salud General de los Encuestados\")\n",
        "plt.xlabel(\"Categoría de Salud\")\n",
        "plt.ylabel(\"Frecuencia\")\n",
        "plt.show()\n",
        "\n",
        "#Afiliación a Seguridad Social (EPS/Sisben)\n",
        "plt.figure(figsize=(6, 4))\n",
        "dataset[\"P6090\"].value_counts().plot(kind=\"pie\", autopct=\"%1.1f%%\", colors=[\"green\", \"red\"])\n",
        "plt.title(\"Afiliación a Seguridad Social\")\n",
        "plt.ylabel(\"\")\n",
        "plt.show()\n",
        "\n",
        "#Distribución de Nivel Educativo Alcanzado\n",
        "plt.figure(figsize=(10, 5))\n",
        "dataset[\"P8587\"].value_counts().sort_index().plot(kind=\"bar\", color=\"orange\")\n",
        "plt.title(\"Nivel Educativo Más Alto Alcanzado\")\n",
        "plt.xlabel(\"Nivel Educativo\")\n",
        "plt.ylabel(\"Frecuencia\")\n",
        "plt.xticks(rotation=45)\n",
        "plt.show()\n",
        "\n",
        "#¿Recibe Alimentos en el Lugar Donde Permanece?\n",
        "plt.figure(figsize=(6, 4))\n",
        "dataset[\"P55\"].value_counts().plot(kind=\"pie\", autopct=\"%1.1f%%\", colors=[\"green\", \"red\"])\n",
        "plt.title(\"Recibe Alimentos en el Lugar Donde Permanece\")\n",
        "plt.ylabel(\"\")\n",
        "plt.show()\n",
        "\n",
        "#¿Dónde Permanece la Mayor Parte del Tiempo?\n",
        "plt.figure(figsize=(10, 5))\n",
        "dataset[\"P51\"].value_counts().plot(kind=\"bar\", color=\"brown\")\n",
        "plt.title(\"Lugar Donde Permanece la Mayor Parte del Tiempo\")\n",
        "plt.ylabel(\"Frecuencia\")\n",
        "plt.xticks(rotation=45)\n",
        "plt.show()\n",
        "\n",
        "#Distribución de Actividad Principal\n",
        "plt.figure(figsize=(10, 5))\n",
        "dataset[\"P6240\"].value_counts().head(10).plot(kind=\"bar\", color=\"blue\")\n",
        "plt.title(\"Top 10 Actividades en las que Ocuparon Más Tiempo\")\n",
        "plt.ylabel(\"Frecuencia\")\n",
        "plt.xticks(rotation=45)\n",
        "plt.show()\n",
        "\n",
        "#Porcentaje de Personas que Buscaron Trabajo en las Últimas Semanas\n",
        "buscando_trabajo = dataset[\"P7250\"].apply(lambda x: \"Sí\" if x > 0 else \"No\").value_counts(normalize=True) * 100\n",
        "print(\"\\n💼 Porcentaje de Personas que Buscaron Trabajo en las Últimas Semanas:\")\n",
        "print(buscando_trabajo)\n",
        "plt.figure(figsize=(6, 4))\n",
        "buscando_trabajo.plot(kind=\"pie\", autopct=\"%1.1f%%\", colors=[\"red\", \"gray\"])\n",
        "plt.title(\"Personas que Buscaron Trabajo en las Últimas Semanas\")\n",
        "plt.ylabel(\"\")\n",
        "plt.show()\n"
      ],
      "metadata": {
        "id": "vfHZtYLVZ3In"
      },
      "execution_count": null,
      "outputs": []
    },
    {
      "cell_type": "markdown",
      "source": [
        "### **📝 Calidad de Datos**"
      ],
      "metadata": {
        "id": "Y4SxcT5uNh0s"
      }
    },
    {
      "cell_type": "code",
      "source": [
        "#Verificar el número de campos vacios\n",
        "cantidad_nulos = pobreza.isnull().sum()  # conteo de los nulos\n",
        "print(\"Cantidad de campos vacios en cada columna: \\n\", cantidad_nulos)"
      ],
      "metadata": {
        "id": "bXIU0pfHZC6-"
      },
      "execution_count": null,
      "outputs": []
    },
    {
      "cell_type": "markdown",
      "source": [
        "---\n",
        "## **Ficha de Inversión Municipal en Proyectos Públicos (PP)**"
      ],
      "metadata": {
        "id": "enKjLRYYJO0h"
      }
    },
    {
      "cell_type": "markdown",
      "source": [
        "### 📚Descripción general del contenido de los conjuntos de datos\n",
        "- Los conjuntos de datos presentan información sobre la inversión y gestión de programas sociales del Gobierno Nacional a nivel municipal, organizados por periodos presidenciales. Incluyen detalles sobre los recursos destinados a la atención de población vulnerable y víctimas, así como las acciones implementadas para su bienestar. Además, registran las entidades que conforman el **Sector de Inclusión Social y la Reconciliación, permitiendo analizar la distribución de la inversión, el impacto de las políticas públicas y la evolución de estos programas en los distintos municipios del país."
      ],
      "metadata": {
        "id": "XTghP3150447"
      }
    },
    {
      "cell_type": "code",
      "source": [
        "# Mostrar las primeras filas del dataset\n",
        "display(inversion.head())\n",
        "\n",
        "# Mostrar la cantidad de filas y columnas\n",
        "inversion.shape"
      ],
      "metadata": {
        "id": "5xSVRYOOdF2c"
      },
      "execution_count": null,
      "outputs": []
    },
    {
      "cell_type": "markdown",
      "source": [
        "### **📌 Compresión de los Atributos del Dataset**\n",
        "## 🗺️ Ubicación Geográfica\n",
        "- **Código Departamento** (`codigo_departamento`): Indica el código del departamento según DIVIPOLA.  \n",
        "- **Código DANE** (`codigo_dane`): Código de identificación del municipio según el DANE.  \n",
        "- **Nombre Departamento** (`nombre_departamento`): Nombre del departamento donde se informa la atención.  \n",
        "- **Nombre Municipio** (`nombre_municipio`): Nombre del municipio donde se informa la atención.  \n",
        "\n",
        "## 🏠 Cobertura del Programa\n",
        "- **Familias Atendidas en el Período Presidencial** (`familias_periodo_presidencial`): Cantidad de familias atendidas por el programa en el municipio indicado.  \n",
        "- **Personas Atendidas en el Período Presidencial** (`personas_periodo_presidencial`): Cantidad de personas atendidas por el programa en el municipio indicado.  \n",
        "- **Inversión en el Período Presidencial** (`inversion_periodo_presidencial`): Inversión realizada por el programa en el municipio indicado.  \n",
        "\n",
        "## 🏛️ Información del Programa\n",
        "- **Nombre del Período Presidencial** (`nombre_periodopresidencial`): Nombre del período presidencial atendido.  \n",
        "- **Nombre del Programa de Atención** (`nombre_programa_salida`): Nombre del programa que realizó la atención.  \n",
        "- **Descripción** (`descripcion`): Descripción del funcionamiento del programa.  \n",
        "- **Entidad** (`entidad`): Nombre de la entidad a la cual pertenece el programa.  \n",
        "- **Población Objetivo** (`poblacion_objetivo`): Indica la población a la cual está enfocada la atención.  \n",
        "\n",
        "## 💰 Información Financiera\n",
        "- **Pagos** (`pagos`): Indica la cantidad de pagos que se han realizado.  \n",
        "- **Corte** (`corte`): Indica el corte con el cual se publica la información.  "
      ],
      "metadata": {
        "id": "mycHS1XLNczX"
      }
    },
    {
      "cell_type": "markdown",
      "source": [
        "### **🔢 Tipos de Datos 🔠**"
      ],
      "metadata": {
        "id": "PwQZ6WFSJ3yn"
      }
    },
    {
      "cell_type": "code",
      "source": [
        "#Identificar las variables del dataset\n",
        "print(\"Las variables del dataset son: \\n\")\n",
        "print(inversion.dtypes)"
      ],
      "metadata": {
        "id": "39fXY4NeaAvf"
      },
      "execution_count": null,
      "outputs": []
    },
    {
      "cell_type": "markdown",
      "source": [
        "### **📊 Analisis Estadístico y Gráficos**"
      ],
      "metadata": {
        "id": "St5v-gxWNroW"
      }
    },
    {
      "cell_type": "code",
      "source": [
        "# Obtener estadísticas generales\n",
        "estadisticas = inversion.describe()\n",
        "\n",
        "# Mostrar estadísticas\n",
        "print(estadisticas)\n",
        "\n",
        "#Cantidad de Municipios y Departamentos en el Dataset\n",
        "num_departamentos = dataset[\"nombre_departamento\"].nunique()\n",
        "num_municipios = dataset[\"nombre_municipio\"].nunique()\n",
        "\n",
        "print(f\"🏛️ Número de Departamentos: {num_departamentos}\")\n",
        "print(f\"📍 Número de Municipios: {num_municipios}\")\n",
        "\n",
        "# Departamentos con Más Familias Atendidas\n",
        "top_departamentos = dataset.groupby(\"nombre_departamento\")[\"familias_periodo_presidencial\"].sum().sort_values(ascending=False).head(10)\n",
        "plt.figure(figsize=(12, 5))\n",
        "top_departamentos.plot(kind=\"bar\", color=\"purple\")\n",
        "plt.title(\"Top 10 Departamentos con Más Familias Atendidas\")\n",
        "plt.xlabel(\"Departamento\")\n",
        "plt.ylabel(\"Familias Atendidas\")\n",
        "plt.xticks(rotation=45)\n",
        "plt.show()\n",
        "\n",
        "# Distribución de la Inversión en el Programa\n",
        "plt.figure(figsize=(12, 5))\n",
        "sns.histplot(dataset[\"inversion_periodo_presidencial\"], bins=30, kde=True, color=\"red\")\n",
        "plt.title(\"Distribución de la Inversión por Municipio\")\n",
        "plt.xlabel(\"Inversión (en millones)\")\n",
        "plt.ylabel(\"Frecuencia\")\n",
        "plt.show()\n",
        "\n",
        "#Departamentos con Mayor Inversión\n",
        "top_inversion_departamentos = dataset.groupby(\"nombre_departamento\")[\"inversion_periodo_presidencial\"].sum().sort_values(ascending=False).head(10)\n",
        "plt.figure(figsize=(12, 5))\n",
        "top_inversion_departamentos.plot(kind=\"bar\", color=\"orange\")\n",
        "plt.title(\"Top 10 Departamentos con Mayor Inversión\")\n",
        "plt.xlabel(\"Departamento\")\n",
        "plt.ylabel(\"Inversión Total\")\n",
        "plt.xticks(rotation=45)\n",
        "plt.show()\n",
        "\n",
        "#Relación entre Inversión y Cantidad de Pagos\n",
        "plt.figure(figsize=(8, 6))\n",
        "sns.scatterplot(data=dataset, x=\"inversion_periodo_presidencial\", y=\"pagos\", alpha=0.5, color=\"darkblue\")\n",
        "plt.title(\"Relación entre Inversión y Cantidad de Pagos\")\n",
        "plt.xlabel(\"Inversión\")\n",
        "plt.ylabel(\"Cantidad de Pagos\")\n",
        "plt.show()\n"
      ],
      "metadata": {
        "id": "uZnOlu2tbvRd"
      },
      "execution_count": null,
      "outputs": []
    },
    {
      "cell_type": "markdown",
      "source": [
        "### **📝 Calidad de Datos**"
      ],
      "metadata": {
        "id": "tZlJr8e-NkTH"
      }
    },
    {
      "cell_type": "code",
      "source": [
        "#Verificar el número de campos vacios\n",
        "cantidad_nulos = inversion.isnull().sum()  # conteo de los nulos\n",
        "print(\"Cantidad de campos vacios en cada columna: \\n\", cantidad_nulos)"
      ],
      "metadata": {
        "id": "LvFaZuBMa6q7"
      },
      "execution_count": null,
      "outputs": []
    },
    {
      "cell_type": "markdown",
      "source": [
        "---\n",
        "## **Resultados ICFES 11**"
      ],
      "metadata": {
        "id": "2yzU7CccJCIy"
      }
    },
    {
      "cell_type": "markdown",
      "source": [
        "### 📚Descripción general del contenido de los conjuntos de datos  \n",
        "- Este conjunto de datos contiene información sobre los resultados educativos de los estudiantes en Colombia, con variables relacionadas con su identificación, ubicación, características sociodemográficas y puntajes en distintas áreas evaluadas.  \n",
        "\n",
        "- Incluye detalles sobre los colegios, asì como datos familiares y socioeconómico, el conjunto de datos incluye puntajes en inglés, matemáticas, lectura crítica, ciencias naturales y sociales, además del puntaje global obtenido en la evaluación**. Esta información permite analizar la relación entre factores sociodemográficos y el desempeño académico, facilitando estudios sobre calidad educativa y equidad en el acceso a oportunidades."
      ],
      "metadata": {
        "id": "nmrM1-2Y063a"
      }
    },
    {
      "cell_type": "code",
      "source": [
        "# Mostrar las primeras filas del dataset\n",
        "display(icfes_bogota.head())\n",
        "\n",
        "# Mostrar la cantidad de filas y columnas\n",
        "icfes_bogota.shape"
      ],
      "metadata": {
        "id": "B0rrbVDKdL2g"
      },
      "execution_count": null,
      "outputs": []
    },
    {
      "cell_type": "markdown",
      "source": [
        "### **📌 Compresión de los Atributos del Dataset**\n",
        "## 📅 Información General\n",
        "- **PERIODO** (`periodo`): Periodo de los resultados.  \n",
        "- **ESTU_TIPODOCUMENTO** (`estu_tipodocumento`): Tipo de documento del examinando.  \n",
        "- **ESTU_CONSECUTIVO** (`estu_consecutivo`): Identificador único del examinando.  \n",
        "\n",
        "## 🏫 Información del Colegio\n",
        "- **COLE_AREA_UBICACION** (`cole_area_ubicacion`): Ubicación de la sede.  \n",
        "- **COLE_BILINGUE** (`cole_bilingue`): ¿Es colegio bilingüe?  \n",
        "- **COLE_CALENDARIO** (`cole_calendario`): Calendario del establecimiento.  \n",
        "- **COLE_CARACTER** (`cole_caracter`): Carácter del establecimiento.  \n",
        "- **COLE_COD_DANE_ESTABLECIMIENTO** (`cole_cod_dane_establecimiento`): Código DANE del establecimiento.  \n",
        "- **COLE_COD_DANE_SEDE** (`cole_cod_dane_sede`): Código DANE de la sede.  \n",
        "- **COLE_COD_DEPTO_UBICACION** (`cole_cod_depto_ubicacion`): Departamento de la sede.  \n",
        "- **COLE_COD_MCPIO_UBICACION** (`cole_cod_mcpio_ubicacion`): Código del municipio de la sede.  \n",
        "- **COLE_CODIGO_ICFES** (`cole_codigo_icfes`): Código ICFES del establecimiento.  \n",
        "- **COLE_DEPTO_UBICACION** (`cole_depto_ubicacion`): Departamento de la sede.  \n",
        "- **COLE_GENERO** (`cole_genero`): Género del establecimiento.  \n",
        "- **COLE_JORNADA** (`cole_jornada`): Jornada de la sede.  \n",
        "- **COLE_MCPIO_UBICACION** (`cole_mcpio_ubicacion`): Municipio de la sede.  \n",
        "- **COLE_NATURALEZA** (`cole_naturaleza`): Naturaleza del establecimiento.  \n",
        "- **COLE_NOMBRE_ESTABLECIMIENTO** (`cole_nombre_establecimiento`): Nombre del establecimiento.  \n",
        "- **COLE_NOMBRE_SEDE** (`cole_nombre_sede`): Nombre de la sede.  \n",
        "- **COLE_SEDE_PRINCIPAL** (`cole_sede_principal`): ¿Es la sede principal?  \n",
        "\n",
        "## 📍 Ubicación del Examen y Residencia\n",
        "- **ESTU_COD_DEPTO_PRESENTACION** (`estu_cod_depto_presentacion`): Código del departamento de presentación del examen.  \n",
        "- **ESTU_COD_MCPIO_PRESENTACION** (`estu_cod_mcpio_presentacion`): Código del municipio de presentación del examen.  \n",
        "- **ESTU_COD_RESIDE_DEPTO** (`estu_cod_reside_depto`): Código del departamento de residencia del examinando.  \n",
        "- **ESTU_COD_RESIDE_MCPIO** (`estu_cod_reside_mcpio`): Código del municipio de residencia del examinando.  \n",
        "- **ESTU_DEPTO_PRESENTACION** (`estu_depto_presentacion`): Departamento de presentación del examen.  \n",
        "- **ESTU_DEPTO_RESIDE** (`estu_depto_reside`): Departamento de residencia del examinando.  \n",
        "- **ESTU_MCPIO_PRESENTACION** (`estu_mcpio_presentacion`): Municipio de presentación del examen.  \n",
        "- **ESTU_MCPIO_RESIDE** (`estu_mcpio_reside`): Municipio de residencia del examinando.  \n",
        "\n",
        "## 👤 Información del Examinando\n",
        "- **ESTU_ESTADOINVESTIGACION** (`estu_estadoinvestigacion`): ¿Permite usar sus datos para investigaciones?  \n",
        "- **ESTU_ESTUDIANTE** (`estu_estudiante`): \"S\" si es estudiante o \"N\" si es individual.  \n",
        "- **ESTU_FECHANACIMIENTO** (`estu_fechanacimiento`): Fecha de nacimiento del examinando.  \n",
        "- **ESTU_GENERO** (`estu_genero`): Género del examinando.  \n",
        "- **ESTU_NACIONALIDAD** (`estu_nacionalidad`): Nacionalidad del examinando.  \n",
        "- **ESTU_PAIS_RESIDE** (`estu_pais_reside`): País de residencia del examinando.  \n",
        "- **ESTU_PRIVADO_LIBERTAD** (`estu_privado_libertad`): ¿Es privado de la libertad?  \n",
        "\n",
        "## 🏠 Información del Hogar\n",
        "- **FAMI_CUARTOSHOGAR** (`fami_cuartoshogar`): ¿Cuántos cuartos tiene su hogar?  \n",
        "- **FAMI_EDUCACIONMADRE** (`fami_educacionmadre`): Nivel de estudios de la madre.  \n",
        "- **FAMI_EDUCACIONPADRE** (`fami_educacionpadre`): Nivel de estudios del padre.  \n",
        "- **FAMI_ESTRATOVIVIENDA** (`fami_estratovivienda`): Estrato del examinando.  \n",
        "- **FAMI_PERSONASHOGAR** (`fami_personashogar`): ¿Con cuántas personas vive?  \n",
        "- **FAMI_TIENEAUTOMOVIL** (`fami_tieneautomovil`): ¿Tiene automóvil?  \n",
        "- **FAMI_TIENECOMPUTADOR** (`fami_tienecomputador`): ¿Tiene computador?  \n",
        "- **FAMI_TIENEINTERNET** (`fami_tieneinternet`): ¿Tiene internet?  \n",
        "- **FAMI_TIENELAVADORA** (`fami_tienelavadora`): ¿Tiene lavadora?  \n",
        "\n",
        "## 📊 Resultados del Examen\n",
        "- **DESEMP_INGLES** (`desemp_ingles`): Desempeño en inglés.  \n",
        "- **PUNT_INGLES** (`punt_ingles`): Puntaje en inglés.  \n",
        "- **PUNT_MATEMATICAS** (`punt_matematicas`): Puntaje en matemáticas.  \n",
        "- **PUNT_SOCIALES_CIUDADANAS** (`punt_sociales_ciudadanas`): Puntaje en sociales y ciudadanas.  \n",
        "- **PUNT_C_NATURALES** (`punt_c_naturales`): Puntaje en ciencias naturales.  \n",
        "- **PUNT_LECTURA_CRITICA** (`punt_lectura_critica`): Puntaje en lectura crítica.  \n",
        "- **PUNT_GLOBAL** (`punt_global`): Puntaje global.  "
      ],
      "metadata": {
        "id": "q1wZxz09NcKX"
      }
    },
    {
      "cell_type": "markdown",
      "source": [
        "### **🔢 Tipos de Datos 🔠**"
      ],
      "metadata": {
        "id": "BUd217nUJ3aF"
      }
    },
    {
      "cell_type": "code",
      "source": [
        "#Identificar las variables del dataset\n",
        "print(\"Las variables del dataset son: \\n\")\n",
        "print(icfes_bogota.dtypes)"
      ],
      "metadata": {
        "id": "xUUdXrWAbWX8"
      },
      "execution_count": null,
      "outputs": []
    },
    {
      "cell_type": "markdown",
      "source": [
        "### **📊 Analisis Estadístico y Gráficos**"
      ],
      "metadata": {
        "id": "WjM8tT2bNpqv"
      }
    },
    {
      "cell_type": "code",
      "source": [
        "# Obtener estadísticas generales\n",
        "estadisticas = icfes_bogota.describe()\n",
        "# Mostrar estadísticas\n",
        "print(estadisticas)"
      ],
      "metadata": {
        "id": "hdXtJf44bqu0",
        "colab": {
          "base_uri": "https://localhost:8080/"
        },
        "outputId": "50ec1017-74c0-49ee-bff4-8bff222368fe"
      },
      "execution_count": null,
      "outputs": [
        {
          "output_type": "stream",
          "name": "stdout",
          "text": [
            "            PERIODO  COLE_COD_DANE_ESTABLECIMIENTO  COLE_COD_DANE_SEDE  \\\n",
            "count  1.131725e+06                   1.130014e+06        1.131725e+06   \n",
            "mean   2.015747e+04                   2.079474e+11        2.075627e+11   \n",
            "std    3.899695e+01                   1.001486e+11        1.005423e+11   \n",
            "min    2.010100e+04                   1.110011e+10        0.000000e+00   \n",
            "25%    2.012200e+04                   1.110010e+11        1.110010e+11   \n",
            "50%    2.015200e+04                   1.118480e+11        1.118480e+11   \n",
            "75%    2.019400e+04                   3.110011e+11        3.110011e+11   \n",
            "max    2.022400e+04                   4.118480e+11        5.110001e+11   \n",
            "\n",
            "       COLE_COD_DEPTO_UBICACION  COLE_COD_MCPIO_UBICACION  COLE_CODIGO_ICFES  \\\n",
            "count                 1131725.0                 1131725.0       1.126026e+06   \n",
            "mean                       11.0                   11001.0       1.165432e+05   \n",
            "std                         0.0                       0.0       1.482942e+05   \n",
            "min                        11.0                   11001.0       0.000000e+00   \n",
            "25%                        11.0                   11001.0       3.739000e+04   \n",
            "50%                        11.0                   11001.0       8.533200e+04   \n",
            "75%                        11.0                   11001.0       1.284700e+05   \n",
            "max                        11.0                   11001.0       8.066950e+05   \n",
            "\n",
            "       ESTU_COD_DEPTO_PRESENTACION  ESTU_COD_MCPIO_PRESENTACION  \\\n",
            "count                 1.131722e+06                 1.131722e+06   \n",
            "mean                  1.127284e+01                 1.128087e+04   \n",
            "std                   2.926962e+00                 2.962650e+03   \n",
            "min                   5.000000e+00                 5.001000e+03   \n",
            "25%                   1.100000e+01                 1.100100e+04   \n",
            "50%                   1.100000e+01                 1.100100e+04   \n",
            "75%                   1.100000e+01                 1.100100e+04   \n",
            "max                   9.900000e+01                 9.900100e+04   \n",
            "\n",
            "       ESTU_COD_RESIDE_DEPTO  ESTU_COD_RESIDE_MCPIO   PUNT_INGLES  \\\n",
            "count           1.123214e+06           1.123214e+06  1.131671e+06   \n",
            "mean            1.204115e+01           1.133915e+04  5.327168e+01   \n",
            "std             2.668625e+02           3.121090e+03  1.372799e+01   \n",
            "min             5.000000e+00           5.001000e+03 -1.000000e+00   \n",
            "25%             1.100000e+01           1.100100e+04  4.300000e+01   \n",
            "50%             1.100000e+01           1.100100e+04  5.100000e+01   \n",
            "75%             1.100000e+01           1.100100e+04  6.000000e+01   \n",
            "max             9.999900e+04           9.999900e+04  1.172900e+02   \n",
            "\n",
            "       PUNT_MATEMATICAS  PUNT_SOCIALES_CIUDADANAS  PUNT_C_NATURALES  \\\n",
            "count      1.131725e+06             712661.000000     712661.000000   \n",
            "mean       5.290127e+01                 52.959991         53.876431   \n",
            "std        1.192393e+01                 11.427464         10.261587   \n",
            "min        0.000000e+00                  0.000000          0.000000   \n",
            "25%        4.500000e+01                 45.000000         47.000000   \n",
            "50%        5.200000e+01                 53.000000         54.000000   \n",
            "75%        6.051000e+01                 61.000000         61.000000   \n",
            "max        1.270000e+02                100.000000        100.000000   \n",
            "\n",
            "       PUNT_LECTURA_CRITICA    PUNT_GLOBAL  \n",
            "count         712661.000000  712661.000000  \n",
            "mean              55.648569     272.171814  \n",
            "std                9.855946      49.131839  \n",
            "min                0.000000       0.000000  \n",
            "25%               49.000000     237.000000  \n",
            "50%               56.000000     270.000000  \n",
            "75%               63.000000     306.000000  \n",
            "max              100.000000     494.000000  \n"
          ]
        }
      ]
    },
    {
      "cell_type": "code",
      "source": [
        "#Distribución de los Puntajes Globales ##cambiar nombres de dataset para corroborar\n",
        "dataset=icfes_bogota\n",
        "plt.figure(figsize=(12, 5))\n",
        "sns.histplot(dataset[\"PUNT_GLOBAL\"], bins=30, kde=True, color=\"blue\")\n",
        "plt.title(\"Distribución de los Puntajes Globales\")\n",
        "plt.xlabel(\"Puntaje Global\")\n",
        "plt.ylabel(\"Frecuencia\")\n",
        "plt.show()"
      ],
      "metadata": {
        "colab": {
          "base_uri": "https://localhost:8080/",
          "height": 488
        },
        "id": "MLzyYnCj7UdJ",
        "outputId": "a29a5c95-d22b-44b3-998d-b3079f145826"
      },
      "execution_count": null,
      "outputs": [
        {
          "output_type": "display_data",
          "data": {
            "text/plain": [
              "<Figure size 1200x500 with 1 Axes>"
            ],
            "image/png": "[encoded data removed]"
          },
          "metadata": {}
        }
      ]
    },
    {
      "cell_type": "code",
      "source": [
        "#Promedio de Puntajes por Materia\n",
        "promedios = dataset[[\"PUNT_INGLES\", \"PUNT_MATEMATICAS\", \"PUNT_SOCIALES_CIUDADANAS\",\n",
        "                     \"PUNT_C_NATURALES\", \"PUNT_LECTURA_CRITICA\"]].mean()\n",
        "plt.figure(figsize=(12, 5))\n",
        "promedios.plot(kind=\"bar\", color=\"green\")\n",
        "plt.title(\"Promedio de Puntajes por Materia\")\n",
        "plt.xlabel(\"Materia\")\n",
        "plt.ylabel(\"Puntaje Promedio\")\n",
        "plt.xticks(rotation=45)\n",
        "plt.show()"
      ],
      "metadata": {
        "colab": {
          "base_uri": "https://localhost:8080/",
          "height": 633
        },
        "id": "e5y69tvx7aFc",
        "outputId": "cb1e9d33-e038-4f6f-a3cb-52412deeba1f"
      },
      "execution_count": null,
      "outputs": [
        {
          "output_type": "display_data",
          "data": {
            "text/plain": [
              "<Figure size 1200x500 with 1 Axes>"
            ],
            "image/png": "[encoded data removed]"
          },
          "metadata": {}
        }
      ]
    },
    {
      "cell_type": "code",
      "source": [
        "#Distribución del Estrato Socioeconómico de los Examinandos\n",
        "plt.figure(figsize=(8, 5))\n",
        "sns.countplot(data=dataset, x=\"FAMI_ESTRATOVIVIENDA\", palette=\"coolwarm\")\n",
        "plt.title(\"Distribución del Estrato Socioeconómico\")\n",
        "plt.xlabel(\"Estrato\")\n",
        "plt.ylabel(\"Cantidad de Examinandos\")\n",
        "plt.show()"
      ],
      "metadata": {
        "colab": {
          "base_uri": "https://localhost:8080/",
          "height": 574
        },
        "id": "cTOefMms7fVI",
        "outputId": "b84bb9a0-7fa0-4ab7-f408-9a0432dd7363"
      },
      "execution_count": null,
      "outputs": [
        {
          "output_type": "stream",
          "name": "stderr",
          "text": [
            "<ipython-input-13-ce8a1e91ac3d>:3: FutureWarning: \n",
            "\n",
            "Passing `palette` without assigning `hue` is deprecated and will be removed in v0.14.0. Assign the `x` variable to `hue` and set `legend=False` for the same effect.\n",
            "\n",
            "  sns.countplot(data=dataset, x=\"FAMI_ESTRATOVIVIENDA\", palette=\"coolwarm\")\n"
          ]
        },
        {
          "output_type": "display_data",
          "data": {
            "text/plain": [
              "<Figure size 800x500 with 1 Axes>"
            ],
            "image/png": "[encoded data removed]"
          },
          "metadata": {}
        }
      ]
    },
    {
      "cell_type": "code",
      "source": [
        "#Relación entre el Estrato y el Puntaje Global\n",
        "plt.figure(figsize=(8, 6))\n",
        "sns.boxplot(data=dataset, x=\"FAMI_ESTRATOVIVIENDA\", y=\"PUNT_GLOBAL\", palette=\"coolwarm\")\n",
        "plt.title(\"Relación entre Estrato y Puntaje Global\")\n",
        "plt.xlabel(\"Estrato\")\n",
        "plt.ylabel(\"Puntaje Global\")\n",
        "plt.show()"
      ],
      "metadata": {
        "colab": {
          "base_uri": "https://localhost:8080/",
          "height": 652
        },
        "id": "fIqcO7im7kT8",
        "outputId": "555e591c-2abb-46b7-8783-2c97ef5ebad6"
      },
      "execution_count": null,
      "outputs": [
        {
          "output_type": "stream",
          "name": "stderr",
          "text": [
            "<ipython-input-15-43b7b06a7d8c>:3: FutureWarning: \n",
            "\n",
            "Passing `palette` without assigning `hue` is deprecated and will be removed in v0.14.0. Assign the `x` variable to `hue` and set `legend=False` for the same effect.\n",
            "\n",
            "  sns.boxplot(data=dataset, x=\"FAMI_ESTRATOVIVIENDA\", y=\"PUNT_GLOBAL\", palette=\"coolwarm\")\n"
          ]
        },
        {
          "output_type": "display_data",
          "data": {
            "text/plain": [
              "<Figure size 800x600 with 1 Axes>"
            ],
            "image/png": "[encoded data removed]"
          },
          "metadata": {}
        }
      ]
    },
    {
      "cell_type": "code",
      "source": [
        "#Diferencia de Puntajes por Género\n",
        "plt.figure(figsize=(8, 6))\n",
        "sns.boxplot(data=dataset, x=\"ESTU_GENERO\", y=\"PUNT_GLOBAL\", palette=\"muted\")\n",
        "plt.title(\"Diferencia de Puntajes Globales por Género\")\n",
        "plt.xlabel(\"Género\")\n",
        "plt.ylabel(\"Puntaje Global\")\n",
        "plt.show()"
      ],
      "metadata": {
        "colab": {
          "base_uri": "https://localhost:8080/",
          "height": 652
        },
        "id": "6eopor5P7pOs",
        "outputId": "4c0773e6-9bf0-414f-c254-1f77d9e4b889"
      },
      "execution_count": null,
      "outputs": [
        {
          "output_type": "stream",
          "name": "stderr",
          "text": [
            "<ipython-input-16-eed6afb78e3d>:3: FutureWarning: \n",
            "\n",
            "Passing `palette` without assigning `hue` is deprecated and will be removed in v0.14.0. Assign the `x` variable to `hue` and set `legend=False` for the same effect.\n",
            "\n",
            "  sns.boxplot(data=dataset, x=\"ESTU_GENERO\", y=\"PUNT_GLOBAL\", palette=\"muted\")\n"
          ]
        },
        {
          "output_type": "display_data",
          "data": {
            "text/plain": [
              "<Figure size 800x600 with 1 Axes>"
            ],
            "image/png": "[encoded data removed]"
          },
          "metadata": {}
        }
      ]
    },
    {
      "cell_type": "markdown",
      "source": [
        "### **📝 Calidad de Datos**"
      ],
      "metadata": {
        "id": "fCZd_acsNjIP"
      }
    },
    {
      "cell_type": "code",
      "source": [
        "#Verificar el número de campos vacios\n",
        "cantidad_nulos = icfes_bogota.isnull().sum()  # conteo de los nulos\n",
        "print(\"Cantidad de campos vacios en cada columna: \\n\", cantidad_nulos)"
      ],
      "metadata": {
        "id": "YZrYk4TIbaEa",
        "colab": {
          "base_uri": "https://localhost:8080/"
        },
        "outputId": "68859c54-8393-4050-9807-071664baf688"
      },
      "execution_count": null,
      "outputs": [
        {
          "output_type": "stream",
          "name": "stdout",
          "text": [
            "Cantidad de campos vacios en cada columna: \n",
            " PERIODO                               0\n",
            "ESTU_TIPODOCUMENTO                    0\n",
            "ESTU_CONSECUTIVO                      0\n",
            "COLE_AREA_UBICACION                1790\n",
            "COLE_BILINGUE                    151494\n",
            "COLE_CALENDARIO                     371\n",
            "COLE_CARACTER                     22188\n",
            "COLE_COD_DANE_ESTABLECIMIENTO      1711\n",
            "COLE_COD_DANE_SEDE                    0\n",
            "COLE_COD_DEPTO_UBICACION              0\n",
            "COLE_COD_MCPIO_UBICACION              0\n",
            "COLE_CODIGO_ICFES                  5699\n",
            "COLE_DEPTO_UBICACION                  0\n",
            "COLE_GENERO                           0\n",
            "COLE_JORNADA                          0\n",
            "COLE_MCPIO_UBICACION                  0\n",
            "COLE_NATURALEZA                       0\n",
            "COLE_NOMBRE_ESTABLECIMIENTO           0\n",
            "COLE_NOMBRE_SEDE                      0\n",
            "COLE_SEDE_PRINCIPAL                   0\n",
            "ESTU_COD_DEPTO_PRESENTACION           3\n",
            "ESTU_COD_MCPIO_PRESENTACION           3\n",
            "ESTU_COD_RESIDE_DEPTO              8511\n",
            "ESTU_COD_RESIDE_MCPIO              8511\n",
            "ESTU_DEPTO_PRESENTACION               3\n",
            "ESTU_DEPTO_RESIDE                  8511\n",
            "ESTU_ESTADOINVESTIGACION              0\n",
            "ESTU_ESTUDIANTE                       0\n",
            "ESTU_FECHANACIMIENTO                  1\n",
            "ESTU_GENERO                         543\n",
            "ESTU_MCPIO_PRESENTACION               3\n",
            "ESTU_MCPIO_RESIDE                  8511\n",
            "ESTU_NACIONALIDAD                     0\n",
            "ESTU_PAIS_RESIDE                      0\n",
            "ESTU_PRIVADO_LIBERTAD                 0\n",
            "FAMI_CUARTOSHOGAR                 16021\n",
            "FAMI_EDUCACIONMADRE               26638\n",
            "FAMI_EDUCACIONPADRE               26624\n",
            "FAMI_ESTRATOVIVIENDA              26436\n",
            "FAMI_PERSONASHOGAR                16115\n",
            "FAMI_TIENEAUTOMOVIL               16235\n",
            "FAMI_TIENECOMPUTADOR              19136\n",
            "FAMI_TIENEINTERNET                23901\n",
            "FAMI_TIENELAVADORA                15505\n",
            "DESEMP_INGLES                       371\n",
            "PUNT_INGLES                          54\n",
            "PUNT_MATEMATICAS                      0\n",
            "PUNT_SOCIALES_CIUDADANAS         419064\n",
            "PUNT_C_NATURALES                 419064\n",
            "PUNT_LECTURA_CRITICA             419064\n",
            "PUNT_GLOBAL                      419064\n",
            "dtype: int64\n"
          ]
        }
      ]
    },
    {
      "cell_type": "code",
      "source": [
        "#Calcular el porcentaje de campos vacios por columna\n",
        "cantidad_registros = icfes_bogota.shape[0]\n",
        "print(\"Cantidad de registros: \", internet.shape[0])\n",
        "Porcentaje = cantidad_nulos/cantidad_registros*100\n",
        "print(\"Porcentaje de campos vacios por columna: \\n\", Porcentaje)"
      ],
      "metadata": {
        "id": "JFBzm-UhbgCh",
        "colab": {
          "base_uri": "https://localhost:8080/"
        },
        "outputId": "544a9f97-5a09-402c-ff14-18b2d9cacc21"
      },
      "execution_count": null,
      "outputs": [
        {
          "output_type": "stream",
          "name": "stdout",
          "text": [
            "Cantidad de registros:  140\n",
            "Porcentaje de campos vacios por columna: \n",
            " PERIODO                           0.000000\n",
            "ESTU_TIPODOCUMENTO                0.000000\n",
            "ESTU_CONSECUTIVO                  0.000000\n",
            "COLE_AREA_UBICACION               0.158166\n",
            "COLE_BILINGUE                    13.386114\n",
            "COLE_CALENDARIO                   0.032782\n",
            "COLE_CARACTER                     1.960547\n",
            "COLE_COD_DANE_ESTABLECIMIENTO     0.151185\n",
            "COLE_COD_DANE_SEDE                0.000000\n",
            "COLE_COD_DEPTO_UBICACION          0.000000\n",
            "COLE_COD_MCPIO_UBICACION          0.000000\n",
            "COLE_CODIGO_ICFES                 0.503568\n",
            "COLE_DEPTO_UBICACION              0.000000\n",
            "COLE_GENERO                       0.000000\n",
            "COLE_JORNADA                      0.000000\n",
            "COLE_MCPIO_UBICACION              0.000000\n",
            "COLE_NATURALEZA                   0.000000\n",
            "COLE_NOMBRE_ESTABLECIMIENTO       0.000000\n",
            "COLE_NOMBRE_SEDE                  0.000000\n",
            "COLE_SEDE_PRINCIPAL               0.000000\n",
            "ESTU_COD_DEPTO_PRESENTACION       0.000265\n",
            "ESTU_COD_MCPIO_PRESENTACION       0.000265\n",
            "ESTU_COD_RESIDE_DEPTO             0.752038\n",
            "ESTU_COD_RESIDE_MCPIO             0.752038\n",
            "ESTU_DEPTO_PRESENTACION           0.000265\n",
            "ESTU_DEPTO_RESIDE                 0.752038\n",
            "ESTU_ESTADOINVESTIGACION          0.000000\n",
            "ESTU_ESTUDIANTE                   0.000000\n",
            "ESTU_FECHANACIMIENTO              0.000088\n",
            "ESTU_GENERO                       0.047980\n",
            "ESTU_MCPIO_PRESENTACION           0.000265\n",
            "ESTU_MCPIO_RESIDE                 0.752038\n",
            "ESTU_NACIONALIDAD                 0.000000\n",
            "ESTU_PAIS_RESIDE                  0.000000\n",
            "ESTU_PRIVADO_LIBERTAD             0.000000\n",
            "FAMI_CUARTOSHOGAR                 1.415627\n",
            "FAMI_EDUCACIONMADRE               2.353752\n",
            "FAMI_EDUCACIONPADRE               2.352515\n",
            "FAMI_ESTRATOVIVIENDA              2.335903\n",
            "FAMI_PERSONASHOGAR                1.423932\n",
            "FAMI_TIENEAUTOMOVIL               1.434536\n",
            "FAMI_TIENECOMPUTADOR              1.690870\n",
            "FAMI_TIENEINTERNET                2.111909\n",
            "FAMI_TIENELAVADORA                1.370032\n",
            "DESEMP_INGLES                     0.032782\n",
            "PUNT_INGLES                       0.004771\n",
            "PUNT_MATEMATICAS                  0.000000\n",
            "PUNT_SOCIALES_CIUDADANAS         37.028783\n",
            "PUNT_C_NATURALES                 37.028783\n",
            "PUNT_LECTURA_CRITICA             37.028783\n",
            "PUNT_GLOBAL                      37.028783\n",
            "dtype: float64\n"
          ]
        }
      ]
    },
    {
      "cell_type": "markdown",
      "source": [
        "---\n",
        "## **Filtros Limpieza y transformación inicial**"
      ],
      "metadata": {
        "id": "wSErvpYgWM1U"
      }
    },
    {
      "cell_type": "markdown",
      "source": [
        "En esta sección, se realizará un proceso de limpieza, filtrado y transformación inicial sobre los diferentes conjuntos de datos utilizados en el análisis. El objetivo principal es garantizar la calidad de los datos eliminando inconsistencias, manejando valores nulos y eliminando valores atípicos que puedan afectar los análisis posteriores.\n",
        "\n",
        "Para ello, se aplicarán los siguientes pasos en cada uno de los nueve conjuntos de datos:\n",
        "\n",
        "**Manejo de valores nulos:**\n",
        "\n",
        "\n",
        "\n",
        "*   Se identificará el porcentaje de valores faltantes en cada variable.\n",
        "\n",
        "*   Se eliminarán columnas con más del 35% de valores nulos, ya que pueden afectar la calidad del análisis.\n",
        "\n",
        "*  Se imputarán los valores faltantes de las variables numéricas utilizando la media de la columna.\n",
        "\n",
        "*   Se imputarán los valores faltantes de las variables categóricas utilizando la moda (valor más frecuente).\n",
        "\n",
        "\n",
        "**Eliminación de valores atípicos**\n",
        "\n",
        "\n",
        "*   Se analizará la distribución de los valores en cada variable numérica.\n",
        "\n",
        "*    Se utilizará el método del rango intercuartílico (IQR) para detectar valores extremos y eliminarlos, reduciendo el impacto de datos anómalos en el análisis.\n",
        "\n",
        "\n",
        "\n",
        "\n",
        "\n"
      ],
      "metadata": {
        "id": "ds7vVt_Zgn8m"
      }
    },
    {
      "cell_type": "markdown",
      "source": [
        "### **Conjunto de datos `Icfes_bogota`**"
      ],
      "metadata": {
        "id": "4h4nmFENgsVn"
      }
    },
    {
      "cell_type": "markdown",
      "source": [
        "**Limpieza de datos**"
      ],
      "metadata": {
        "id": "P7ikp_X6iPFm"
      }
    },
    {
      "cell_type": "code",
      "source": [
        "# 1. Manejo de valores nulos\n",
        "df1=icfes_bogota\n",
        "# Columnas con más del 35% de valores nulos que se eliminarán\n",
        "cols_to_drop = [\"PUNT_SOCIALES_CIUDADANAS\", \"PUNT_C_NATURALES\", \"PUNT_LECTURA_CRITICA\", \"PUNT_GLOBAL\"]\n",
        "df1.drop(columns=cols_to_drop, inplace=True)\n",
        "\n",
        "# Imputación de valores numéricos con la media\n",
        "df1.fillna(df1.mean(numeric_only=True), inplace=True)\n",
        "\n",
        "# Imputación de valores categóricos con la moda\n",
        "categorical_cols = df1.select_dtypes(include=['object']).columns\n",
        "for col in categorical_cols:\n",
        "    df1[col].fillna(df1[col].mode()[0], inplace=True)\n",
        "\n",
        "# 2. Detección y eliminación de valores atípicos (usando IQR)\n",
        "numeric_cols = df1.select_dtypes(include=[np.number]).columns\n",
        "for col in numeric_cols:\n",
        "    Q1 = df1[col].quantile(0.25)\n",
        "    Q3 = df1[col].quantile(0.75)\n",
        "    IQR = Q3 - Q1\n",
        "    lower_bound = Q1 - 1.5 * IQR\n",
        "    upper_bound = Q3 + 1.5 * IQR\n",
        "    df1 = df1[(df1[col] >= lower_bound) & (df1[col] <= upper_bound)]\n",
        "\n",
        "# Guardar el dataset limpio\n",
        "icfes_bogota_limpio=df1"
      ],
      "metadata": {
        "id": "wiKXsWp3gw_-",
        "colab": {
          "base_uri": "https://localhost:8080/",
          "height": 356
        },
        "outputId": "ee4349cb-c0c9-42ae-a2c6-ecd6a2fd298e"
      },
      "execution_count": null,
      "outputs": [
        {
          "output_type": "error",
          "ename": "KeyError",
          "evalue": "\"['PUNT_SOCIALES_CIUDADANAS', 'PUNT_C_NATURALES', 'PUNT_LECTURA_CRITICA', 'PUNT_GLOBAL'] not found in axis\"",
          "traceback": [
            "\u001b[0;31m---------------------------------------------------------------------------\u001b[0m",
            "\u001b[0;31mKeyError\u001b[0m                                  Traceback (most recent call last)",
            "\u001b[0;32m<ipython-input-19-0bf3b6d89639>\u001b[0m in \u001b[0;36m<cell line: 0>\u001b[0;34m()\u001b[0m\n\u001b[1;32m      3\u001b[0m \u001b[0;31m# Columnas con más del 35% de valores nulos que se eliminarán\u001b[0m\u001b[0;34m\u001b[0m\u001b[0;34m\u001b[0m\u001b[0m\n\u001b[1;32m      4\u001b[0m \u001b[0mcols_to_drop\u001b[0m \u001b[0;34m=\u001b[0m \u001b[0;34m[\u001b[0m\u001b[0;34m\"PUNT_SOCIALES_CIUDADANAS\"\u001b[0m\u001b[0;34m,\u001b[0m \u001b[0;34m\"PUNT_C_NATURALES\"\u001b[0m\u001b[0;34m,\u001b[0m \u001b[0;34m\"PUNT_LECTURA_CRITICA\"\u001b[0m\u001b[0;34m,\u001b[0m \u001b[0;34m\"PUNT_GLOBAL\"\u001b[0m\u001b[0;34m]\u001b[0m\u001b[0;34m\u001b[0m\u001b[0;34m\u001b[0m\u001b[0m\n\u001b[0;32m----> 5\u001b[0;31m \u001b[0mdf1\u001b[0m\u001b[0;34m.\u001b[0m\u001b[0mdrop\u001b[0m\u001b[0;34m(\u001b[0m\u001b[0mcolumns\u001b[0m\u001b[0;34m=\u001b[0m\u001b[0mcols_to_drop\u001b[0m\u001b[0;34m,\u001b[0m \u001b[0minplace\u001b[0m\u001b[0;34m=\u001b[0m\u001b[0;32mTrue\u001b[0m\u001b[0;34m)\u001b[0m\u001b[0;34m\u001b[0m\u001b[0;34m\u001b[0m\u001b[0m\n\u001b[0m\u001b[1;32m      6\u001b[0m \u001b[0;34m\u001b[0m\u001b[0m\n\u001b[1;32m      7\u001b[0m \u001b[0;31m# Imputación de valores numéricos con la media\u001b[0m\u001b[0;34m\u001b[0m\u001b[0;34m\u001b[0m\u001b[0m\n",
            "\u001b[0;32m/usr/local/lib/python3.11/dist-packages/pandas/core/frame.py\u001b[0m in \u001b[0;36mdrop\u001b[0;34m(self, labels, axis, index, columns, level, inplace, errors)\u001b[0m\n\u001b[1;32m   5579\u001b[0m                 \u001b[0mweight\u001b[0m  \u001b[0;36m1.0\u001b[0m     \u001b[0;36m0.8\u001b[0m\u001b[0;34m\u001b[0m\u001b[0;34m\u001b[0m\u001b[0m\n\u001b[1;32m   5580\u001b[0m         \"\"\"\n\u001b[0;32m-> 5581\u001b[0;31m         return super().drop(\n\u001b[0m\u001b[1;32m   5582\u001b[0m             \u001b[0mlabels\u001b[0m\u001b[0;34m=\u001b[0m\u001b[0mlabels\u001b[0m\u001b[0;34m,\u001b[0m\u001b[0;34m\u001b[0m\u001b[0;34m\u001b[0m\u001b[0m\n\u001b[1;32m   5583\u001b[0m             \u001b[0maxis\u001b[0m\u001b[0;34m=\u001b[0m\u001b[0maxis\u001b[0m\u001b[0;34m,\u001b[0m\u001b[0;34m\u001b[0m\u001b[0;34m\u001b[0m\u001b[0m\n",
            "\u001b[0;32m/usr/local/lib/python3.11/dist-packages/pandas/core/generic.py\u001b[0m in \u001b[0;36mdrop\u001b[0;34m(self, labels, axis, index, columns, level, inplace, errors)\u001b[0m\n\u001b[1;32m   4786\u001b[0m         \u001b[0;32mfor\u001b[0m \u001b[0maxis\u001b[0m\u001b[0;34m,\u001b[0m \u001b[0mlabels\u001b[0m \u001b[0;32min\u001b[0m \u001b[0maxes\u001b[0m\u001b[0;34m.\u001b[0m\u001b[0mitems\u001b[0m\u001b[0;34m(\u001b[0m\u001b[0;34m)\u001b[0m\u001b[0;34m:\u001b[0m\u001b[0;34m\u001b[0m\u001b[0;34m\u001b[0m\u001b[0m\n\u001b[1;32m   4787\u001b[0m             \u001b[0;32mif\u001b[0m \u001b[0mlabels\u001b[0m \u001b[0;32mis\u001b[0m \u001b[0;32mnot\u001b[0m \u001b[0;32mNone\u001b[0m\u001b[0;34m:\u001b[0m\u001b[0;34m\u001b[0m\u001b[0;34m\u001b[0m\u001b[0m\n\u001b[0;32m-> 4788\u001b[0;31m                 \u001b[0mobj\u001b[0m \u001b[0;34m=\u001b[0m \u001b[0mobj\u001b[0m\u001b[0;34m.\u001b[0m\u001b[0m_drop_axis\u001b[0m\u001b[0;34m(\u001b[0m\u001b[0mlabels\u001b[0m\u001b[0;34m,\u001b[0m \u001b[0maxis\u001b[0m\u001b[0;34m,\u001b[0m \u001b[0mlevel\u001b[0m\u001b[0;34m=\u001b[0m\u001b[0mlevel\u001b[0m\u001b[0;34m,\u001b[0m \u001b[0merrors\u001b[0m\u001b[0;34m=\u001b[0m\u001b[0merrors\u001b[0m\u001b[0;34m)\u001b[0m\u001b[0;34m\u001b[0m\u001b[0;34m\u001b[0m\u001b[0m\n\u001b[0m\u001b[1;32m   4789\u001b[0m \u001b[0;34m\u001b[0m\u001b[0m\n\u001b[1;32m   4790\u001b[0m         \u001b[0;32mif\u001b[0m \u001b[0minplace\u001b[0m\u001b[0;34m:\u001b[0m\u001b[0;34m\u001b[0m\u001b[0;34m\u001b[0m\u001b[0m\n",
            "\u001b[0;32m/usr/local/lib/python3.11/dist-packages/pandas/core/generic.py\u001b[0m in \u001b[0;36m_drop_axis\u001b[0;34m(self, labels, axis, level, errors, only_slice)\u001b[0m\n\u001b[1;32m   4828\u001b[0m                 \u001b[0mnew_axis\u001b[0m \u001b[0;34m=\u001b[0m \u001b[0maxis\u001b[0m\u001b[0;34m.\u001b[0m\u001b[0mdrop\u001b[0m\u001b[0;34m(\u001b[0m\u001b[0mlabels\u001b[0m\u001b[0;34m,\u001b[0m \u001b[0mlevel\u001b[0m\u001b[0;34m=\u001b[0m\u001b[0mlevel\u001b[0m\u001b[0;34m,\u001b[0m \u001b[0merrors\u001b[0m\u001b[0;34m=\u001b[0m\u001b[0merrors\u001b[0m\u001b[0;34m)\u001b[0m\u001b[0;34m\u001b[0m\u001b[0;34m\u001b[0m\u001b[0m\n\u001b[1;32m   4829\u001b[0m             \u001b[0;32melse\u001b[0m\u001b[0;34m:\u001b[0m\u001b[0;34m\u001b[0m\u001b[0;34m\u001b[0m\u001b[0m\n\u001b[0;32m-> 4830\u001b[0;31m                 \u001b[0mnew_axis\u001b[0m \u001b[0;34m=\u001b[0m \u001b[0maxis\u001b[0m\u001b[0;34m.\u001b[0m\u001b[0mdrop\u001b[0m\u001b[0;34m(\u001b[0m\u001b[0mlabels\u001b[0m\u001b[0;34m,\u001b[0m \u001b[0merrors\u001b[0m\u001b[0;34m=\u001b[0m\u001b[0merrors\u001b[0m\u001b[0;34m)\u001b[0m\u001b[0;34m\u001b[0m\u001b[0;34m\u001b[0m\u001b[0m\n\u001b[0m\u001b[1;32m   4831\u001b[0m             \u001b[0mindexer\u001b[0m \u001b[0;34m=\u001b[0m \u001b[0maxis\u001b[0m\u001b[0;34m.\u001b[0m\u001b[0mget_indexer\u001b[0m\u001b[0;34m(\u001b[0m\u001b[0mnew_axis\u001b[0m\u001b[0;34m)\u001b[0m\u001b[0;34m\u001b[0m\u001b[0;34m\u001b[0m\u001b[0m\n\u001b[1;32m   4832\u001b[0m \u001b[0;34m\u001b[0m\u001b[0m\n",
            "\u001b[0;32m/usr/local/lib/python3.11/dist-packages/pandas/core/indexes/base.py\u001b[0m in \u001b[0;36mdrop\u001b[0;34m(self, labels, errors)\u001b[0m\n\u001b[1;32m   7068\u001b[0m         \u001b[0;32mif\u001b[0m \u001b[0mmask\u001b[0m\u001b[0;34m.\u001b[0m\u001b[0many\u001b[0m\u001b[0;34m(\u001b[0m\u001b[0;34m)\u001b[0m\u001b[0;34m:\u001b[0m\u001b[0;34m\u001b[0m\u001b[0;34m\u001b[0m\u001b[0m\n\u001b[1;32m   7069\u001b[0m             \u001b[0;32mif\u001b[0m \u001b[0merrors\u001b[0m \u001b[0;34m!=\u001b[0m \u001b[0;34m\"ignore\"\u001b[0m\u001b[0;34m:\u001b[0m\u001b[0;34m\u001b[0m\u001b[0;34m\u001b[0m\u001b[0m\n\u001b[0;32m-> 7070\u001b[0;31m                 \u001b[0;32mraise\u001b[0m \u001b[0mKeyError\u001b[0m\u001b[0;34m(\u001b[0m\u001b[0;34mf\"{labels[mask].tolist()} not found in axis\"\u001b[0m\u001b[0;34m)\u001b[0m\u001b[0;34m\u001b[0m\u001b[0;34m\u001b[0m\u001b[0m\n\u001b[0m\u001b[1;32m   7071\u001b[0m             \u001b[0mindexer\u001b[0m \u001b[0;34m=\u001b[0m \u001b[0mindexer\u001b[0m\u001b[0;34m[\u001b[0m\u001b[0;34m~\u001b[0m\u001b[0mmask\u001b[0m\u001b[0;34m]\u001b[0m\u001b[0;34m\u001b[0m\u001b[0;34m\u001b[0m\u001b[0m\n\u001b[1;32m   7072\u001b[0m         \u001b[0;32mreturn\u001b[0m \u001b[0mself\u001b[0m\u001b[0;34m.\u001b[0m\u001b[0mdelete\u001b[0m\u001b[0;34m(\u001b[0m\u001b[0mindexer\u001b[0m\u001b[0;34m)\u001b[0m\u001b[0;34m\u001b[0m\u001b[0;34m\u001b[0m\u001b[0m\n",
            "\u001b[0;31mKeyError\u001b[0m: \"['PUNT_SOCIALES_CIUDADANAS', 'PUNT_C_NATURALES', 'PUNT_LECTURA_CRITICA', 'PUNT_GLOBAL'] not found in axis\""
          ]
        }
      ]
    },
    {
      "cell_type": "code",
      "source": [
        "#Verificar el número de campos vacios\n",
        "cantidad_nulos1 = icfes_bogota_limpio.isnull().sum()  # conteo de los nulos\n",
        "print(\"Cantidad de campos vacios en cada columna: \\n\", cantidad_nulos1)"
      ],
      "metadata": {
        "id": "GuGJWR4QiciA",
        "colab": {
          "base_uri": "https://localhost:8080/"
        },
        "outputId": "8b527f0d-8d4b-4b85-d9fd-f71d481fcbec"
      },
      "execution_count": null,
      "outputs": [
        {
          "output_type": "stream",
          "name": "stdout",
          "text": [
            "Cantidad de campos vacios en cada columna: \n",
            " PERIODO                          0\n",
            "ESTU_TIPODOCUMENTO               0\n",
            "ESTU_CONSECUTIVO                 0\n",
            "COLE_AREA_UBICACION              0\n",
            "COLE_BILINGUE                    0\n",
            "COLE_CALENDARIO                  0\n",
            "COLE_CARACTER                    0\n",
            "COLE_COD_DANE_ESTABLECIMIENTO    0\n",
            "COLE_COD_DANE_SEDE               0\n",
            "COLE_COD_DEPTO_UBICACION         0\n",
            "COLE_COD_MCPIO_UBICACION         0\n",
            "COLE_CODIGO_ICFES                0\n",
            "COLE_DEPTO_UBICACION             0\n",
            "COLE_GENERO                      0\n",
            "COLE_JORNADA                     0\n",
            "COLE_MCPIO_UBICACION             0\n",
            "COLE_NATURALEZA                  0\n",
            "COLE_NOMBRE_ESTABLECIMIENTO      0\n",
            "COLE_NOMBRE_SEDE                 0\n",
            "COLE_SEDE_PRINCIPAL              0\n",
            "ESTU_COD_DEPTO_PRESENTACION      0\n",
            "ESTU_COD_MCPIO_PRESENTACION      0\n",
            "ESTU_COD_RESIDE_DEPTO            0\n",
            "ESTU_COD_RESIDE_MCPIO            0\n",
            "ESTU_DEPTO_PRESENTACION          0\n",
            "ESTU_DEPTO_RESIDE                0\n",
            "ESTU_ESTADOINVESTIGACION         0\n",
            "ESTU_ESTUDIANTE                  0\n",
            "ESTU_FECHANACIMIENTO             0\n",
            "ESTU_GENERO                      0\n",
            "ESTU_MCPIO_PRESENTACION          0\n",
            "ESTU_MCPIO_RESIDE                0\n",
            "ESTU_NACIONALIDAD                0\n",
            "ESTU_PAIS_RESIDE                 0\n",
            "ESTU_PRIVADO_LIBERTAD            0\n",
            "FAMI_CUARTOSHOGAR                0\n",
            "FAMI_EDUCACIONMADRE              0\n",
            "FAMI_EDUCACIONPADRE              0\n",
            "FAMI_ESTRATOVIVIENDA             0\n",
            "FAMI_PERSONASHOGAR               0\n",
            "FAMI_TIENEAUTOMOVIL              0\n",
            "FAMI_TIENECOMPUTADOR             0\n",
            "FAMI_TIENEINTERNET               0\n",
            "FAMI_TIENELAVADORA               0\n",
            "DESEMP_INGLES                    0\n",
            "PUNT_INGLES                      0\n",
            "PUNT_MATEMATICAS                 0\n",
            "dtype: int64\n"
          ]
        }
      ]
    },
    {
      "cell_type": "code",
      "source": [
        "icfes_bogota_limpio.shape"
      ],
      "metadata": {
        "id": "ryH-Ec6hieRK",
        "colab": {
          "base_uri": "https://localhost:8080/"
        },
        "outputId": "c1fcbcc1-87d7-4d6a-bc02-0da4b46af1ff"
      },
      "execution_count": null,
      "outputs": [
        {
          "output_type": "execute_result",
          "data": {
            "text/plain": [
              "(1000792, 47)"
            ]
          },
          "metadata": {},
          "execution_count": 20
        }
      ]
    },
    {
      "cell_type": "markdown",
      "source": [
        "En el dataset de resultados de ICFES Bogotá, se identificaron valores nulos en varias variables, algunas con más del 35% de datos faltantes. Se eliminaron las columnas \"PUNT_SOCIALES_CIUDADANAS\", \"PUNT_C_NATURALES\", \"PUNT_LECTURA_CRITICA\" y \"PUNT_GLOBAL\", ya que el alto porcentaje de valores nulos afectaría la calidad del análisis. Para las demás variables, los valores faltantes numéricos fueron imputados con la media, mientras que los categóricos fueron reemplazados con la moda. Además, se aplicó el método IQR para eliminar valores atípicos en las variables numéricas, mejorando así la representatividad del conjunto de datos."
      ],
      "metadata": {
        "id": "W75VjFEIigp4"
      }
    },
    {
      "cell_type": "markdown",
      "source": [
        "### **Conjunto de datos `Icfes_medellin`**"
      ],
      "metadata": {
        "id": "eSv_ch-DgxWH"
      }
    },
    {
      "cell_type": "markdown",
      "source": [
        "**Limpieza de datos**"
      ],
      "metadata": {
        "id": "4mMkLgE4iP8S"
      }
    },
    {
      "cell_type": "code",
      "source": [
        "# Ver las primeras filas\n",
        "print(icfes_medellin.head())\n",
        "\n",
        "# Ver información general (tipos de datos, valores nulos, etc.)\n",
        "print(icfes_medellin.info())\n",
        "\n",
        "# Ver cuántos valores nulos hay por columna\n",
        "print(icfes_medellin.isnull().sum())\n",
        "\n",
        "# Ver duplicados\n",
        "print(f\"Duplicados: {icfes_medellin.duplicated().sum()}\")\n",
        "\n",
        "icfes_medellin_viejo = icfes_medellin\n"
      ],
      "metadata": {
        "id": "zGXD9jGXgx7S",
        "colab": {
          "base_uri": "https://localhost:8080/"
        },
        "outputId": "e096980a-1ed9-4780-f136-8ac744438784"
      },
      "execution_count": null,
      "outputs": [
        {
          "output_type": "stream",
          "name": "stdout",
          "text": [
            "   PERIODO ESTU_TIPODOCUMENTO  ESTU_CONSECUTIVO COLE_AREA_UBICACION  \\\n",
            "0    20172                 TI  SB11201720518410              URBANO   \n",
            "1    20162                 TI  SB11201620355612              URBANO   \n",
            "2    20122                 TI  SB11201220572895              URBANO   \n",
            "3    20122                 TI  SB11201220106839              URBANO   \n",
            "4    20152                 CC  SB11201520202169              URBANO   \n",
            "\n",
            "  COLE_BILINGUE COLE_CALENDARIO      COLE_CARACTER  \\\n",
            "0             N               A  TÉCNICO/ACADÉMICO   \n",
            "1             N               A            TÉCNICO   \n",
            "2             N               A          ACADÉMICO   \n",
            "3             N               A  TÉCNICO/ACADÉMICO   \n",
            "4             N            OTRO          ACADÉMICO   \n",
            "\n",
            "   COLE_COD_DANE_ESTABLECIMIENTO  COLE_COD_DANE_SEDE  \\\n",
            "0                   405001016946        405001016946   \n",
            "1                   305001004811        305001004811   \n",
            "2                   105001000141        105001000141   \n",
            "3                   105001001562        105001001562   \n",
            "4                   305001017361        305001017361   \n",
            "\n",
            "   COLE_COD_DEPTO_UBICACION  ...  FAMI_TIENECOMPUTADOR  FAMI_TIENEINTERNET  \\\n",
            "0                         5  ...                    No                  Si   \n",
            "1                         5  ...                    Si                  Si   \n",
            "2                         5  ...                    Si                  No   \n",
            "3                         5  ...                    Si                  Si   \n",
            "4                         5  ...                    Si                  Si   \n",
            "\n",
            "  FAMI_TIENELAVADORA DESEMP_INGLES PUNT_INGLES PUNT_MATEMATICAS  \\\n",
            "0                 Si            A-        44.0             53.0   \n",
            "1                 Si            B1        75.0             71.0   \n",
            "2                 Si            A1        43.0             45.0   \n",
            "3                 Si            A-        36.0             49.0   \n",
            "4                 Si            A1        53.0             52.0   \n",
            "\n",
            "  PUNT_SOCIALES_CIUDADANAS PUNT_C_NATURALES PUNT_LECTURA_CRITICA PUNT_GLOBAL  \n",
            "0                     54.0             44.0                 54.0       253.0  \n",
            "1                     73.0             68.0                 68.0       352.0  \n",
            "2                      NaN              NaN                  NaN         NaN  \n",
            "3                      NaN              NaN                  NaN         NaN  \n",
            "4                     50.0             41.0                 57.0       251.0  \n",
            "\n",
            "[5 rows x 51 columns]\n",
            "<class 'pandas.core.frame.DataFrame'>\n",
            "RangeIndex: 450742 entries, 0 to 450741\n",
            "Data columns (total 51 columns):\n",
            " #   Column                         Non-Null Count   Dtype  \n",
            "---  ------                         --------------   -----  \n",
            " 0   PERIODO                        450742 non-null  int64  \n",
            " 1   ESTU_TIPODOCUMENTO             450742 non-null  object \n",
            " 2   ESTU_CONSECUTIVO               450742 non-null  object \n",
            " 3   COLE_AREA_UBICACION            450742 non-null  object \n",
            " 4   COLE_BILINGUE                  410351 non-null  object \n",
            " 5   COLE_CALENDARIO                450513 non-null  object \n",
            " 6   COLE_CARACTER                  444009 non-null  object \n",
            " 7   COLE_COD_DANE_ESTABLECIMIENTO  450742 non-null  int64  \n",
            " 8   COLE_COD_DANE_SEDE             450742 non-null  int64  \n",
            " 9   COLE_COD_DEPTO_UBICACION       450742 non-null  int64  \n",
            " 10  COLE_COD_MCPIO_UBICACION       450742 non-null  int64  \n",
            " 11  COLE_CODIGO_ICFES              449562 non-null  float64\n",
            " 12  COLE_DEPTO_UBICACION           450742 non-null  object \n",
            " 13  COLE_GENERO                    450742 non-null  object \n",
            " 14  COLE_JORNADA                   450742 non-null  object \n",
            " 15  COLE_MCPIO_UBICACION           450742 non-null  object \n",
            " 16  COLE_NATURALEZA                450742 non-null  object \n",
            " 17  COLE_NOMBRE_ESTABLECIMIENTO    450742 non-null  object \n",
            " 18  COLE_NOMBRE_SEDE               450742 non-null  object \n",
            " 19  COLE_SEDE_PRINCIPAL            450742 non-null  object \n",
            " 20  ESTU_COD_DEPTO_PRESENTACION    450742 non-null  int64  \n",
            " 21  ESTU_COD_MCPIO_PRESENTACION    450742 non-null  int64  \n",
            " 22  ESTU_COD_RESIDE_DEPTO          448183 non-null  float64\n",
            " 23  ESTU_COD_RESIDE_MCPIO          448183 non-null  float64\n",
            " 24  ESTU_DEPTO_PRESENTACION        450742 non-null  object \n",
            " 25  ESTU_DEPTO_RESIDE              448183 non-null  object \n",
            " 26  ESTU_ESTADOINVESTIGACION       450742 non-null  object \n",
            " 27  ESTU_ESTUDIANTE                450742 non-null  object \n",
            " 28  ESTU_FECHANACIMIENTO           450742 non-null  object \n",
            " 29  ESTU_GENERO                    450530 non-null  object \n",
            " 30  ESTU_MCPIO_PRESENTACION        450742 non-null  object \n",
            " 31  ESTU_MCPIO_RESIDE              448183 non-null  object \n",
            " 32  ESTU_NACIONALIDAD              450742 non-null  object \n",
            " 33  ESTU_PAIS_RESIDE               450742 non-null  object \n",
            " 34  ESTU_PRIVADO_LIBERTAD          450742 non-null  object \n",
            " 35  FAMI_CUARTOSHOGAR              443041 non-null  object \n",
            " 36  FAMI_EDUCACIONMADRE            439926 non-null  object \n",
            " 37  FAMI_EDUCACIONPADRE            439614 non-null  object \n",
            " 38  FAMI_ESTRATOVIVIENDA           438901 non-null  object \n",
            " 39  FAMI_PERSONASHOGAR             443149 non-null  object \n",
            " 40  FAMI_TIENEAUTOMOVIL            442575 non-null  object \n",
            " 41  FAMI_TIENECOMPUTADOR           442691 non-null  object \n",
            " 42  FAMI_TIENEINTERNET             440118 non-null  object \n",
            " 43  FAMI_TIENELAVADORA             443109 non-null  object \n",
            " 44  DESEMP_INGLES                  450370 non-null  object \n",
            " 45  PUNT_INGLES                    450731 non-null  object \n",
            " 46  PUNT_MATEMATICAS               450742 non-null  object \n",
            " 47  PUNT_SOCIALES_CIUDADANAS       234134 non-null  float64\n",
            " 48  PUNT_C_NATURALES               234134 non-null  float64\n",
            " 49  PUNT_LECTURA_CRITICA           234134 non-null  float64\n",
            " 50  PUNT_GLOBAL                    234134 non-null  float64\n",
            "dtypes: float64(7), int64(7), object(37)\n",
            "memory usage: 175.4+ MB\n",
            "None\n",
            "PERIODO                               0\n",
            "ESTU_TIPODOCUMENTO                    0\n",
            "ESTU_CONSECUTIVO                      0\n",
            "COLE_AREA_UBICACION                   0\n",
            "COLE_BILINGUE                     40391\n",
            "COLE_CALENDARIO                     229\n",
            "COLE_CARACTER                      6733\n",
            "COLE_COD_DANE_ESTABLECIMIENTO         0\n",
            "COLE_COD_DANE_SEDE                    0\n",
            "COLE_COD_DEPTO_UBICACION              0\n",
            "COLE_COD_MCPIO_UBICACION              0\n",
            "COLE_CODIGO_ICFES                  1180\n",
            "COLE_DEPTO_UBICACION                  0\n",
            "COLE_GENERO                           0\n",
            "COLE_JORNADA                          0\n",
            "COLE_MCPIO_UBICACION                  0\n",
            "COLE_NATURALEZA                       0\n",
            "COLE_NOMBRE_ESTABLECIMIENTO           0\n",
            "COLE_NOMBRE_SEDE                      0\n",
            "COLE_SEDE_PRINCIPAL                   0\n",
            "ESTU_COD_DEPTO_PRESENTACION           0\n",
            "ESTU_COD_MCPIO_PRESENTACION           0\n",
            "ESTU_COD_RESIDE_DEPTO              2559\n",
            "ESTU_COD_RESIDE_MCPIO              2559\n",
            "ESTU_DEPTO_PRESENTACION               0\n",
            "ESTU_DEPTO_RESIDE                  2559\n",
            "ESTU_ESTADOINVESTIGACION              0\n",
            "ESTU_ESTUDIANTE                       0\n",
            "ESTU_FECHANACIMIENTO                  0\n",
            "ESTU_GENERO                         212\n",
            "ESTU_MCPIO_PRESENTACION               0\n",
            "ESTU_MCPIO_RESIDE                  2559\n",
            "ESTU_NACIONALIDAD                     0\n",
            "ESTU_PAIS_RESIDE                      0\n",
            "ESTU_PRIVADO_LIBERTAD                 0\n",
            "FAMI_CUARTOSHOGAR                  7701\n",
            "FAMI_EDUCACIONMADRE               10816\n",
            "FAMI_EDUCACIONPADRE               11128\n",
            "FAMI_ESTRATOVIVIENDA              11841\n",
            "FAMI_PERSONASHOGAR                 7593\n",
            "FAMI_TIENEAUTOMOVIL                8167\n",
            "FAMI_TIENECOMPUTADOR               8051\n",
            "FAMI_TIENEINTERNET                10624\n",
            "FAMI_TIENELAVADORA                 7633\n",
            "DESEMP_INGLES                       372\n",
            "PUNT_INGLES                          11\n",
            "PUNT_MATEMATICAS                      0\n",
            "PUNT_SOCIALES_CIUDADANAS         216608\n",
            "PUNT_C_NATURALES                 216608\n",
            "PUNT_LECTURA_CRITICA             216608\n",
            "PUNT_GLOBAL                      216608\n",
            "dtype: int64\n",
            "Duplicados: 141210\n"
          ]
        }
      ]
    },
    {
      "cell_type": "code",
      "source": [
        "# 1. Eliminar filas con valores nulos\n",
        "icfes_medellin.dropna(inplace=True)\n",
        "\n",
        "# 2. Convertir las columnas de puntajes a tipo float (por si tienen valores erróneos)\n",
        "cols_numericas = [\n",
        "    \"PUNT_INGLES\", \"PUNT_MATEMATICAS\", \"PUNT_SOCIALES_CIUDADANAS\",\n",
        "    \"PUNT_C_NATURALES\", \"PUNT_LECTURA_CRITICA\", \"PUNT_GLOBAL\"\n",
        "]\n",
        "icfes_medellin[cols_numericas] = icfes_medellin[cols_numericas].apply(pd.to_numeric, errors=\"coerce\")\n",
        "\n",
        "# 3. Filtrar valores fuera de los rangos esperados\n",
        "icfes_medellin = icfes_medellin[\n",
        "    (icfes_medellin[\"PUNT_INGLES\"].between(0, 100)) &\n",
        "    (icfes_medellin[\"PUNT_MATEMATICAS\"].between(0, 100)) &\n",
        "    (icfes_medellin[\"PUNT_SOCIALES_CIUDADANAS\"].between(0, 100)) &\n",
        "    (icfes_medellin[\"PUNT_C_NATURALES\"].between(0, 100)) &\n",
        "    (icfes_medellin[\"PUNT_LECTURA_CRITICA\"].between(0, 100)) &\n",
        "    (icfes_medellin[\"PUNT_GLOBAL\"].between(0, 500))\n",
        "]\n",
        "\n",
        "# 4. Verificar cambios\n",
        "print(icfes_medellin.info())\n",
        "print(icfes_medellin.isnull().sum())\n",
        "print(f\"Duplicados: {icfes_medellin.duplicated().sum()}\")\n"
      ],
      "metadata": {
        "id": "pnmoN1w_2bog",
        "colab": {
          "base_uri": "https://localhost:8080/"
        },
        "outputId": "39d3f934-c287-40b0-dbf8-9a44878358bc"
      },
      "execution_count": null,
      "outputs": [
        {
          "output_type": "stream",
          "name": "stdout",
          "text": [
            "<class 'pandas.core.frame.DataFrame'>\n",
            "Index: 194662 entries, 0 to 450741\n",
            "Data columns (total 51 columns):\n",
            " #   Column                         Non-Null Count   Dtype  \n",
            "---  ------                         --------------   -----  \n",
            " 0   PERIODO                        194662 non-null  int64  \n",
            " 1   ESTU_TIPODOCUMENTO             194662 non-null  object \n",
            " 2   ESTU_CONSECUTIVO               194662 non-null  object \n",
            " 3   COLE_AREA_UBICACION            194662 non-null  object \n",
            " 4   COLE_BILINGUE                  194662 non-null  object \n",
            " 5   COLE_CALENDARIO                194662 non-null  object \n",
            " 6   COLE_CARACTER                  194662 non-null  object \n",
            " 7   COLE_COD_DANE_ESTABLECIMIENTO  194662 non-null  int64  \n",
            " 8   COLE_COD_DANE_SEDE             194662 non-null  int64  \n",
            " 9   COLE_COD_DEPTO_UBICACION       194662 non-null  int64  \n",
            " 10  COLE_COD_MCPIO_UBICACION       194662 non-null  int64  \n",
            " 11  COLE_CODIGO_ICFES              194662 non-null  float64\n",
            " 12  COLE_DEPTO_UBICACION           194662 non-null  object \n",
            " 13  COLE_GENERO                    194662 non-null  object \n",
            " 14  COLE_JORNADA                   194662 non-null  object \n",
            " 15  COLE_MCPIO_UBICACION           194662 non-null  object \n",
            " 16  COLE_NATURALEZA                194662 non-null  object \n",
            " 17  COLE_NOMBRE_ESTABLECIMIENTO    194662 non-null  object \n",
            " 18  COLE_NOMBRE_SEDE               194662 non-null  object \n",
            " 19  COLE_SEDE_PRINCIPAL            194662 non-null  object \n",
            " 20  ESTU_COD_DEPTO_PRESENTACION    194662 non-null  int64  \n",
            " 21  ESTU_COD_MCPIO_PRESENTACION    194662 non-null  int64  \n",
            " 22  ESTU_COD_RESIDE_DEPTO          194662 non-null  float64\n",
            " 23  ESTU_COD_RESIDE_MCPIO          194662 non-null  float64\n",
            " 24  ESTU_DEPTO_PRESENTACION        194662 non-null  object \n",
            " 25  ESTU_DEPTO_RESIDE              194662 non-null  object \n",
            " 26  ESTU_ESTADOINVESTIGACION       194662 non-null  object \n",
            " 27  ESTU_ESTUDIANTE                194662 non-null  object \n",
            " 28  ESTU_FECHANACIMIENTO           194662 non-null  object \n",
            " 29  ESTU_GENERO                    194662 non-null  object \n",
            " 30  ESTU_MCPIO_PRESENTACION        194662 non-null  object \n",
            " 31  ESTU_MCPIO_RESIDE              194662 non-null  object \n",
            " 32  ESTU_NACIONALIDAD              194662 non-null  object \n",
            " 33  ESTU_PAIS_RESIDE               194662 non-null  object \n",
            " 34  ESTU_PRIVADO_LIBERTAD          194662 non-null  object \n",
            " 35  FAMI_CUARTOSHOGAR              194662 non-null  object \n",
            " 36  FAMI_EDUCACIONMADRE            194662 non-null  object \n",
            " 37  FAMI_EDUCACIONPADRE            194662 non-null  object \n",
            " 38  FAMI_ESTRATOVIVIENDA           194662 non-null  object \n",
            " 39  FAMI_PERSONASHOGAR             194662 non-null  object \n",
            " 40  FAMI_TIENEAUTOMOVIL            194662 non-null  object \n",
            " 41  FAMI_TIENECOMPUTADOR           194662 non-null  object \n",
            " 42  FAMI_TIENEINTERNET             194662 non-null  object \n",
            " 43  FAMI_TIENELAVADORA             194662 non-null  object \n",
            " 44  DESEMP_INGLES                  194662 non-null  object \n",
            " 45  PUNT_INGLES                    194662 non-null  float64\n",
            " 46  PUNT_MATEMATICAS               194662 non-null  float64\n",
            " 47  PUNT_SOCIALES_CIUDADANAS       194662 non-null  float64\n",
            " 48  PUNT_C_NATURALES               194662 non-null  float64\n",
            " 49  PUNT_LECTURA_CRITICA           194662 non-null  float64\n",
            " 50  PUNT_GLOBAL                    194662 non-null  float64\n",
            "dtypes: float64(9), int64(7), object(35)\n",
            "memory usage: 77.2+ MB\n",
            "None\n",
            "PERIODO                          0\n",
            "ESTU_TIPODOCUMENTO               0\n",
            "ESTU_CONSECUTIVO                 0\n",
            "COLE_AREA_UBICACION              0\n",
            "COLE_BILINGUE                    0\n",
            "COLE_CALENDARIO                  0\n",
            "COLE_CARACTER                    0\n",
            "COLE_COD_DANE_ESTABLECIMIENTO    0\n",
            "COLE_COD_DANE_SEDE               0\n",
            "COLE_COD_DEPTO_UBICACION         0\n",
            "COLE_COD_MCPIO_UBICACION         0\n",
            "COLE_CODIGO_ICFES                0\n",
            "COLE_DEPTO_UBICACION             0\n",
            "COLE_GENERO                      0\n",
            "COLE_JORNADA                     0\n",
            "COLE_MCPIO_UBICACION             0\n",
            "COLE_NATURALEZA                  0\n",
            "COLE_NOMBRE_ESTABLECIMIENTO      0\n",
            "COLE_NOMBRE_SEDE                 0\n",
            "COLE_SEDE_PRINCIPAL              0\n",
            "ESTU_COD_DEPTO_PRESENTACION      0\n",
            "ESTU_COD_MCPIO_PRESENTACION      0\n",
            "ESTU_COD_RESIDE_DEPTO            0\n",
            "ESTU_COD_RESIDE_MCPIO            0\n",
            "ESTU_DEPTO_PRESENTACION          0\n",
            "ESTU_DEPTO_RESIDE                0\n",
            "ESTU_ESTADOINVESTIGACION         0\n",
            "ESTU_ESTUDIANTE                  0\n",
            "ESTU_FECHANACIMIENTO             0\n",
            "ESTU_GENERO                      0\n",
            "ESTU_MCPIO_PRESENTACION          0\n",
            "ESTU_MCPIO_RESIDE                0\n",
            "ESTU_NACIONALIDAD                0\n",
            "ESTU_PAIS_RESIDE                 0\n",
            "ESTU_PRIVADO_LIBERTAD            0\n",
            "FAMI_CUARTOSHOGAR                0\n",
            "FAMI_EDUCACIONMADRE              0\n",
            "FAMI_EDUCACIONPADRE              0\n",
            "FAMI_ESTRATOVIVIENDA             0\n",
            "FAMI_PERSONASHOGAR               0\n",
            "FAMI_TIENEAUTOMOVIL              0\n",
            "FAMI_TIENECOMPUTADOR             0\n",
            "FAMI_TIENEINTERNET               0\n",
            "FAMI_TIENELAVADORA               0\n",
            "DESEMP_INGLES                    0\n",
            "PUNT_INGLES                      0\n",
            "PUNT_MATEMATICAS                 0\n",
            "PUNT_SOCIALES_CIUDADANAS         0\n",
            "PUNT_C_NATURALES                 0\n",
            "PUNT_LECTURA_CRITICA             0\n",
            "PUNT_GLOBAL                      0\n",
            "dtype: int64\n",
            "Duplicados: 44341\n"
          ]
        }
      ]
    },
    {
      "cell_type": "code",
      "source": [
        "import matplotlib.pyplot as plt\n",
        "import seaborn as sns\n",
        "\n",
        "# Crear una figura con dos gráficos (antes y después)\n",
        "fig, axes = plt.subplots(1, 2, figsize=(14, 6))\n",
        "\n",
        "# Dataset original sin limpiar\n",
        "sns.boxplot(data=icfes_medellin_viejo[cols_numericas], ax=axes[0])\n",
        "axes[0].set_title(\"Antes de la Limpieza (Con Outliers)\")\n",
        "axes[0].set_xticklabels(axes[0].get_xticklabels(), rotation=45)\n",
        "\n",
        "# Dataset limpio sin valores atípicos\n",
        "sns.boxplot(data=icfes_medellin[cols_numericas], ax=axes[1])\n",
        "axes[1].set_title(\"Después de la Limpieza (Sin Outliers)\")\n",
        "axes[1].set_xticklabels(axes[1].get_xticklabels(), rotation=45)\n",
        "\n",
        "plt.tight_layout()\n",
        "plt.show()"
      ],
      "metadata": {
        "id": "USc7WjZr2gIh",
        "colab": {
          "base_uri": "https://localhost:8080/",
          "height": 668
        },
        "outputId": "777cf07c-0135-465d-b0b9-8a01d917535e"
      },
      "execution_count": null,
      "outputs": [
        {
          "output_type": "stream",
          "name": "stderr",
          "text": [
            "<ipython-input-24-d7b868567f70>:10: UserWarning: set_ticklabels() should only be used with a fixed number of ticks, i.e. after set_ticks() or using a FixedLocator.\n",
            "  axes[0].set_xticklabels(axes[0].get_xticklabels(), rotation=45)\n",
            "<ipython-input-24-d7b868567f70>:15: UserWarning: set_ticklabels() should only be used with a fixed number of ticks, i.e. after set_ticks() or using a FixedLocator.\n",
            "  axes[1].set_xticklabels(axes[1].get_xticklabels(), rotation=45)\n"
          ]
        },
        {
          "output_type": "display_data",
          "data": {
            "text/plain": [
              "<Figure size 1400x600 with 2 Axes>"
            ],
            "image/png": "[encoded data removed]"
          },
          "metadata": {}
        }
      ]
    },
    {
      "cell_type": "markdown",
      "source": [
        "En general el dataset estaba bastante limpio, sin embargo tenia muchos valores nulos necesarios para el desarrollo del proyecto"
      ],
      "metadata": {
        "id": "vd_bxDna-CL7"
      }
    },
    {
      "cell_type": "markdown",
      "source": [
        "### **Conjunto de datos `Icfes_neiva`**"
      ],
      "metadata": {
        "id": "ZvW6iiisg1o0"
      }
    },
    {
      "cell_type": "markdown",
      "source": [
        "**Limpieza de datos**"
      ],
      "metadata": {
        "id": "fJaNX9LqiQkM"
      }
    },
    {
      "cell_type": "code",
      "source": [
        "# Ver las primeras filas\n",
        "print(icfes_neiva.head())\n",
        "\n",
        "# Ver información general (tipos de datos, valores nulos, etc.)\n",
        "print(icfes_neiva.info())\n",
        "\n",
        "# Ver cuántos valores nulos hay por columna\n",
        "print(icfes_neiva.isnull().sum())\n",
        "\n",
        "# Ver duplicados\n",
        "print(f\"Duplicados: {icfes_neiva.duplicated().sum()}\")\n",
        "\n",
        "icfes_neiva_viejo = icfes_neiva\n"
      ],
      "metadata": {
        "id": "Mnp-rK_Rg5CT"
      },
      "execution_count": null,
      "outputs": []
    },
    {
      "cell_type": "code",
      "source": [
        "\n",
        "# Verificar información inicial\n",
        "info_neiva = icfes_neiva.info()\n",
        "nulos_neiva = icfes_neiva.isnull().sum()\n",
        "duplicados_neiva = icfes_neiva.duplicated().sum()\n",
        "\n",
        "# Eliminar filas con valores nulos\n",
        "icfes_neiva_cleaned = icfes_neiva.dropna()\n",
        "\n",
        "# Filtrar valores atípicos en puntajes (0-100 por área, 0-500 global)\n",
        "columns_puntajes = [\"PUNT_INGLES\", \"PUNT_MATEMATICAS\", \"PUNT_SOCIALES_CIUDADANAS\", \"PUNT_C_NATURALES\", \"PUNT_LECTURA_CRITICA\"]\n",
        "for col in columns_puntajes:\n",
        "    icfes_neiva_cleaned = icfes_neiva_cleaned[(icfes_neiva_cleaned[col] >= 0) & (icfes_neiva_cleaned[col] <= 100)]\n",
        "\n",
        "icfes_neiva_cleaned = icfes_neiva_cleaned[(icfes_neiva_cleaned[\"PUNT_GLOBAL\"] >= 0) & (icfes_neiva_cleaned[\"PUNT_GLOBAL\"] <= 500)]\n",
        "\n",
        "# Eliminar duplicados\n",
        "icfes_neiva_cleaned = icfes_neiva_cleaned.drop_duplicates()\n",
        "\n",
        "# Resumen de cambios\n",
        "nulos_despues = icfes_neiva_cleaned.isnull().sum()\n",
        "duplicados_despues = icfes_neiva_cleaned.duplicated().sum()\n",
        "shape_original = icfes_neiva.shape\n",
        "shape_limpio = icfes_neiva_cleaned.shape\n",
        "\n",
        "shape_original, nulos_neiva, duplicados_neiva, shape_limpio, nulos_despues, duplicados_despues\n"
      ],
      "metadata": {
        "id": "BrYtdnuN5eNu"
      },
      "execution_count": null,
      "outputs": []
    },
    {
      "cell_type": "code",
      "source": [
        "import matplotlib.pyplot as plt\n",
        "import seaborn as sns\n",
        "\n",
        "# Crear una figura con dos gráficos (antes y después)\n",
        "fig, axes = plt.subplots(1, 2, figsize=(14, 6))\n",
        "\n",
        "# Dataset original sin limpiar\n",
        "sns.boxplot(data=icfes_neiva_viejo[cols_numericas], ax=axes[0])\n",
        "axes[0].set_title(\"Antes de la Limpieza (Con Outliers)\")\n",
        "axes[0].set_xticklabels(axes[0].get_xticklabels(), rotation=45)\n",
        "\n",
        "# Dataset limpio sin valores atípicos\n",
        "sns.boxplot(data=icfes_neiva_cleaned[cols_numericas], ax=axes[1])\n",
        "axes[1].set_title(\"Después de la Limpieza (Sin Outliers)\")\n",
        "axes[1].set_xticklabels(axes[1].get_xticklabels(), rotation=45)\n",
        "\n",
        "plt.tight_layout()\n",
        "plt.show()\n"
      ],
      "metadata": {
        "id": "HlqC7Djh5l_1"
      },
      "execution_count": null,
      "outputs": []
    },
    {
      "cell_type": "markdown",
      "source": [
        "En general el dataset estaba bastante limpio, sin embargo tenia muchos valores nulos necesarios para el desarrollo del proyecto. Ademas se ecnotraron alguno datos por fuera de los limites de puntuacion, por ejemplo en alguna area por encima de 100 el cual es el maximo"
      ],
      "metadata": {
        "id": "PrRPD5fE-TNJ"
      }
    },
    {
      "cell_type": "markdown",
      "source": [
        "### **Conjunto de datos `Icfes_armenia`**"
      ],
      "metadata": {
        "id": "LfeE52JDg5eo"
      }
    },
    {
      "cell_type": "markdown",
      "source": [
        "**Limpieza de datos**"
      ],
      "metadata": {
        "id": "ydY4fmH6iRcB"
      }
    },
    {
      "cell_type": "code",
      "source": [
        "# Ver las primeras filas\n",
        "print(icfes_armenia.head())\n",
        "\n",
        "# Ver información general (tipos de datos, valores nulos, etc.)\n",
        "print(icfes_armenia.info())\n",
        "\n",
        "# Ver cuántos valores nulos hay por columna\n",
        "print(icfes_armenia.isnull().sum())\n",
        "\n",
        "# Ver duplicados\n",
        "print(f\"Duplicados: {icfes_armenia.duplicated().sum()}\")\n",
        "\n",
        "icfes_armenia_viejo = icfes_armenia"
      ],
      "metadata": {
        "id": "UHH91KaJg5-I"
      },
      "execution_count": null,
      "outputs": []
    },
    {
      "cell_type": "code",
      "source": [
        "# Eliminar filas con valores nulos en las columnas relevantes\n",
        "columnas_relevantes = [\n",
        "    \"PUNT_INGLES\", \"PUNT_MATEMATICAS\", \"PUNT_SOCIALES_CIUDADANAS\",\n",
        "    \"PUNT_C_NATURALES\", \"PUNT_LECTURA_CRITICA\", \"PUNT_GLOBAL\"\n",
        "]\n",
        "icfes_armenia = icfes_armenia.dropna(subset=columnas_relevantes)\n",
        "\n",
        "# Convertir las columnas de puntajes a numéricas\n",
        "for col in columnas_relevantes:\n",
        "    icfes_armenia[col] = pd.to_numeric(icfes_armenia[col], errors=\"coerce\")\n",
        "\n",
        "# Filtrar los datos atípicos (rango válido: 0-100 para áreas, 0-500 para puntaje global)\n",
        "icfes_armenia = icfes_armenia[\n",
        "    (icfes_armenia[\"PUNT_INGLES\"].between(0, 100)) &\n",
        "    (icfes_armenia[\"PUNT_MATEMATICAS\"].between(0, 100)) &\n",
        "    (icfes_armenia[\"PUNT_SOCIALES_CIUDADANAS\"].between(0, 100)) &\n",
        "    (icfes_armenia[\"PUNT_C_NATURALES\"].between(0, 100)) &\n",
        "    (icfes_armenia[\"PUNT_LECTURA_CRITICA\"].between(0, 100)) &\n",
        "    (icfes_armenia[\"PUNT_GLOBAL\"].between(0, 500))\n",
        "]\n",
        "\n",
        "# Verificar la limpieza\n",
        "icfes_armenia.info(), icfes_armenia.describe()"
      ],
      "metadata": {
        "id": "5BWzdyNU9W0L"
      },
      "execution_count": null,
      "outputs": []
    },
    {
      "cell_type": "code",
      "source": [
        "import matplotlib.pyplot as plt\n",
        "import seaborn as sns\n",
        "\n",
        "# Crear una figura con dos gráficos (antes y después)\n",
        "fig, axes = plt.subplots(1, 2, figsize=(14, 6))\n",
        "\n",
        "# Dataset original sin limpiar\n",
        "sns.boxplot(data=icfes_armenia_viejo[cols_numericas], ax=axes[0])\n",
        "axes[0].set_title(\"Antes de la Limpieza (Con Outliers)\")\n",
        "axes[0].set_xticklabels(axes[0].get_xticklabels(), rotation=45)\n",
        "\n",
        "# Dataset limpio sin valores atípicos\n",
        "sns.boxplot(data=icfes_armenia[cols_numericas], ax=axes[1])\n",
        "axes[1].set_title(\"Después de la Limpieza (Sin Outliers)\")\n",
        "axes[1].set_xticklabels(axes[1].get_xticklabels(), rotation=45)\n",
        "\n",
        "plt.tight_layout()\n",
        "plt.show()\n"
      ],
      "metadata": {
        "id": "QlSvqhai9dhZ"
      },
      "execution_count": null,
      "outputs": []
    },
    {
      "cell_type": "markdown",
      "source": [
        "En general el dataset estaba bastante limpio, sin embargo tenia muchos valores nulos necesarios para el desarrollo del proyecto. Ademas se ecnotraron alguno datos por fuera de los limites de puntuacion, por ejemplo en alguna area por encima de 100 el cual es el maximo"
      ],
      "metadata": {
        "id": "81ZHtm-5-eLf"
      }
    },
    {
      "cell_type": "markdown",
      "source": [
        "### **Conjunto de datos `Pobreza`**\n",
        "\n"
      ],
      "metadata": {
        "id": "K-LLqIKNhzGG"
      }
    },
    {
      "cell_type": "markdown",
      "source": [
        "**Limpieza de datos**"
      ],
      "metadata": {
        "id": "1KQeCoSiiSDy"
      }
    },
    {
      "cell_type": "code",
      "source": [
        "#Verificar el número de campos vacios\n",
        "cantidad_nulos = pobreza.isnull().sum()  # conteo de los nulos\n",
        "#Calcular el porcentaje de campos vacios por columna\n",
        "cantidad_registros = pobreza.shape[0]\n",
        "print(\"Cantidad de registros: \", pobreza.shape[0])\n",
        "Porcentaje = cantidad_nulos/cantidad_registros*100\n",
        "print(\"Porcentaje de campos vacios por columna: \\n\", Porcentaje)"
      ],
      "metadata": {
        "id": "R5UoTZ7ihzdd"
      },
      "execution_count": null,
      "outputs": []
    },
    {
      "cell_type": "code",
      "source": [
        "# 1. Manejo de valores nulos\n",
        "df_pobreza=pobreza\n",
        "# Identificar el porcentaje de valores nulos por columna\n",
        "missing_percentage = df_pobreza.isnull().sum() / len(df_pobreza) * 100\n",
        "\n",
        "# Eliminar columnas con más del 35% de valores nulos\n",
        "cols_to_drop = missing_percentage[missing_percentage > 35].index\n",
        "df_pobreza.drop(columns=cols_to_drop, inplace=True)\n",
        "\n",
        "# Imputación de valores numéricos con la media\n",
        "numeric_cols = df_pobreza.select_dtypes(include=[np.number]).columns\n",
        "df_pobreza[numeric_cols] = df_pobreza[numeric_cols].apply(lambda x: x.fillna(x.mean()))\n",
        "\n",
        "# Imputación de valores categóricos con la moda\n",
        "categorical_cols = df_pobreza.select_dtypes(include=['object']).columns\n",
        "for col in categorical_cols:\n",
        "    df_pobreza[col].fillna(df_pobreza[col].mode()[0], inplace=True)\n",
        "\n",
        "# 2. Detección y eliminación de valores atípicos (usando IQR)\n",
        "numeric_cols = df_pobreza.select_dtypes(include=[np.number]).columns\n",
        "for col in numeric_cols:\n",
        "    Q1 = df_pobreza[col].quantile(0.25)\n",
        "    Q3 = df_pobreza[col].quantile(0.75)\n",
        "    IQR = Q3 - Q1\n",
        "    lower_bound = Q1 - 1.5 * IQR\n",
        "    upper_bound = Q3 + 1.5 * IQR\n",
        "    df_pobreza = df_pobreza[(df_pobreza[col] >= lower_bound) & (df_pobreza[col] <= upper_bound)]\n",
        "\n",
        "# Guardar el dataset limpio\n",
        "pobreza_limpio=df_pobreza"
      ],
      "metadata": {
        "id": "QVXyoXBykYMJ"
      },
      "execution_count": null,
      "outputs": []
    },
    {
      "cell_type": "code",
      "source": [
        "pobreza_limpio.info()"
      ],
      "metadata": {
        "id": "c9-D12yxkd0O"
      },
      "execution_count": null,
      "outputs": []
    },
    {
      "cell_type": "markdown",
      "source": [
        "El dataset de pobreza presentó un alto porcentaje de valores nulos en varias columnas, algunas con más del 95% de datos faltantes. Para mejorar la calidad del análisis, se eliminaron las columnas con más del 35% de valores nulos. Para las variables restantes, los valores numéricos faltantes fueron reemplazados con la media, y los categóricos con la moda. También se aplicó el método IQR para la detección y eliminación de valores atípicos en las variables numéricas, asegurando una distribución más representativa.\n"
      ],
      "metadata": {
        "id": "xJwDEiTWkntv"
      }
    },
    {
      "cell_type": "markdown",
      "source": [
        "### **Conjunto de datos `Inversión`**\n"
      ],
      "metadata": {
        "id": "ouav7EuKh0tL"
      }
    },
    {
      "cell_type": "markdown",
      "source": [
        "**Limpieza de datos**"
      ],
      "metadata": {
        "id": "Ns_-nz2MiSuH"
      }
    },
    {
      "cell_type": "code",
      "source": [
        "#Verificación de datos Atipicos\n",
        "\n",
        "plt.figure(figsize=(8,5))\n",
        "sns.boxplot(x=inversion[\"Inversion_Periodo_Presidencial\"])\n",
        "plt.title(\"Distribución de Inversion_Periodo_Presidencial\")\n",
        "plt.show()\n"
      ],
      "metadata": {
        "id": "sGW0cUuKh1J6"
      },
      "execution_count": null,
      "outputs": []
    },
    {
      "cell_type": "code",
      "source": [
        "Q1 = inversion[\"Inversion_Periodo_Presidencial\"].quantile(0.25)\n",
        "Q3 = inversion[\"Inversion_Periodo_Presidencial\"].quantile(0.75)\n",
        "IQR = Q3 - Q1\n",
        "lower_bound = Q1 - 1.5 * IQR\n",
        "upper_bound = Q3 + 1.5 * IQR\n",
        "\n",
        "inversion_limpio = inversion[(inversion[\"Inversion_Periodo_Presidencial\"] >= lower_bound) &\n",
        "                             (inversion[\"Inversion_Periodo_Presidencial\"] <= upper_bound)]\n"
      ],
      "metadata": {
        "id": "CSxT82PPi9cV"
      },
      "execution_count": null,
      "outputs": []
    },
    {
      "cell_type": "code",
      "source": [
        "plt.figure(figsize=(8,5))\n",
        "sns.boxplot(x=inversion_limpio[\"Inversion_Periodo_Presidencial\"])\n",
        "plt.title(\"Distribución de Inversion_Periodo_Presidencial\")\n",
        "plt.show()\n",
        "\n"
      ],
      "metadata": {
        "id": "JEz9SECEi_Rj"
      },
      "execution_count": null,
      "outputs": []
    },
    {
      "cell_type": "markdown",
      "source": [
        "El dataset de inversión no presentaba valores nulos, por lo que no fue necesario realizar imputaciones. Sin embargo, se verificaron valores atípicos en la variable Inversion_Periodo_Presidencial mediante el método IQR, asegurando que no haya registros que distorsionen el análisis. También se evaluó la inversión per cápita como una posible métrica adicional para futuros análisis."
      ],
      "metadata": {
        "id": "MR6IIWu5jCB_"
      }
    },
    {
      "cell_type": "markdown",
      "source": [
        "### **Conjunto de datos `Matriculas`**\n",
        "\n"
      ],
      "metadata": {
        "id": "r35HGmbCh1o1"
      }
    },
    {
      "cell_type": "markdown",
      "source": [
        "**Limpieza de datos**"
      ],
      "metadata": {
        "id": "vc8sdL3UiTPq"
      }
    },
    {
      "cell_type": "code",
      "source": [
        "\n",
        "import numpy as np\n",
        "\n",
        "# Definir el mapeo de códigos a nombres de departamentos\n",
        "mapeo_departamentos = {\n",
        "    5: \"Antioquia\",\n",
        "    11: \"Bogotá D.C.\",\n",
        "    41: \"Huila\",\n",
        "    63: \"Quindío\"\n",
        "}\n",
        "\n",
        "# Reemplazar los valores en la columna \"Nombre del Departamento\" basados en \"Código del Departamento\"\n",
        "matriculas[\"Nombre del Departamento\"] = matriculas[\"Código delDepartamento\"].replace(mapeo_departamentos)\n",
        "\n",
        "# Verificar si los cambios se aplicaron\n",
        "print(matriculas.head())\n",
        "\n"
      ],
      "metadata": {
        "id": "uwlFqcvrh19b"
      },
      "execution_count": null,
      "outputs": []
    },
    {
      "cell_type": "markdown",
      "source": [
        "En general estaba bastante limpio, solo se le realizo el cambio del codigo al nombre del departamento, ya que estaba en la columna codigo departamento y nombre del departamento ambas con codigo y sin el nomnbre"
      ],
      "metadata": {
        "id": "7hPNDt91-hGo"
      }
    },
    {
      "cell_type": "markdown",
      "source": [
        "### **Conjunto de datos `Educación`**\n"
      ],
      "metadata": {
        "id": "LBkH6dAth2aa"
      }
    },
    {
      "cell_type": "markdown",
      "source": [
        "**Limpieza de datos**"
      ],
      "metadata": {
        "id": "TAOQhngliTvB"
      }
    },
    {
      "cell_type": "code",
      "source": [
        "# Lista de columnas a eliminar\n",
        "columnas_a_eliminar = [\n",
        "    \"REPITENCIA_TRANSICIÓN\", \"REPITENCIA_PRIMARIA\", \"REPITENCIA_MEDIA\", \"REPITENCIA\",\n",
        "    \"TAMAÑO_PROMEDIO_DE_GRUPO\", \"SEDES_CONECTADAS_A_INTERNET\",\n",
        "    \"REPROBACIÓN_MEDIA\", \"REPROBACIÓN_PRIMARIA\", \"REPROBACIÓN_TRANSICIÓN\", \"REPROBACIÓN\",\n",
        "    \"APROBACIÓN\", \"APROBACIÓN_MEDIA\", \"APROBACIÓN_PRIMARIA\", \"APROBACIÓN_TRANSICIÓN\",\n",
        "    \"DESERCIÓN\", \"DESERCIÓN_MEDIA\", \"DESERCIÓN_PRIMARIA\", \"DESERCIÓN_TRANSICIÓN\",\n",
        "    \"COBERTURA_BRUTA_MEDIA\", \"COBERTURA_BRUTA_PRIMARIA\", \"COBERTURA_BRUTA_TRANSICIÓN\", \"COBERTURA_BRUTA\",\n",
        "    \"COBERTURA_NETA_MEDIA\", \"COBERTURA_NETA_PRIMARIA\", \"COBERTURA_NETA_TRANSICIÓN\", \"COBERTURA_NETA\",\n",
        "    \"CÓDIGO_ETC\", \"ETC\"\n",
        "]\n",
        "\n",
        "# Eliminar las columnas\n",
        "educacion_limpio = educacion.drop(columns=columnas_a_eliminar, errors=\"ignore\")\n",
        "\n",
        "# Verificar la nueva estructura del dataset\n",
        "print(educacion_limpio.info())"
      ],
      "metadata": {
        "id": "kq49dft8h2vn"
      },
      "execution_count": null,
      "outputs": []
    },
    {
      "cell_type": "markdown",
      "source": [
        "En general el dataset tenia muchas columna irrelevantes para el proyecto, algunas estas presentaban datos de transision y primaria, lo cual no es relevante. A la vez, presentaba incongruencias es otras columnas que reflejaban datos sin sentido, como el total de estudiantes siendo menor que los estudiantes que cursan en bachillerato. Tambien, hubo columnas con un alto porcentaje de datos nulos. Se eliminaron estas columnas que afectaban el desarrollo del proyecto"
      ],
      "metadata": {
        "id": "If6amduN-ztv"
      }
    },
    {
      "cell_type": "markdown",
      "source": [
        "### **Conjunto de datos `Internet`**\n"
      ],
      "metadata": {
        "id": "MaQbAjNbiDU5"
      }
    },
    {
      "cell_type": "markdown",
      "source": [
        "**Limpieza de datos**"
      ],
      "metadata": {
        "id": "ew6BoK0-iUPN"
      }
    },
    {
      "cell_type": "code",
      "source": [
        "internet.info()"
      ],
      "metadata": {
        "id": "LAZNLsV4iHGX"
      },
      "execution_count": null,
      "outputs": []
    },
    {
      "cell_type": "code",
      "source": [
        "# 1. Creación de métrica de accesos a internet por cada 1000 habitantes\n",
        "df_internet=internet\n",
        "df_internet[\"Internet_per_capita\"] = (df_internet[\"No. ACCESOS FIJOS A INTERNET\"] * 1000) / df_internet[\"POBLACIÓN DANE\"]\n",
        "\n",
        "# 2. Detección y eliminación de valores atípicos en la nueva métrica\n",
        "\n",
        "\n",
        "Q1 = df_internet[\"Internet_per_capita\"].quantile(0.25)\n",
        "Q3 = df_internet[\"Internet_per_capita\"].quantile(0.75)\n",
        "IQR = Q3 - Q1\n",
        "lower_bound = Q1 - 1.5 * IQR\n",
        "upper_bound = Q3 + 1.5 * IQR\n",
        "df_internet = df_internet[(df_internet[\"Internet_per_capita\"] >= lower_bound) &\n",
        "                           (df_internet[\"Internet_per_capita\"] <= upper_bound)]\n",
        "\n",
        "# Visualización de la distribución después de la limpieza\n",
        "plt.figure(figsize=(10, 5))\n",
        "sns.histplot(df_internet[\"Internet_per_capita\"], bins=30, kde=True)\n",
        "plt.title(\"Distribución de Internet per cápita después de limpieza\")\n",
        "plt.show()\n",
        "\n",
        "# Guardar el dataset limpio\n",
        "internet_limpio=df_internet"
      ],
      "metadata": {
        "id": "2A_jYuygitzA"
      },
      "execution_count": null,
      "outputs": []
    },
    {
      "cell_type": "markdown",
      "source": [
        "El dataset de acceso a internet no presentaba valores nulos, por lo que no fue necesario realizar imputaciones. Sin embargo, para mejorar su utilidad en el análisis, se realizaron las siguientes transformaciones:\n",
        "\n",
        "**Creación de la métrica de acceso a internet per cápita:**\n",
        "\n",
        "  Para comparar de manera equitativa el acceso a internet entre municipios con diferentes tamaños poblacionales, se creó una nueva variable que calcula los accesos a internet por cada 1,000 habitantes.\n",
        "  Esta transformación permite un análisis más representativo de la cobertura del servicio en cada municipio.\n",
        "\n",
        "**Eliminación de valores atípicos:**\n",
        "\n",
        "Se utilizó el método IQR (Rango Intercuartil) para identificar y eliminar valores extremadamente altos o bajos en la métrica de acceso a internet per cápita.\n",
        "Esto ayuda a evitar distorsiones en el análisis y a mejorar la representatividad de los datos.\n",
        "\n",
        "Estas mejoras garantizan que los datos sean más confiables y adecuados para su análisis posterior."
      ],
      "metadata": {
        "id": "A_7g91lDiyHa"
      }
    }
  ]
}