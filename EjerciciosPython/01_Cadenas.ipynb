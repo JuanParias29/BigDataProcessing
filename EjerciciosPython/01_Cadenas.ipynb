{
  "cells": [
    {
      "cell_type": "markdown",
      "metadata": {
        "application/vnd.databricks.v1+cell": {
          "inputWidgets": {},
          "nuid": "c5e61d79-8f0e-4413-afff-a73698e18bb5",
          "showTitle": false,
          "title": ""
        },
        "id": "l3uqQ-sLzvR4"
      },
      "source": [
        "# <h1>Procesamiento de Datos a Gran Escala</h1>"
      ]
    },
    {
      "cell_type": "markdown",
      "metadata": {
        "id": "b4cbc893"
      },
      "source": [
        "\n",
        "# 📌 Portada\n",
        "\n",
        "**Curso:** Procesamiento de Big Data\n",
        "\n",
        "**Docente**: John Corredor Franco\n",
        "\n",
        "**Estudiante:** Juan Pablo Arias\n",
        "\n",
        " **ID**: 20524770\n",
        "\n",
        "**Carrera:** Ciencia de Datos\n"
      ]
    },
    {
      "cell_type": "markdown",
      "metadata": {
        "application/vnd.databricks.v1+cell": {
          "inputWidgets": {},
          "nuid": "c5c3b9b4-1a97-4151-b056-30997a3dae8e",
          "showTitle": false,
          "title": ""
        },
        "id": "3kK1A96KzvR4"
      },
      "source": [
        "<h2>Operaciones con Cadenas</h2>"
      ]
    },
    {
      "cell_type": "markdown",
      "metadata": {
        "application/vnd.databricks.v1+cell": {
          "inputWidgets": {},
          "nuid": "97dc7dc7-f023-468f-9901-62cf076efde0",
          "showTitle": false,
          "title": ""
        },
        "id": "NQupYyLGzvR4"
      },
      "source": [
        "<p><strong>¡Bienvenido!</strong> En este cuaderno aprenderás sobre operaciones con cadenas en el Lenguaje de Programación Python. Al finalizar, conocerás acerca de las operaciones con cadenas que se pueden realizar en Python como son, indexación, operaciones y secuencias de escape.</p>"
      ]
    },
    {
      "cell_type": "markdown",
      "metadata": {
        "application/vnd.databricks.v1+cell": {
          "inputWidgets": {},
          "nuid": "75b418f4-38c8-4925-8c64-21588ac252dc",
          "showTitle": false,
          "title": ""
        },
        "id": "Tom0-R5LzvR6"
      },
      "source": [
        "<h2>Tabla de Contenido</h2>\n",
        "<div class=\"alert alert-block alert-info\" style=\"margin-top: 20px\">\n",
        "    <ul>\n",
        "        <li>\n",
        "            <a href=\"#strings\">¿Qué es una cadena?</a>\n",
        "        </li>\n",
        "        <li>\n",
        "            <a href=\"#index\">Indexación</a>\n",
        "            <ul>\n",
        "                <li><a href=\"neg\">Indexación Negativa</a></li>\n",
        "                <li><a href=\"slice\">Slicing</a></li>\n",
        "                <li><a href=\"stride\">Stride</a></li>\n",
        "                <li><a href=\"concat\">Concatenar Cadenas</a></li>\n",
        "            </ul>\n",
        "        </li>\n",
        "        <li>\n",
        "            <a href=\"#escape\">Secuencias de Escape</a>\n",
        "        </li>\n",
        "        <li>\n",
        "            <a href=\"#operations\">Operaciones con Cadenas</a>\n",
        "        </li>\n",
        "        <li>\n",
        "            <a href=\"#quiz\">Exámen sobre Cadenas</a>\n",
        "        </li>\n",
        "    </ul>\n",
        "    <p>\n",
        "        Tiempo Estimado: <strong>15 min</strong>\n",
        "    </p>\n",
        "</div>\n",
        "\n",
        "<hr>"
      ]
    },
    {
      "cell_type": "markdown",
      "metadata": {
        "application/vnd.databricks.v1+cell": {
          "inputWidgets": {},
          "nuid": "07f23fc9-4dc4-4104-82cc-32836e59e872",
          "showTitle": false,
          "title": ""
        },
        "id": "9SRyZhfSzvR7"
      },
      "source": [
        "<h2 id=\"strings\">¿Qué es una cadena?</h2>"
      ]
    },
    {
      "cell_type": "markdown",
      "metadata": {
        "application/vnd.databricks.v1+cell": {
          "inputWidgets": {},
          "nuid": "8aa1dec4-df2a-49f7-bbe2-d49584a60608",
          "showTitle": false,
          "title": ""
        },
        "id": "hjpUaaJ0zvR8"
      },
      "source": [
        "A continuación, se muestra una cadena entre comillas dobles."
      ]
    },
    {
      "cell_type": "code",
      "execution_count": null,
      "metadata": {
        "application/vnd.databricks.v1+cell": {
          "inputWidgets": {},
          "nuid": "26a4f2f6-c7b1-4274-a707-f7ddb76253af",
          "showTitle": false,
          "title": ""
        },
        "colab": {
          "base_uri": "https://localhost:8080/",
          "height": 36
        },
        "id": "-r6eXKDlzvR8",
        "outputId": "76532b1d-6c4e-4825-962b-ec87f2fae2bd"
      },
      "outputs": [
        {
          "output_type": "execute_result",
          "data": {
            "text/plain": [
              "'Michael Jackson'"
            ],
            "application/vnd.google.colaboratory.intrinsic+json": {
              "type": "string"
            }
          },
          "metadata": {},
          "execution_count": 1
        }
      ],
      "source": [
        "# Usa las comillas dobles para definir una cadena\n",
        "\n",
        "\"Michael Jackson\""
      ]
    },
    {
      "cell_type": "markdown",
      "metadata": {
        "application/vnd.databricks.v1+cell": {
          "inputWidgets": {},
          "nuid": "156897c4-37c7-4b5e-b027-832638056035",
          "showTitle": false,
          "title": ""
        },
        "id": "JCA_sOjJzvR-"
      },
      "source": [
        "También podemos usar comillas simples:"
      ]
    },
    {
      "cell_type": "code",
      "execution_count": null,
      "metadata": {
        "application/vnd.databricks.v1+cell": {
          "inputWidgets": {},
          "nuid": "deb3b65e-db10-4e13-bb6e-1201355ad711",
          "showTitle": false,
          "title": ""
        },
        "colab": {
          "base_uri": "https://localhost:8080/",
          "height": 36
        },
        "id": "svwyQ-4vzvR-",
        "outputId": "15d3f5f2-0f72-4293-f9e8-d9c33b397c27"
      },
      "outputs": [
        {
          "output_type": "execute_result",
          "data": {
            "text/plain": [
              "'Michael Jackson'"
            ],
            "application/vnd.google.colaboratory.intrinsic+json": {
              "type": "string"
            }
          },
          "metadata": {},
          "execution_count": 2
        }
      ],
      "source": [
        "# Usa comillas simples para definir una cadena\n",
        "\n",
        "'Michael Jackson'"
      ]
    },
    {
      "cell_type": "markdown",
      "metadata": {
        "application/vnd.databricks.v1+cell": {
          "inputWidgets": {},
          "nuid": "e5e4693c-3d5f-40fc-a7f6-01f1fb693843",
          "showTitle": false,
          "title": ""
        },
        "id": "amfI35VZzvR_"
      },
      "source": [
        "Una cadena puede ser una combinación de espacios y dígitos:"
      ]
    },
    {
      "cell_type": "code",
      "execution_count": null,
      "metadata": {
        "application/vnd.databricks.v1+cell": {
          "inputWidgets": {},
          "nuid": "725caefd-24ce-4660-bd0f-af6b902566bb",
          "showTitle": false,
          "title": ""
        },
        "colab": {
          "base_uri": "https://localhost:8080/",
          "height": 36
        },
        "id": "fX-UyItNzvSA",
        "outputId": "0d8ab70b-f984-4b01-80fb-b69d2e614b6c"
      },
      "outputs": [
        {
          "output_type": "execute_result",
          "data": {
            "text/plain": [
              "'1 2 3 4 5 6 '"
            ],
            "application/vnd.google.colaboratory.intrinsic+json": {
              "type": "string"
            }
          },
          "metadata": {},
          "execution_count": 3
        }
      ],
      "source": [
        "# Dígitos y espacios en una cadena\n",
        "\n",
        "'1 2 3 4 5 6 '"
      ]
    },
    {
      "cell_type": "markdown",
      "metadata": {
        "application/vnd.databricks.v1+cell": {
          "inputWidgets": {},
          "nuid": "3049df74-fcb0-4d43-9d10-1c98a445be02",
          "showTitle": false,
          "title": ""
        },
        "id": "HaEIXKQLzvSA"
      },
      "source": [
        "Una cadena también puede estar formada por caracteres especiales :"
      ]
    },
    {
      "cell_type": "code",
      "execution_count": null,
      "metadata": {
        "application/vnd.databricks.v1+cell": {
          "inputWidgets": {},
          "nuid": "4b20df88-dd74-44e3-a310-5b3c27ecefab",
          "showTitle": false,
          "title": ""
        },
        "colab": {
          "base_uri": "https://localhost:8080/",
          "height": 36
        },
        "id": "qn08-gvezvSA",
        "outputId": "d4ea7399-f647-4eaf-f55e-abe984abfeae"
      },
      "outputs": [
        {
          "output_type": "execute_result",
          "data": {
            "text/plain": [
              "'@#2_#]&*^%$'"
            ],
            "application/vnd.google.colaboratory.intrinsic+json": {
              "type": "string"
            }
          },
          "metadata": {},
          "execution_count": 4
        }
      ],
      "source": [
        "# Caracteres especiales en una cadena\n",
        "\n",
        "'@#2_#]&*^%$'"
      ]
    },
    {
      "cell_type": "markdown",
      "metadata": {
        "application/vnd.databricks.v1+cell": {
          "inputWidgets": {},
          "nuid": "f2dca36c-a031-459e-8579-67c2d0f631b8",
          "showTitle": false,
          "title": ""
        },
        "id": "_HocWMUMzvSN"
      },
      "source": [
        "Podemos imprimir en pantallas una cadena usando la sentencia print:"
      ]
    },
    {
      "cell_type": "code",
      "execution_count": null,
      "metadata": {
        "application/vnd.databricks.v1+cell": {
          "inputWidgets": {},
          "nuid": "ab92c5e7-fe91-40e8-b339-b4150b7daef6",
          "showTitle": false,
          "title": ""
        },
        "colab": {
          "base_uri": "https://localhost:8080/"
        },
        "id": "aEDCzO_hzvSO",
        "outputId": "ac91fc4f-b0f2-40b6-e665-11e5b83a5e3f"
      },
      "outputs": [
        {
          "output_type": "stream",
          "name": "stdout",
          "text": [
            "hello!\n"
          ]
        }
      ],
      "source": [
        "# Imprimir la cadea\n",
        "\n",
        "print(\"hello!\")"
      ]
    },
    {
      "cell_type": "markdown",
      "metadata": {
        "application/vnd.databricks.v1+cell": {
          "inputWidgets": {},
          "nuid": "ee912641-c6f6-49a2-8c8a-8224e9f2c011",
          "showTitle": false,
          "title": ""
        },
        "id": "ilqmrOFVzvSO"
      },
      "source": [
        "Podemos asignar una cadena como valor de una variable:"
      ]
    },
    {
      "cell_type": "code",
      "execution_count": null,
      "metadata": {
        "application/vnd.databricks.v1+cell": {
          "inputWidgets": {},
          "nuid": "472735ea-e2b4-4e95-a7b9-dc5a388f8203",
          "showTitle": false,
          "title": ""
        },
        "colab": {
          "base_uri": "https://localhost:8080/",
          "height": 36
        },
        "id": "amByrxwPzvSP",
        "outputId": "1b193774-515f-432a-cf02-143f31dff94c"
      },
      "outputs": [
        {
          "output_type": "execute_result",
          "data": {
            "text/plain": [
              "'Michael Jackson'"
            ],
            "application/vnd.google.colaboratory.intrinsic+json": {
              "type": "string"
            }
          },
          "metadata": {},
          "execution_count": 6
        }
      ],
      "source": [
        "# Asignar una cadena a una variable\n",
        "\n",
        "Name = \"Michael Jackson\"\n",
        "Name"
      ]
    },
    {
      "cell_type": "markdown",
      "metadata": {
        "application/vnd.databricks.v1+cell": {
          "inputWidgets": {},
          "nuid": "498ef261-6833-4b74-a10b-6a2efa30b4a2",
          "showTitle": false,
          "title": ""
        },
        "id": "hMuNx86dzvSP"
      },
      "source": [
        "<h2 id=\"index\">Indexación</h2>"
      ]
    },
    {
      "cell_type": "markdown",
      "metadata": {
        "application/vnd.databricks.v1+cell": {
          "inputWidgets": {},
          "nuid": "82faedb4-0220-49c6-9513-a607ad48ca64",
          "showTitle": false,
          "title": ""
        },
        "id": "LvfIDKsxzvSP"
      },
      "source": [
        "Debemos pensar en una cadena como una secuencia ordenada. Cada elemento de la secuencia puede ser accedido utilizando un índice numérico, el cual representa el lugar que ocupa dicho elemento en la cadena:"
      ]
    },
    {
      "cell_type": "markdown",
      "metadata": {
        "application/vnd.databricks.v1+cell": {
          "inputWidgets": {},
          "nuid": "edf71893-be4c-4225-af89-1eb7b71e574f",
          "showTitle": false,
          "title": ""
        },
        "id": "vE5xOQpczvSQ"
      },
      "source": [
        "<img src=\"https://s3-api.us-geo.objectstorage.softlayer.net/cf-courses-data/CognitiveClass/PY0101EN/Chapter%201/Images/StringsIndex.png\" width=\"600\" align=\"center\" />"
      ]
    },
    {
      "cell_type": "markdown",
      "metadata": {
        "application/vnd.databricks.v1+cell": {
          "inputWidgets": {},
          "nuid": "3baffebb-7d70-49d7-aae5-5aed40453431",
          "showTitle": false,
          "title": ""
        },
        "id": "g4oNt840zvSQ"
      },
      "source": [
        "Se puede acceder al primer índice de la siguiente manera:"
      ]
    },
    {
      "cell_type": "markdown",
      "metadata": {
        "application/vnd.databricks.v1+cell": {
          "inputWidgets": {},
          "nuid": "dd579068-7787-4dcb-8971-1c7e70312114",
          "showTitle": false,
          "title": ""
        },
        "id": "o4vw4GngzvSQ"
      },
      "source": [
        "<hr/>\n",
        "<div class=\"alert alert-success alertsuccess\" style=\"margin-top: 20px\">\n",
        "[Tip]: En la indexación se empieza por el 0, esto quiere decir que el primer elemento de la cadena está en el índice 0.\n",
        "</div>\n",
        "<hr/>"
      ]
    },
    {
      "cell_type": "code",
      "execution_count": null,
      "metadata": {
        "application/vnd.databricks.v1+cell": {
          "inputWidgets": {},
          "nuid": "956eff60-6fdc-4c8c-ba51-3c3af1e67d2d",
          "showTitle": false,
          "title": ""
        },
        "colab": {
          "base_uri": "https://localhost:8080/"
        },
        "id": "UNxkm1JqzvSR",
        "outputId": "d2331624-6c2b-42f2-a24f-61d02c2c1a77"
      },
      "outputs": [
        {
          "output_type": "stream",
          "name": "stdout",
          "text": [
            "M\n"
          ]
        }
      ],
      "source": [
        "# Imprime el primer elemento de la cadena\n",
        "\n",
        "print(Name[0])"
      ]
    },
    {
      "cell_type": "markdown",
      "metadata": {
        "application/vnd.databricks.v1+cell": {
          "inputWidgets": {},
          "nuid": "763c24bb-6639-48c4-8a9a-52f1411126c1",
          "showTitle": false,
          "title": ""
        },
        "id": "sQN7VNwFzvSR"
      },
      "source": [
        "Podemos acceder el índice 6:"
      ]
    },
    {
      "cell_type": "code",
      "execution_count": null,
      "metadata": {
        "application/vnd.databricks.v1+cell": {
          "inputWidgets": {},
          "nuid": "61adbc4f-3f3c-4996-8d58-0191b2ce73e7",
          "showTitle": false,
          "title": ""
        },
        "colab": {
          "base_uri": "https://localhost:8080/"
        },
        "id": "3ZaPk935zvSR",
        "outputId": "8fc70b5a-5f73-4e23-b3b8-ff51aafcd594"
      },
      "outputs": [
        {
          "output_type": "stream",
          "name": "stdout",
          "text": [
            "l\n"
          ]
        }
      ],
      "source": [
        "# Imprime el elemento en el índice 6 de la cadena\n",
        "\n",
        "print(Name[6])"
      ]
    },
    {
      "cell_type": "markdown",
      "metadata": {
        "application/vnd.databricks.v1+cell": {
          "inputWidgets": {},
          "nuid": "55b73ebd-cdd4-4b2c-9abe-c691447790bf",
          "showTitle": false,
          "title": ""
        },
        "id": "ltFjb6KFzvSS"
      },
      "source": [
        "También, podemos acceder al treceavo elemento:"
      ]
    },
    {
      "cell_type": "code",
      "execution_count": null,
      "metadata": {
        "application/vnd.databricks.v1+cell": {
          "inputWidgets": {},
          "nuid": "4b2fe12c-7371-45ed-98a7-c417c3c886ba",
          "showTitle": false,
          "title": ""
        },
        "colab": {
          "base_uri": "https://localhost:8080/"
        },
        "id": "P4JCTEXxzvSS",
        "outputId": "4d8b924d-1238-4ba2-bc0b-bf3e4bc5559a"
      },
      "outputs": [
        {
          "output_type": "stream",
          "name": "stdout",
          "text": [
            "o\n"
          ]
        }
      ],
      "source": [
        "# Imprime el elemento en el treceavo índice de la cadena\n",
        "\n",
        "print(Name[13])"
      ]
    },
    {
      "cell_type": "markdown",
      "metadata": {
        "application/vnd.databricks.v1+cell": {
          "inputWidgets": {},
          "nuid": "ef4b0aef-856e-4310-8524-e30d9fc4a7e7",
          "showTitle": false,
          "title": ""
        },
        "id": "PvRpGSp7zvSU"
      },
      "source": [
        "<h3 id=\"neg\">Indexación Negativa</h3>"
      ]
    },
    {
      "cell_type": "markdown",
      "metadata": {
        "application/vnd.databricks.v1+cell": {
          "inputWidgets": {},
          "nuid": "1e699e8d-475a-4988-b27b-7bb1d0dde27a",
          "showTitle": false,
          "title": ""
        },
        "id": "aQfKy1z8zvSU"
      },
      "source": [
        "Con las cadenas tambien podemos usar la indexación negativa:"
      ]
    },
    {
      "cell_type": "markdown",
      "metadata": {
        "application/vnd.databricks.v1+cell": {
          "inputWidgets": {},
          "nuid": "222993fc-fc69-41e4-9c40-b0fed8c79e0b",
          "showTitle": false,
          "title": ""
        },
        "id": "rjuWaF02zvSU"
      },
      "source": [
        "<img src=\"https://s3-api.us-geo.objectstorage.softlayer.net/cf-courses-data/CognitiveClass/PY0101EN/Chapter%201/Images/StringsNeg.png\" width=\"600\" align=\"center\" />"
      ]
    },
    {
      "cell_type": "markdown",
      "metadata": {
        "application/vnd.databricks.v1+cell": {
          "inputWidgets": {},
          "nuid": "21ad5ad4-ab40-4ac2-b1fd-8005a8ddc9a0",
          "showTitle": false,
          "title": ""
        },
        "id": "i0OW1BqGzvSU"
      },
      "source": [
        "La indexación negativa nos sirve para numerar un elemento desde el final de una cadena."
      ]
    },
    {
      "cell_type": "markdown",
      "metadata": {
        "application/vnd.databricks.v1+cell": {
          "inputWidgets": {},
          "nuid": "9449b8f6-f62c-410e-a163-16672fb823c2",
          "showTitle": false,
          "title": ""
        },
        "id": "zRtla0ShzvSU"
      },
      "source": [
        "El ultima elemento tiene el índice -1:"
      ]
    },
    {
      "cell_type": "code",
      "execution_count": null,
      "metadata": {
        "application/vnd.databricks.v1+cell": {
          "inputWidgets": {},
          "nuid": "8673daf2-0532-4732-9cc1-4ffde815f17a",
          "showTitle": false,
          "title": ""
        },
        "colab": {
          "base_uri": "https://localhost:8080/"
        },
        "id": "doe3JsIgzvSV",
        "outputId": "1e252fbd-0b7d-4b4e-ed9f-23a81e26c7b4"
      },
      "outputs": [
        {
          "output_type": "stream",
          "name": "stdout",
          "text": [
            "n\n"
          ]
        }
      ],
      "source": [
        "# Imprime el último elemento de la cadena\n",
        "\n",
        "print(Name[-1])"
      ]
    },
    {
      "cell_type": "markdown",
      "metadata": {
        "application/vnd.databricks.v1+cell": {
          "inputWidgets": {},
          "nuid": "c3014bd8-dde8-4fcb-b1f0-a86bfabab7c1",
          "showTitle": false,
          "title": ""
        },
        "id": "QiBfyEDvzvSV"
      },
      "source": [
        "El primer elemento se obtiene usando como índice el -15:"
      ]
    },
    {
      "cell_type": "code",
      "execution_count": null,
      "metadata": {
        "application/vnd.databricks.v1+cell": {
          "inputWidgets": {},
          "nuid": "66c759a3-e482-4101-8427-176c62939e1b",
          "showTitle": false,
          "title": ""
        },
        "colab": {
          "base_uri": "https://localhost:8080/"
        },
        "id": "CyuEcQm6zvSV",
        "outputId": "8a06634b-5a45-43d9-fe42-0a5b63939852"
      },
      "outputs": [
        {
          "output_type": "stream",
          "name": "stdout",
          "text": [
            "M\n"
          ]
        }
      ],
      "source": [
        "# Imprime el primer elemento de la cadena\n",
        "\n",
        "print(Name[-15])"
      ]
    },
    {
      "cell_type": "markdown",
      "metadata": {
        "application/vnd.databricks.v1+cell": {
          "inputWidgets": {},
          "nuid": "0beca8f1-b3ce-45d8-a383-87b7165a9f8f",
          "showTitle": false,
          "title": ""
        },
        "id": "uMRhwafCzvSV"
      },
      "source": [
        "Para conocer la cantidad de caracteres en un cadena usamos <code>len</code>, que es la abreviación de length, en inglés significa longitud:"
      ]
    },
    {
      "cell_type": "code",
      "execution_count": null,
      "metadata": {
        "application/vnd.databricks.v1+cell": {
          "inputWidgets": {},
          "nuid": "b3a10269-12b0-4657-b731-0ebfd79b8b84",
          "showTitle": false,
          "title": ""
        },
        "colab": {
          "base_uri": "https://localhost:8080/"
        },
        "id": "84kd2OJOzvSW",
        "outputId": "b5731947-91d0-4711-aa17-012ac2a32e40"
      },
      "outputs": [
        {
          "output_type": "execute_result",
          "data": {
            "text/plain": [
              "15"
            ]
          },
          "metadata": {},
          "execution_count": 12
        }
      ],
      "source": [
        "# Encuentra la longitud de la cadena\n",
        "\n",
        "len(\"Michael Jackson\")"
      ]
    },
    {
      "cell_type": "markdown",
      "metadata": {
        "application/vnd.databricks.v1+cell": {
          "inputWidgets": {},
          "nuid": "19a168ee-df46-4f2b-9c43-26fb8bad3100",
          "showTitle": false,
          "title": ""
        },
        "id": "bdblq4emzvSX"
      },
      "source": [
        "<h3 id=\"slice\">Slicing</h3>"
      ]
    },
    {
      "cell_type": "markdown",
      "metadata": {
        "application/vnd.databricks.v1+cell": {
          "inputWidgets": {},
          "nuid": "da37a4c2-c3d0-4857-ac65-9aa49d895fc5",
          "showTitle": false,
          "title": ""
        },
        "id": "fQXyL9nCzvSf"
      },
      "source": [
        "Podemos obtener múltiples caracteres de una cadena usando el slicing, digamos desde primero hasta el cuarto y desde el octavo hasta el doceavo:"
      ]
    },
    {
      "cell_type": "markdown",
      "metadata": {
        "application/vnd.databricks.v1+cell": {
          "inputWidgets": {},
          "nuid": "a7fbdef7-db18-4da9-96f3-7da92df74bc7",
          "showTitle": false,
          "title": ""
        },
        "id": "6swxZ82TzvSf"
      },
      "source": [
        "<img src=\"https://s3-api.us-geo.objectstorage.softlayer.net/cf-courses-data/CognitiveClass/PY0101EN/Chapter%201/Images/StringsSlice.png\" width=\"600\" align=\"center\" />"
      ]
    },
    {
      "cell_type": "markdown",
      "metadata": {
        "application/vnd.databricks.v1+cell": {
          "inputWidgets": {},
          "nuid": "226ab59e-dd92-4640-b69d-8bb7f1018903",
          "showTitle": false,
          "title": ""
        },
        "id": "PUm7AHqmzvSf"
      },
      "source": [
        "<hr/>\n",
        "<div class=\"alert alert-success alertsuccess\" style=\"margin-top: 20px\">\n",
        "[Tip]: Para aplicar el slicing, el primer numero indica el índice del primer elemento, y el segundo numero indicara el índice del ultimo elemento de la sub-cadena que queremos obtener.\n",
        "</div>\n",
        "<hr/>"
      ]
    },
    {
      "cell_type": "code",
      "execution_count": null,
      "metadata": {
        "application/vnd.databricks.v1+cell": {
          "inputWidgets": {},
          "nuid": "ccba6bf2-5333-4e5a-a3ad-ddf3bc818c02",
          "showTitle": false,
          "title": ""
        },
        "colab": {
          "base_uri": "https://localhost:8080/",
          "height": 36
        },
        "id": "-eJIUcnDzvSg",
        "outputId": "24f932a6-3c95-4d6f-82fb-31130bc5177c"
      },
      "outputs": [
        {
          "output_type": "execute_result",
          "data": {
            "text/plain": [
              "'Mich'"
            ],
            "application/vnd.google.colaboratory.intrinsic+json": {
              "type": "string"
            }
          },
          "metadata": {},
          "execution_count": 13
        }
      ],
      "source": [
        "# Asigna una seccion de la cadena dentro de la variable Name usando los indices desde el 0 hasta el 3\n",
        "\n",
        "Name[0:4]"
      ]
    },
    {
      "cell_type": "code",
      "execution_count": null,
      "metadata": {
        "application/vnd.databricks.v1+cell": {
          "inputWidgets": {},
          "nuid": "22f39e7a-d6ae-445a-b4fa-ec6faa54e047",
          "showTitle": false,
          "title": ""
        },
        "colab": {
          "base_uri": "https://localhost:8080/",
          "height": 36
        },
        "id": "-ROH_B83zvSg",
        "outputId": "d0736a6f-f6ee-4d44-cdc8-c45d7299b090"
      },
      "outputs": [
        {
          "output_type": "execute_result",
          "data": {
            "text/plain": [
              "'Jack'"
            ],
            "application/vnd.google.colaboratory.intrinsic+json": {
              "type": "string"
            }
          },
          "metadata": {},
          "execution_count": 14
        }
      ],
      "source": [
        "# Asigna una seccion de la cadena dentro de la variable Name usando los indices desde el 8 hasta el 11\n",
        "\n",
        "Name[8:12]"
      ]
    },
    {
      "cell_type": "markdown",
      "metadata": {
        "application/vnd.databricks.v1+cell": {
          "inputWidgets": {},
          "nuid": "7e9cea89-8472-4e3e-8c7e-ae6be95be267",
          "showTitle": false,
          "title": ""
        },
        "id": "S5k91SyizvSh"
      },
      "source": [
        "<h3 id=\"stride\">Stride</h3>"
      ]
    },
    {
      "cell_type": "markdown",
      "metadata": {
        "application/vnd.databricks.v1+cell": {
          "inputWidgets": {},
          "nuid": "9c07eeb9-1a6b-4c0e-9fad-001b24a65953",
          "showTitle": false,
          "title": ""
        },
        "id": "yJ2_KevxzvSh"
      },
      "source": [
        "Para usar la técnica del stride debemos asignar un valor que a continuación se explica, si usamos el '2' por ejemplo, estaremos indicando que queremos seleccionar solamente cada segundo elemento de la cadena:"
      ]
    },
    {
      "cell_type": "markdown",
      "metadata": {
        "application/vnd.databricks.v1+cell": {
          "inputWidgets": {},
          "nuid": "7c39cfc4-298c-43c4-99a1-b625967921ef",
          "showTitle": false,
          "title": ""
        },
        "id": "iAYQ5EmszvSh"
      },
      "source": [
        "<img src=\"https://s3-api.us-geo.objectstorage.softlayer.net/cf-courses-data/CognitiveClass/PY0101EN/Chapter%201/Images/StringsStride.png\" width=\"600\" align=\"center\" />"
      ]
    },
    {
      "cell_type": "code",
      "execution_count": null,
      "metadata": {
        "application/vnd.databricks.v1+cell": {
          "inputWidgets": {},
          "nuid": "fdaefc84-384d-415a-a079-123a601deeb1",
          "showTitle": false,
          "title": ""
        },
        "colab": {
          "base_uri": "https://localhost:8080/",
          "height": 36
        },
        "id": "sjvy3i-ZzvSh",
        "outputId": "6017e7e4-7aaa-4139-bf59-15d3f3708afe"
      },
      "outputs": [
        {
          "output_type": "execute_result",
          "data": {
            "text/plain": [
              "'McalJcsn'"
            ],
            "application/vnd.google.colaboratory.intrinsic+json": {
              "type": "string"
            }
          },
          "metadata": {},
          "execution_count": 15
        }
      ],
      "source": [
        "# Toma cada segundo elemento. Los elementos con índice 1, 3, 5 ...\n",
        "\n",
        "Name[::2]"
      ]
    },
    {
      "cell_type": "markdown",
      "metadata": {
        "application/vnd.databricks.v1+cell": {
          "inputWidgets": {},
          "nuid": "05fb0838-a4de-486b-88e4-9834bc8e01d7",
          "showTitle": false,
          "title": ""
        },
        "id": "WMIrI6gczvSi"
      },
      "source": [
        "También Podemos combinar el slicing con el stride. Para este caso, seleccionamos los primeros cinco elementos y después aplicamos stride:"
      ]
    },
    {
      "cell_type": "code",
      "execution_count": null,
      "metadata": {
        "application/vnd.databricks.v1+cell": {
          "inputWidgets": {},
          "nuid": "808f6d84-22b3-41a1-856c-94b54061aa71",
          "showTitle": false,
          "title": ""
        },
        "colab": {
          "base_uri": "https://localhost:8080/",
          "height": 36
        },
        "id": "y31nmE-4zvSi",
        "outputId": "8bc339f4-70de-4dbc-e26b-bb7d6d897d25"
      },
      "outputs": [
        {
          "output_type": "execute_result",
          "data": {
            "text/plain": [
              "'Mca'"
            ],
            "application/vnd.google.colaboratory.intrinsic+json": {
              "type": "string"
            }
          },
          "metadata": {},
          "execution_count": 16
        }
      ],
      "source": [
        "# Toma cada segundo elemento desde el índice 0 al 4\n",
        "\n",
        "Name[0:5:2]"
      ]
    },
    {
      "cell_type": "markdown",
      "metadata": {
        "application/vnd.databricks.v1+cell": {
          "inputWidgets": {},
          "nuid": "9be577d4-4e55-4d17-8bcd-faf94f7d42b8",
          "showTitle": false,
          "title": ""
        },
        "id": "Z3OavUxTzvSi"
      },
      "source": [
        "<h3 id=\"concat\">Concatenar Cadenas</h3>"
      ]
    },
    {
      "cell_type": "markdown",
      "metadata": {
        "application/vnd.databricks.v1+cell": {
          "inputWidgets": {},
          "nuid": "ca9879b1-5dac-40ff-83b0-82c0e32e964e",
          "showTitle": false,
          "title": ""
        },
        "id": "sTvVDRmUzvSj"
      },
      "source": [
        "Podemos concatenar o combinar cadenas usando el símbolo de suma, el resultado será una nueva cadena que surge de la combinación de ambas:"
      ]
    },
    {
      "cell_type": "code",
      "execution_count": null,
      "metadata": {
        "application/vnd.databricks.v1+cell": {
          "inputWidgets": {},
          "nuid": "fe24609a-7daa-4090-9c24-36571c5e61ea",
          "showTitle": false,
          "title": ""
        },
        "colab": {
          "base_uri": "https://localhost:8080/",
          "height": 36
        },
        "id": "lnhEEtaAzvSj",
        "outputId": "5ea4c9d1-5532-4685-a7b8-98eea09aa41e"
      },
      "outputs": [
        {
          "output_type": "execute_result",
          "data": {
            "text/plain": [
              "'Michael Jacksonis the best'"
            ],
            "application/vnd.google.colaboratory.intrinsic+json": {
              "type": "string"
            }
          },
          "metadata": {},
          "execution_count": 17
        }
      ],
      "source": [
        "# Concatenar dos cadenas\n",
        "\n",
        "Statement = Name + \"is the best\"\n",
        "Statement"
      ]
    },
    {
      "cell_type": "markdown",
      "metadata": {
        "application/vnd.databricks.v1+cell": {
          "inputWidgets": {},
          "nuid": "b0133664-e3e3-4d83-8c81-a8199b2a76cb",
          "showTitle": false,
          "title": ""
        },
        "id": "ftFx5wuQzvSl"
      },
      "source": [
        "Para replicar los valores en una cadena simplemente podemos multiplicarla por el numero de veces que deseemos. Para este caso, el numero de veces es tres. El resultado es una nueva cadena, la cual consiste en tres copias de la original:"
      ]
    },
    {
      "cell_type": "code",
      "execution_count": null,
      "metadata": {
        "application/vnd.databricks.v1+cell": {
          "inputWidgets": {},
          "nuid": "5e196dbe-1920-4bb8-bb51-391ba73ec80e",
          "showTitle": false,
          "title": ""
        },
        "colab": {
          "base_uri": "https://localhost:8080/",
          "height": 36
        },
        "id": "dgz4XMoUzvSl",
        "outputId": "93d44058-ee6d-4453-b482-16c0b1823421"
      },
      "outputs": [
        {
          "output_type": "execute_result",
          "data": {
            "text/plain": [
              "'Michael JacksonMichael JacksonMichael Jackson'"
            ],
            "application/vnd.google.colaboratory.intrinsic+json": {
              "type": "string"
            }
          },
          "metadata": {},
          "execution_count": 18
        }
      ],
      "source": [
        "# Imprime la cadena 3 veces\n",
        "\n",
        "3 * \"Michael Jackson\""
      ]
    },
    {
      "cell_type": "markdown",
      "metadata": {
        "application/vnd.databricks.v1+cell": {
          "inputWidgets": {},
          "nuid": "90c2c1d7-0c9c-46a5-ab5c-2d40eea40657",
          "showTitle": false,
          "title": ""
        },
        "id": "_tA3SA17zvSm"
      },
      "source": [
        "Se puede crear una nueva cadena añadiendo otra a la original contenida en la variable. Concatenada con una nueva cadena, el resultado es otra diferente, Michael Jackson pasó a ser “Michael Jackson is the best”."
      ]
    },
    {
      "cell_type": "code",
      "execution_count": null,
      "metadata": {
        "application/vnd.databricks.v1+cell": {
          "inputWidgets": {},
          "nuid": "b575a573-242d-4252-a8c9-08e1c4923d06",
          "showTitle": false,
          "title": ""
        },
        "colab": {
          "base_uri": "https://localhost:8080/",
          "height": 36
        },
        "id": "vQVzoBZizvSn",
        "outputId": "2d2a5a92-94cc-456a-9db9-a82b27fc7413"
      },
      "outputs": [
        {
          "output_type": "execute_result",
          "data": {
            "text/plain": [
              "'Michael Jackson is the best'"
            ],
            "application/vnd.google.colaboratory.intrinsic+json": {
              "type": "string"
            }
          },
          "metadata": {},
          "execution_count": 19
        }
      ],
      "source": [
        "# Concatenar cadenas\n",
        "\n",
        "Name = \"Michael Jackson\"\n",
        "Name = Name + \" is the best\"\n",
        "Name"
      ]
    },
    {
      "cell_type": "markdown",
      "metadata": {
        "application/vnd.databricks.v1+cell": {
          "inputWidgets": {},
          "nuid": "3d6fafbb-5f58-4dac-935d-53cee7005b15",
          "showTitle": false,
          "title": ""
        },
        "id": "JNrwgfnszvSn"
      },
      "source": [
        "<h2 id=\"escape\">Secuencias de Escape</h2>"
      ]
    },
    {
      "cell_type": "markdown",
      "metadata": {
        "application/vnd.databricks.v1+cell": {
          "inputWidgets": {},
          "nuid": "c9b105cd-5a60-4dc0-895d-d44babb45a58",
          "showTitle": false,
          "title": ""
        },
        "id": "cOUKqOoTzvSn"
      },
      "source": [
        "Una barra invertida representa el inicio de una secuencia de escape. Estas representan cadenas que pudieran ser difíciles de introducir. Por ejemplo, una barra invertida seguida de una \"n\" representa un salto de línea. En la salida de pantalla tendremos un salto de línea cada vez que una barra invertida y la letra \"n\" sea encontrada."
      ]
    },
    {
      "cell_type": "code",
      "execution_count": null,
      "metadata": {
        "application/vnd.databricks.v1+cell": {
          "inputWidgets": {},
          "nuid": "6c7578ab-35cd-4edc-8316-6a5bc0ddb17e",
          "showTitle": false,
          "title": ""
        },
        "colab": {
          "base_uri": "https://localhost:8080/"
        },
        "id": "Y33n0tSizvSo",
        "outputId": "13ffd703-6efa-49e6-8d24-5ccfabdaa7e8"
      },
      "outputs": [
        {
          "output_type": "stream",
          "name": "stdout",
          "text": [
            " Michael Jackson \n",
            " is the best\n"
          ]
        }
      ],
      "source": [
        "# Secuencia de escape para un Salto de línea\n",
        "\n",
        "print(\" Michael Jackson \\n is the best\" )"
      ]
    },
    {
      "cell_type": "markdown",
      "metadata": {
        "application/vnd.databricks.v1+cell": {
          "inputWidgets": {},
          "nuid": "6b374585-947b-44e0-992b-365e5327e30b",
          "showTitle": false,
          "title": ""
        },
        "id": "qY8YE2Y_zvSo"
      },
      "source": [
        "De igual forma, barra invertida \"t\" aplicará un espacio de tabulación:"
      ]
    },
    {
      "cell_type": "code",
      "execution_count": null,
      "metadata": {
        "application/vnd.databricks.v1+cell": {
          "inputWidgets": {},
          "nuid": "84df098e-dd52-4542-adef-519de5c326d3",
          "showTitle": false,
          "title": ""
        },
        "colab": {
          "base_uri": "https://localhost:8080/"
        },
        "id": "j-NxyjLpzvSo",
        "outputId": "195aa5f2-a089-461f-dd98-d2db6518c4bd"
      },
      "outputs": [
        {
          "output_type": "stream",
          "name": "stdout",
          "text": [
            " Michael Jackson \t is the best\n"
          ]
        }
      ],
      "source": [
        "# Secuencia de escape para un espacio de tabulación\n",
        "\n",
        "print(\" Michael Jackson \\t is the best\" )"
      ]
    },
    {
      "cell_type": "markdown",
      "metadata": {
        "application/vnd.databricks.v1+cell": {
          "inputWidgets": {},
          "nuid": "5ef8b346-82cd-4bdc-8b5b-8001e827e6f1",
          "showTitle": false,
          "title": ""
        },
        "id": "3vZ-vkKMzvSp"
      },
      "source": [
        "En caso de quieras que una barra invertida forme parte de una cadena, utiliza una doble barra invertida:"
      ]
    },
    {
      "cell_type": "code",
      "execution_count": null,
      "metadata": {
        "application/vnd.databricks.v1+cell": {
          "inputWidgets": {},
          "nuid": "677d6591-409e-4b00-86f6-1f5233f4eef4",
          "showTitle": false,
          "title": ""
        },
        "colab": {
          "base_uri": "https://localhost:8080/"
        },
        "id": "Pw5CFNjTzvSp",
        "outputId": "ca563837-421d-4982-a6ef-fb8de0d00652"
      },
      "outputs": [
        {
          "output_type": "stream",
          "name": "stdout",
          "text": [
            " Michael Jackson \\ is the best\n"
          ]
        }
      ],
      "source": [
        "# Incluir una barra invertida en una cadena\n",
        "\n",
        "print(\" Michael Jackson \\\\ is the best\" )"
      ]
    },
    {
      "cell_type": "markdown",
      "metadata": {
        "application/vnd.databricks.v1+cell": {
          "inputWidgets": {},
          "nuid": "540604f1-e9ef-4bcf-959c-20ba8ffd67c7",
          "showTitle": false,
          "title": ""
        },
        "id": "zuVMj9V9zvSp"
      },
      "source": [
        "Otra forma de hacer que se muestre la barra invertida de una cadena es colocando antes una “r”:"
      ]
    },
    {
      "cell_type": "code",
      "execution_count": null,
      "metadata": {
        "application/vnd.databricks.v1+cell": {
          "inputWidgets": {},
          "nuid": "3c299dd8-0c47-4f4b-9642-028300059880",
          "showTitle": false,
          "title": ""
        },
        "colab": {
          "base_uri": "https://localhost:8080/"
        },
        "id": "sb40kWmzzvSq",
        "outputId": "0e5874bb-f86d-4073-eb97-bc76e7b4cca6"
      },
      "outputs": [
        {
          "output_type": "stream",
          "name": "stdout",
          "text": [
            " Michael Jackson \\ is the best\n"
          ]
        }
      ],
      "source": [
        "# La letra r le dirá a python que muestre la cadena tal cual e ignore lo que haya despues de la barra invertida\n",
        "\n",
        "print(r\" Michael Jackson \\ is the best\" )"
      ]
    },
    {
      "cell_type": "markdown",
      "metadata": {
        "application/vnd.databricks.v1+cell": {
          "inputWidgets": {},
          "nuid": "aa0de817-641b-4893-a0ab-e0b7f66b5fbc",
          "showTitle": false,
          "title": ""
        },
        "id": "m3GnhbTuzvSq"
      },
      "source": [
        "<h2 id=\"operations\">Operaciones con Cadenas</h2>"
      ]
    },
    {
      "cell_type": "markdown",
      "metadata": {
        "application/vnd.databricks.v1+cell": {
          "inputWidgets": {},
          "nuid": "e9eb402f-2691-460d-a980-7d7e3ec1c89c",
          "showTitle": false,
          "title": ""
        },
        "id": "0k03r8j0zvSq"
      },
      "source": [
        "En Python existen muchos métodos para hacer operaciones con cadenas que pueden ser usados para manipular datos. Usaremos algunas operaciones básicas con cadenas."
      ]
    },
    {
      "cell_type": "markdown",
      "metadata": {
        "application/vnd.databricks.v1+cell": {
          "inputWidgets": {},
          "nuid": "17ffb4f6-e366-4b3e-9d21-a39d62b8f23c",
          "showTitle": false,
          "title": ""
        },
        "id": "WVUzg2nqzvSr"
      },
      "source": [
        "Usemos ahora el método <code>upper</code>; este método convierte los caracteres de minúsculas a mayúsculas:"
      ]
    },
    {
      "cell_type": "code",
      "execution_count": null,
      "metadata": {
        "application/vnd.databricks.v1+cell": {
          "inputWidgets": {},
          "nuid": "05622a9b-5c39-4f3c-9e47-734de5018ce4",
          "showTitle": false,
          "title": ""
        },
        "colab": {
          "base_uri": "https://localhost:8080/"
        },
        "id": "OUzoBlGSzvSr",
        "outputId": "8a651e24-2489-4b9f-acad-ecb92fba86bf"
      },
      "outputs": [
        {
          "output_type": "stream",
          "name": "stdout",
          "text": [
            "before upper: Thriller is the sixth studio album\n",
            "After upper: THRILLER IS THE SIXTH STUDIO ALBUM\n"
          ]
        }
      ],
      "source": [
        "# Convertir todos los caracteres de la cadena en mayúsculas\n",
        "\n",
        "A = \"Thriller is the sixth studio album\"\n",
        "print(\"before upper:\", A)\n",
        "B = A.upper()\n",
        "print(\"After upper:\", B)"
      ]
    },
    {
      "cell_type": "markdown",
      "metadata": {
        "application/vnd.databricks.v1+cell": {
          "inputWidgets": {},
          "nuid": "dc45b42d-0846-4696-abc9-e99a68b2e1be",
          "showTitle": false,
          "title": ""
        },
        "id": "LxNlRENSzvSr"
      },
      "source": [
        "El método <code>replace</code> reemplaza un segmento de la cadena, p.ej. una sub-cadena por una nueva. Introducimos primero la parte de la cadena que queremos cambiar. En el segundo argumento pondremos el segmento que reemplazara al anterior, el resultado será una nueva cadena con una de sus partes modificada:"
      ]
    },
    {
      "cell_type": "code",
      "execution_count": null,
      "metadata": {
        "application/vnd.databricks.v1+cell": {
          "inputWidgets": {},
          "nuid": "8d0cdb35-4a72-42d7-a5d9-047a3daad3d4",
          "showTitle": false,
          "title": ""
        },
        "colab": {
          "base_uri": "https://localhost:8080/",
          "height": 36
        },
        "id": "4CiD6kaezvSt",
        "outputId": "4ceda520-143f-49bc-dfd5-7cc38491b64b"
      },
      "outputs": [
        {
          "output_type": "execute_result",
          "data": {
            "text/plain": [
              "'Janet Jackson is the best'"
            ],
            "application/vnd.google.colaboratory.intrinsic+json": {
              "type": "string"
            }
          },
          "metadata": {},
          "execution_count": 25
        }
      ],
      "source": [
        "# Reemplazar la vieja sub-cadena por una nueva\n",
        "\n",
        "A = \"Michael Jackson is the best\"\n",
        "B = A.replace('Michael', 'Janet')\n",
        "B"
      ]
    },
    {
      "cell_type": "markdown",
      "metadata": {
        "application/vnd.databricks.v1+cell": {
          "inputWidgets": {},
          "nuid": "b3577d50-6516-4fbf-8d4d-01639fc55e2f",
          "showTitle": false,
          "title": ""
        },
        "id": "T4H0AtXyzvSu"
      },
      "source": [
        "La función del método <code>find</code> es encontrar una sub-cadena. El argumento del método es la sub-cadena que deseas encontrar, y el resultado será el numero del índice perteneciente al primer carácter de la sub-cadena. Podemos encontrar la sub-cadena <code>jack</code> o <code>el</code>."
      ]
    },
    {
      "cell_type": "markdown",
      "metadata": {
        "application/vnd.databricks.v1+cell": {
          "inputWidgets": {},
          "nuid": "bd08cea0-0d32-4dee-a7f6-82e927a03bff",
          "showTitle": false,
          "title": ""
        },
        "id": "YW4CkYunzvSu"
      },
      "source": [
        "<img src=\"https://s3-api.us-geo.objectstorage.softlayer.net/cf-courses-data/CognitiveClass/PY0101EN/Chapter%201/Images/StringsFind.png\" width=\"600\" align=\"center\" />"
      ]
    },
    {
      "cell_type": "code",
      "execution_count": null,
      "metadata": {
        "application/vnd.databricks.v1+cell": {
          "inputWidgets": {},
          "nuid": "c28dcd0f-71bb-4c4a-bc7b-46e94156ff92",
          "showTitle": false,
          "title": ""
        },
        "colab": {
          "base_uri": "https://localhost:8080/"
        },
        "id": "sDjq1y1MzvSu",
        "outputId": "2bf1b2d2-fabd-4cd4-dc43-b4dce5ee989d"
      },
      "outputs": [
        {
          "output_type": "execute_result",
          "data": {
            "text/plain": [
              "5"
            ]
          },
          "metadata": {},
          "execution_count": 26
        }
      ],
      "source": [
        "# Encontrar la sub-cadena. El resultado será unicamente el índice del primer elemente de la sub-cadena dentro de la cadena principal.\n",
        "\n",
        "Name = \"Michael Jackson\"\n",
        "Name.find('el')"
      ]
    },
    {
      "cell_type": "code",
      "execution_count": null,
      "metadata": {
        "application/vnd.databricks.v1+cell": {
          "inputWidgets": {},
          "nuid": "da2dc5bb-48b0-46d6-a5d6-c915ec0ab6e0",
          "showTitle": false,
          "title": ""
        },
        "colab": {
          "base_uri": "https://localhost:8080/"
        },
        "id": "k28ia25zzvSu",
        "outputId": "600e83ed-5dc0-4358-87bc-5869b4d0e26d"
      },
      "outputs": [
        {
          "output_type": "execute_result",
          "data": {
            "text/plain": [
              "8"
            ]
          },
          "metadata": {},
          "execution_count": 27
        }
      ],
      "source": [
        "# Encotrar la sub-cadena dentro de la cadena.\n",
        "\n",
        "Name.find('Jack')"
      ]
    },
    {
      "cell_type": "markdown",
      "metadata": {
        "application/vnd.databricks.v1+cell": {
          "inputWidgets": {},
          "nuid": "804d4f0e-acdc-4bba-bda1-49b2fb040bbd",
          "showTitle": false,
          "title": ""
        },
        "id": "oNN9r4GYzvSv"
      },
      "source": [
        "Si la sub-cadena no se encuentra en la cadena principal el resultado será -1. Por ejemplo, la cadena 'Jasdfasdasdf' no es una sub-cadena:"
      ]
    },
    {
      "cell_type": "code",
      "execution_count": null,
      "metadata": {
        "application/vnd.databricks.v1+cell": {
          "inputWidgets": {},
          "nuid": "70870236-7a8c-456c-b2e4-6f7bb79f8cb3",
          "showTitle": false,
          "title": ""
        },
        "collapsed": true,
        "colab": {
          "base_uri": "https://localhost:8080/"
        },
        "id": "k-ofzszDzvSx",
        "outputId": "9e25c204-d80e-4430-c2cd-2f3d5ddb3570"
      },
      "outputs": [
        {
          "output_type": "execute_result",
          "data": {
            "text/plain": [
              "-1"
            ]
          },
          "metadata": {},
          "execution_count": 28
        }
      ],
      "source": [
        "# Si no se encuentra la sub-cadena en la cadena principal\n",
        "\n",
        "Name.find('Jasdfasdasdf')"
      ]
    },
    {
      "cell_type": "markdown",
      "metadata": {
        "application/vnd.databricks.v1+cell": {
          "inputWidgets": {},
          "nuid": "8cfcb624-f5f8-4433-b094-7ad339e9d7ae",
          "showTitle": false,
          "title": ""
        },
        "id": "syKZ7iH1zvSx"
      },
      "source": [
        "<h2 id=\"quiz\">Exámen sobre Cadenas</h2>"
      ]
    },
    {
      "cell_type": "markdown",
      "metadata": {
        "application/vnd.databricks.v1+cell": {
          "inputWidgets": {},
          "nuid": "8cac69a8-c656-4388-8e47-091031ce304e",
          "showTitle": false,
          "title": ""
        },
        "id": "lRC8hnX7zvSx"
      },
      "source": [
        "¿Cual es el valor de la variable <code>A</code> después de ejecutar el siguiente código?"
      ]
    },
    {
      "cell_type": "code",
      "execution_count": null,
      "metadata": {
        "application/vnd.databricks.v1+cell": {
          "inputWidgets": {},
          "nuid": "ddb3b91a-cb39-4ff4-a4a3-dedfe6fb5ed9",
          "showTitle": false,
          "title": ""
        },
        "id": "CFwXyGRdzvSx"
      },
      "outputs": [],
      "source": [
        "# Escribe abajo tu código y presiona Shift+Enter para ejecutarlo\n",
        "\n",
        "A = \"1\""
      ]
    },
    {
      "cell_type": "markdown",
      "metadata": {
        "application/vnd.databricks.v1+cell": {
          "inputWidgets": {},
          "nuid": "811acc28-880a-442e-875c-13b1437ec777",
          "showTitle": false,
          "title": ""
        },
        "id": "IUNMZwMQzvSy"
      },
      "source": [
        "**Respuesta** :\n",
        "\n",
        "El valor que le corresponderia a la letra A despues de ejecutar el anterior codigo es 1"
      ]
    },
    {
      "cell_type": "markdown",
      "metadata": {
        "application/vnd.databricks.v1+cell": {
          "inputWidgets": {},
          "nuid": "4a2b11b3-7994-4d9c-9c9c-fe09ff58516e",
          "showTitle": false,
          "title": ""
        },
        "id": "eLp2pfbvzvSy"
      },
      "source": [
        "¿Cual es el valor de la variable <code>B</code> después de ejecutar el siguiente código?"
      ]
    },
    {
      "cell_type": "code",
      "execution_count": null,
      "metadata": {
        "application/vnd.databricks.v1+cell": {
          "inputWidgets": {},
          "nuid": "b7b54f58-f3b7-4e87-bbe9-84fa5ef80eb7",
          "showTitle": false,
          "title": ""
        },
        "collapsed": true,
        "id": "92G0rnTozvSy"
      },
      "outputs": [],
      "source": [
        "# Escribe abajo tu código y presiona Shift+Enter para ejecutarlo\n",
        "\n",
        "B = \"2\""
      ]
    },
    {
      "cell_type": "markdown",
      "metadata": {
        "application/vnd.databricks.v1+cell": {
          "inputWidgets": {},
          "nuid": "e23964d1-cdac-43c4-ac42-855cc74f0eba",
          "showTitle": false,
          "title": ""
        },
        "id": "jvOSZUH_zvSy"
      },
      "source": [
        "**Respuesta** :\n",
        "\n",
        "El valor que le corresponderia a la letra B despues de ejecutar el anterior codigo es 2"
      ]
    },
    {
      "cell_type": "markdown",
      "metadata": {
        "application/vnd.databricks.v1+cell": {
          "inputWidgets": {},
          "nuid": "956a96c3-9fdd-45bf-95f4-3bb6b019a3be",
          "showTitle": false,
          "title": ""
        },
        "id": "AWWKkd8jzvSy"
      },
      "source": [
        "¿Cual es el valor de la variable <code>C</code> después de ejecutar el siguiente código?"
      ]
    },
    {
      "cell_type": "code",
      "execution_count": null,
      "metadata": {
        "application/vnd.databricks.v1+cell": {
          "inputWidgets": {},
          "nuid": "33186c3e-73c4-4983-ad57-127675d91e4b",
          "showTitle": false,
          "title": ""
        },
        "id": "QdrreaN0zvSy"
      },
      "outputs": [],
      "source": [
        "# Escribe abajo tu código y presiona Shift+Enter para ejecutarlo\n",
        "\n",
        "C = A + B"
      ]
    },
    {
      "cell_type": "markdown",
      "metadata": {
        "application/vnd.databricks.v1+cell": {
          "inputWidgets": {},
          "nuid": "b703193a-ff7c-4bf2-8c03-c814e4cf9f3a",
          "showTitle": false,
          "title": ""
        },
        "id": "hvWZqAmGzvSz"
      },
      "source": [
        "**Respuesta** :\n",
        "\n",
        "El valor que le corresponderia a la letra C despues de ejecutar el anterior codigo es 12, ya que al ser asignadas como string no se hace una operacion aritmetica, sino que en su lugar se pone un numero al lado del otro"
      ]
    },
    {
      "cell_type": "markdown",
      "metadata": {
        "application/vnd.databricks.v1+cell": {
          "inputWidgets": {},
          "nuid": "1ed60bff-748e-4c67-8307-04520da43b97",
          "showTitle": false,
          "title": ""
        },
        "id": "pwpvYtBMzvSz"
      },
      "source": [
        "En la variable <code>D</code> haz uso del slicing para imprimir solo los primeros tres elementos:"
      ]
    },
    {
      "cell_type": "code",
      "execution_count": null,
      "metadata": {
        "application/vnd.databricks.v1+cell": {
          "inputWidgets": {},
          "nuid": "0bbc3088-0e6a-4ef3-ae51-f776a7f079ad",
          "showTitle": false,
          "title": ""
        },
        "id": "AgXgAcUwzvS0",
        "colab": {
          "base_uri": "https://localhost:8080/"
        },
        "outputId": "ffe473e1-4b94-41c7-b2bb-3c067bf7b71f"
      },
      "outputs": [
        {
          "output_type": "stream",
          "name": "stdout",
          "text": [
            "ABC\n"
          ]
        }
      ],
      "source": [
        "# Escribe abajo tu código y presiona Shift+Enter para ejecutarlo\n",
        "\n",
        "D = \"ABCDEFG\"\n",
        "print(D[0:3])"
      ]
    },
    {
      "cell_type": "markdown",
      "metadata": {
        "application/vnd.databricks.v1+cell": {
          "inputWidgets": {},
          "nuid": "a13e5374-233c-4bd8-98c7-68393522680a",
          "showTitle": false,
          "title": ""
        },
        "id": "Dv7Dk_V_zvS0"
      },
      "source": [
        "**Respuesta** :\n",
        "\n",
        "Se muestran los primeros 3 elementos de la variable D"
      ]
    },
    {
      "cell_type": "markdown",
      "metadata": {
        "application/vnd.databricks.v1+cell": {
          "inputWidgets": {},
          "nuid": "d4f53ebb-1961-48e4-9349-1a1cb3ed43ac",
          "showTitle": false,
          "title": ""
        },
        "id": "5hX4fj2SzvS0"
      },
      "source": [
        "Usa un valor de stride de 2 para imprimir cada segundo elemento de la cadena <code>E</code>:"
      ]
    },
    {
      "cell_type": "code",
      "execution_count": null,
      "metadata": {
        "application/vnd.databricks.v1+cell": {
          "inputWidgets": {},
          "nuid": "f317b44a-0374-4bce-a3bc-6b0d29a1c342",
          "showTitle": false,
          "title": ""
        },
        "collapsed": true,
        "id": "gqgaGA9VzvS1",
        "colab": {
          "base_uri": "https://localhost:8080/"
        },
        "outputId": "50903253-9d82-4db9-8573-3098c3a0a547"
      },
      "outputs": [
        {
          "output_type": "stream",
          "name": "stdout",
          "text": [
            "correct\n"
          ]
        }
      ],
      "source": [
        "# Escribe abajo tu código y presiona Shift+Enter para ejecutarlo\n",
        "\n",
        "E = 'clocrkr1e1c1t'\n",
        "print(E[::2])"
      ]
    },
    {
      "cell_type": "markdown",
      "metadata": {
        "application/vnd.databricks.v1+cell": {
          "inputWidgets": {},
          "nuid": "4e105545-8319-47d1-922f-eac36fe75143",
          "showTitle": false,
          "title": ""
        },
        "id": "sIPDk6cYzvS1"
      },
      "source": [
        "**Respuesta** :\n",
        "\n",
        "Se muestra como quedaria el contenido de la variable E si se saltaran cada 2 letras"
      ]
    },
    {
      "cell_type": "markdown",
      "metadata": {
        "application/vnd.databricks.v1+cell": {
          "inputWidgets": {},
          "nuid": "2169c64c-7206-4937-a581-0526a875b9d9",
          "showTitle": false,
          "title": ""
        },
        "id": "EL3uYlHzzvS1"
      },
      "source": [
        "Imprime una barra invertida:"
      ]
    },
    {
      "cell_type": "code",
      "execution_count": null,
      "metadata": {
        "application/vnd.databricks.v1+cell": {
          "inputWidgets": {},
          "nuid": "87af61d8-086c-4ca5-8684-c5573bac909c",
          "showTitle": false,
          "title": ""
        },
        "id": "y5oVwsLLzvS1",
        "colab": {
          "base_uri": "https://localhost:8080/"
        },
        "outputId": "145473d7-1c37-4204-ce0f-dba75c82f618"
      },
      "outputs": [
        {
          "output_type": "stream",
          "name": "stdout",
          "text": [
            " \\ \n"
          ]
        }
      ],
      "source": [
        "# Escribe abajo tu código y presiona Shift+Enter para ejecutarlo\n",
        "print(r\" \\ \")"
      ]
    },
    {
      "cell_type": "markdown",
      "metadata": {
        "application/vnd.databricks.v1+cell": {
          "inputWidgets": {},
          "nuid": "30b509f5-df31-4eff-8534-2604cf6405b1",
          "showTitle": false,
          "title": ""
        },
        "id": "bdf8eI2lzvS2"
      },
      "source": [
        "Imprime una barra invertida"
      ]
    },
    {
      "cell_type": "markdown",
      "metadata": {
        "application/vnd.databricks.v1+cell": {
          "inputWidgets": {},
          "nuid": "6814f6cf-b035-4461-b318-7d7471cbcf94",
          "showTitle": false,
          "title": ""
        },
        "id": "wKhPF-aRzvS2"
      },
      "source": [
        "Convierte en mayúsculas el contenido de la variable <code>F</code>:"
      ]
    },
    {
      "cell_type": "code",
      "execution_count": null,
      "metadata": {
        "application/vnd.databricks.v1+cell": {
          "inputWidgets": {},
          "nuid": "034ad3a9-1ef9-419d-9362-8fd0286e5f47",
          "showTitle": false,
          "title": ""
        },
        "id": "NJJOELxVzvS2",
        "colab": {
          "base_uri": "https://localhost:8080/",
          "height": 36
        },
        "outputId": "fd5df929-4610-40f6-f927-691ae8c41e3f"
      },
      "outputs": [
        {
          "output_type": "execute_result",
          "data": {
            "text/plain": [
              "'YOU ARE WRONG'"
            ],
            "application/vnd.google.colaboratory.intrinsic+json": {
              "type": "string"
            }
          },
          "metadata": {},
          "execution_count": 35
        }
      ],
      "source": [
        "# Escribe abajo tu código y presiona Shift+Enter para ejecutarlo\n",
        "\n",
        "F = \"You are wrong\"\n",
        "F.upper()"
      ]
    },
    {
      "cell_type": "markdown",
      "metadata": {
        "application/vnd.databricks.v1+cell": {
          "inputWidgets": {},
          "nuid": "59e29f55-1248-4d84-bcc5-e7fb01ef061f",
          "showTitle": false,
          "title": ""
        },
        "id": "2JsV8h5mzvS3"
      },
      "source": [
        "Respuesta :\n",
        "\n",
        "Se pone en mayuscula el contenido de la variable F usando la funcion mayuscula"
      ]
    },
    {
      "cell_type": "markdown",
      "metadata": {
        "application/vnd.databricks.v1+cell": {
          "inputWidgets": {},
          "nuid": "89af9572-7b2e-4344-b61b-e832bddb897c",
          "showTitle": false,
          "title": ""
        },
        "id": "_Ta6cBKJzvS3"
      },
      "source": [
        "En la variable <code>G</code>, encuentra el primer índice de la sub-cadena <code>snow</code>:"
      ]
    },
    {
      "cell_type": "code",
      "execution_count": null,
      "metadata": {
        "application/vnd.databricks.v1+cell": {
          "inputWidgets": {},
          "nuid": "721a128c-d297-4149-bbdd-646140d2dd59",
          "showTitle": false,
          "title": ""
        },
        "id": "XxtFMpDOzvS4",
        "colab": {
          "base_uri": "https://localhost:8080/"
        },
        "outputId": "f5f96ea9-b133-44af-af6e-4c65541a05f6"
      },
      "outputs": [
        {
          "output_type": "execute_result",
          "data": {
            "text/plain": [
              "95"
            ]
          },
          "metadata": {},
          "execution_count": 36
        }
      ],
      "source": [
        "# Escribe abajo tu código y presiona Shift+Enter para ejecutarlo\n",
        "\n",
        "G = \"Mary had a little lamb Little lamb, little lamb Mary had a little lamb \\\n",
        "Its fleece was white as snow And everywhere that Mary went Mary went, Mary went \\\n",
        "Everywhere that Mary went The lamb was sure to go\"\n",
        "\n",
        "G.find('snow')"
      ]
    },
    {
      "cell_type": "markdown",
      "metadata": {
        "application/vnd.databricks.v1+cell": {
          "inputWidgets": {},
          "nuid": "09d9aaf0-769c-4a99-b68f-79d063bc676c",
          "showTitle": false,
          "title": ""
        },
        "id": "Bn14YHX6zvS4"
      },
      "source": [
        "Respuesta :\n",
        "\n",
        "Se representa la posicion en la que se encuentra la primera letra de la palabra snow con la funcion encontrar, en este caso representa la posicion 95 que hace referencia a la primera letra de snow (s)"
      ]
    },
    {
      "cell_type": "markdown",
      "metadata": {
        "application/vnd.databricks.v1+cell": {
          "inputWidgets": {},
          "nuid": "157b212b-6b79-4fe4-9284-f9e0e1f3dcd1",
          "showTitle": false,
          "title": ""
        },
        "id": "VZnkzm4szvS4"
      },
      "source": [
        "En la variable <code>G</code>, reemplaza la sub-cadena <code>Mary</code> con <code>Bob</code>:"
      ]
    },
    {
      "cell_type": "code",
      "execution_count": null,
      "metadata": {
        "application/vnd.databricks.v1+cell": {
          "inputWidgets": {},
          "nuid": "ea8ee7aa-cedd-40c2-8d01-35f09d62109d",
          "showTitle": false,
          "title": ""
        },
        "id": "GbODIcOPzvS4",
        "colab": {
          "base_uri": "https://localhost:8080/",
          "height": 70
        },
        "outputId": "44ee89eb-f2f6-4f06-eea3-77f582b294e3"
      },
      "outputs": [
        {
          "output_type": "execute_result",
          "data": {
            "text/plain": [
              "'Bob had a little lamb Little lamb, little lamb Bob had a little lamb Its fleece was white as snow And everywhere that Bob went Bob went, Bob went Everywhere that Bob went The lamb was sure to go'"
            ],
            "application/vnd.google.colaboratory.intrinsic+json": {
              "type": "string"
            }
          },
          "metadata": {},
          "execution_count": 37
        }
      ],
      "source": [
        "# Escribe abajo tu código y presiona Shift+Enter para ejecutarlo\n",
        "\n",
        "G.replace('Mary', 'Bob')"
      ]
    },
    {
      "cell_type": "markdown",
      "metadata": {
        "application/vnd.databricks.v1+cell": {
          "inputWidgets": {},
          "nuid": "514790a0-22d4-4593-9c3a-09f88054b89e",
          "showTitle": false,
          "title": ""
        },
        "id": "PteQbnDFzvS5"
      },
      "source": [
        "Respuesta :\n",
        "\n",
        " Se reemplaza la palabra Mary por Bob en el texto usando la funcion remplazar"
      ]
    }
  ],
  "metadata": {
    "application/vnd.databricks.v1+notebook": {
      "dashboards": [],
      "language": "python",
      "notebookMetadata": {
        "pythonIndentUnit": 2
      },
      "notebookName": "01-Python-Cadenas",
      "notebookOrigID": 3377342904741170,
      "widgets": {}
    },
    "kernelspec": {
      "display_name": "Python 3",
      "language": "python",
      "name": "python3"
    },
    "language_info": {
      "codemirror_mode": {
        "name": "ipython",
        "version": 3
      },
      "file_extension": ".py",
      "mimetype": "text/x-python",
      "name": "python",
      "nbconvert_exporter": "python",
      "pygments_lexer": "ipython3",
      "version": "3.8.3"
    },
    "colab": {
      "provenance": []
    }
  },
  "nbformat": 4,
  "nbformat_minor": 0
}