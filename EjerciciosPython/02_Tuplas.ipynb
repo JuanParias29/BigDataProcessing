{
  "cells": [
    {
      "cell_type": "markdown",
      "source": [
        "<h1>Procesamiento de Datos a Gran Escala</h1>"
      ],
      "metadata": {
        "application/vnd.databricks.v1+cell": {
          "title": "",
          "showTitle": false,
          "inputWidgets": {},
          "nuid": "320ff141-a1e0-432a-bab5-f47660d62a1d"
        },
        "id": "bHqFr8-5MUU2"
      }
    },
    {
      "cell_type": "markdown",
      "source": [
        "\n",
        "# 📌 Portada\n",
        "\n",
        "**Curso:** Procesamiento de Big Data\n",
        "\n",
        "**Docente**: John Corredor Franco\n",
        "\n",
        "**Estudiante:** Juan Pablo Arias\n",
        "\n",
        " **ID**: 20524770\n",
        "\n",
        "**Carrera:** Ciencia de Datos"
      ],
      "metadata": {
        "id": "QEnGf9TzM4d7"
      }
    },
    {
      "cell_type": "markdown",
      "source": [
        "<h2>Tuplas en Python</h2>"
      ],
      "metadata": {
        "application/vnd.databricks.v1+cell": {
          "title": "",
          "showTitle": false,
          "inputWidgets": {},
          "nuid": "17ec22e7-5fd5-42ca-9dbc-1bb13ad1f5a4"
        },
        "id": "EAJjZdWvMUU4"
      }
    },
    {
      "cell_type": "markdown",
      "source": [
        "<p><strong>¡Bienvenido!</strong> En este cuaderno aprenderás sobre las tuplas en el Lenguaje de Programación Python. Al final de este laboratorio, conocerás lo básico sobre las operaciones con tuplas en Python, esto incluye la indexación, el slicing y la clasificación de las tuplas.</p>"
      ],
      "metadata": {
        "application/vnd.databricks.v1+cell": {
          "title": "",
          "showTitle": false,
          "inputWidgets": {},
          "nuid": "18a11793-afbd-41de-9cf8-ab0e32ab7c45"
        },
        "id": "bzVp5hjtMUU5"
      }
    },
    {
      "cell_type": "markdown",
      "source": [
        "<h2>Tabla de Contenido</h2>\n",
        "<div class=\"alert alert-block alert-info\" style=\"margin-top: 20px\">\n",
        "    <ul>\n",
        "        <li>\n",
        "            <a href=\"#dataset\">Acerca de los conjuntos de datos (Dataset)</a>\n",
        "        </li>\n",
        "        <li>\n",
        "            <a href=\"#tuple\">Tuplas</a>\n",
        "            <ul>\n",
        "                <li><a href=\"index\">Indexación</a></li>\n",
        "                <li><a href=\"slice\">Slicing (Sublistas)</a></li>\n",
        "                <li><a href=\"sort\">Ordenamiento</a></li>\n",
        "            </ul>\n",
        "        </li>\n",
        "        <li>\n",
        "            <a href=\"#escape\">Exámen sobre Tuplas</a>\n",
        "        </li>\n",
        "    </ul>\n",
        "    <p>\n",
        "        Tiempo Estimado: <strong>15 min</strong>\n",
        "    </p>\n",
        "</div>\n",
        "\n",
        "<hr>"
      ],
      "metadata": {
        "application/vnd.databricks.v1+cell": {
          "title": "",
          "showTitle": false,
          "inputWidgets": {},
          "nuid": "a86d6aba-3923-4952-84d6-fa5008d7ee01"
        },
        "id": "-RhTn2yuMUU5"
      }
    },
    {
      "cell_type": "markdown",
      "source": [
        "<h2 id=\"dataset\">Acerca de los conjuntos de datos (Dataset)</h2>"
      ],
      "metadata": {
        "application/vnd.databricks.v1+cell": {
          "title": "",
          "showTitle": false,
          "inputWidgets": {},
          "nuid": "8b496760-db6c-4c04-b746-857d04fed103"
        },
        "id": "-50o57SkMUU6"
      }
    },
    {
      "cell_type": "markdown",
      "source": [
        "Imagina que obtienes de tus amigos algunas recomendaciones sobre discos de música y las compilas en una tabla con información específica de cada disco.\n",
        "\n",
        "La tabla tiene una fila para cada disco y algunas columnas:\n",
        "\n",
        "- **artist** - Nombre del artista\n",
        "- **album** - Nombre del disco\n",
        "- **released_year** - Año de estreno\n",
        "- **length_min_sec** - Duración del disco (horas, minutos,segundos)\n",
        "- **genre** - Género del disco\n",
        "- **music_recording_sales_millions** - Ventas registradas (en millones de USD) on [SONG://DATABASE](https://cocl.us/hZvV8)\n",
        "- **claimed_sales_millions** - Ventas reportadas (en millones de USD) on [SONG://DATABASE](https://cocl.us/hZvV8)\n",
        "- **date_released** - Fecha del estreno\n",
        "- **soundtrack** - Indica si el disco pertenece a la banda sonora de alguna película (Y) o (N)\n",
        "- **rating_of_friends** - Indica la calificación de tus amigos del 1 al 10\n",
        "<br>\n",
        "<br>\n",
        "\n",
        "El conjunto de datos se muestra a continuación:\n",
        "\n",
        "<font size=\"1\">\n",
        "<table font-size:xx-small style=\"width:100%\">\n",
        "  <tr>\n",
        "    <th>Artist</th>\n",
        "    <th>Album</th>\n",
        "    <th>Released</th>\n",
        "    <th>Length</th>\n",
        "    <th>Genre</th>\n",
        "    <th>Music recording sales (millions)</th>\n",
        "    <th>Claimed sales (millions)</th>\n",
        "    <th>Released</th>\n",
        "    <th>Soundtrack</th>\n",
        "    <th>Rating (friends)</th>\n",
        "  </tr>\n",
        "  <tr>\n",
        "    <td>Michael Jackson</td>\n",
        "    <td>Thriller</td>\n",
        "    <td>1982</td>\n",
        "    <td>00:42:19</td>\n",
        "    <td>Pop, rock, R&B</td>\n",
        "    <td>46</td>\n",
        "    <td>65</td>\n",
        "    <td>30-Nov-82</td>\n",
        "    <td></td>\n",
        "    <td>10.0</td>\n",
        "  </tr>\n",
        "  <tr>\n",
        "    <td>AC/DC</td>\n",
        "    <td>Back in Black</td>\n",
        "    <td>1980</td>\n",
        "    <td>00:42:11</td>\n",
        "    <td>Hard rock</td>\n",
        "    <td>26.1</td>\n",
        "    <td>50</td>\n",
        "    <td>25-Jul-80</td>\n",
        "    <td></td>\n",
        "    <td>8.5</td>\n",
        "  </tr>\n",
        "    <tr>\n",
        "    <td>Pink Floyd</td>\n",
        "    <td>The Dark Side of the Moon</td>\n",
        "    <td>1973</td>\n",
        "    <td>00:42:49</td>\n",
        "    <td>Progressive rock</td>\n",
        "    <td>24.2</td>\n",
        "    <td>45</td>\n",
        "    <td>01-Mar-73</td>\n",
        "    <td></td>\n",
        "    <td>9.5</td>\n",
        "  </tr>\n",
        "    <tr>\n",
        "    <td>Whitney Houston</td>\n",
        "    <td>The Bodyguard</td>\n",
        "    <td>1992</td>\n",
        "    <td>00:57:44</td>\n",
        "    <td>Soundtrack/R&B, soul, pop</td>\n",
        "    <td>26.1</td>\n",
        "    <td>50</td>\n",
        "    <td>25-Jul-80</td>\n",
        "    <td>Y</td>\n",
        "    <td>7.0</td>\n",
        "  </tr>\n",
        "    <tr>\n",
        "    <td>Meat Loaf</td>\n",
        "    <td>Bat Out of Hell</td>\n",
        "    <td>1977</td>\n",
        "    <td>00:46:33</td>\n",
        "    <td>Hard rock, progressive rock</td>\n",
        "    <td>20.6</td>\n",
        "    <td>43</td>\n",
        "    <td>21-Oct-77</td>\n",
        "    <td></td>\n",
        "    <td>7.0</td>\n",
        "  </tr>\n",
        "    <tr>\n",
        "    <td>Eagles</td>\n",
        "    <td>Their Greatest Hits (1971-1975)</td>\n",
        "    <td>1976</td>\n",
        "    <td>00:43:08</td>\n",
        "    <td>Rock, soft rock, folk rock</td>\n",
        "    <td>32.2</td>\n",
        "    <td>42</td>\n",
        "    <td>17-Feb-76</td>\n",
        "    <td></td>\n",
        "    <td>9.5</td>\n",
        "  </tr>\n",
        "    <tr>\n",
        "    <td>Bee Gees</td>\n",
        "    <td>Saturday Night Fever</td>\n",
        "    <td>1977</td>\n",
        "    <td>1:15:54</td>\n",
        "    <td>Disco</td>\n",
        "    <td>20.6</td>\n",
        "    <td>40</td>\n",
        "    <td>15-Nov-77</td>\n",
        "    <td>Y</td>\n",
        "    <td>9.0</td>\n",
        "  </tr>\n",
        "    <tr>\n",
        "    <td>Fleetwood Mac</td>\n",
        "    <td>Rumours</td>\n",
        "    <td>1977</td>\n",
        "    <td>00:40:01</td>\n",
        "    <td>Soft rock</td>\n",
        "    <td>27.9</td>\n",
        "    <td>40</td>\n",
        "    <td>04-Feb-77</td>\n",
        "    <td></td>\n",
        "    <td>9.5</td>\n",
        "  </tr>\n",
        "</table></font>"
      ],
      "metadata": {
        "application/vnd.databricks.v1+cell": {
          "title": "",
          "showTitle": false,
          "inputWidgets": {},
          "nuid": "4494f54b-9a5f-442f-92cb-c2004858cf63"
        },
        "id": "oOzFNDcvMUU6"
      }
    },
    {
      "cell_type": "markdown",
      "source": [
        "<h2 id=\"tuple\">Tuplas</h2>"
      ],
      "metadata": {
        "application/vnd.databricks.v1+cell": {
          "title": "",
          "showTitle": false,
          "inputWidgets": {},
          "nuid": "81291df7-3c48-43bf-8113-9ca04926fb81"
        },
        "id": "-p_m5_3MMUU7"
      }
    },
    {
      "cell_type": "markdown",
      "source": [
        "En Python existen diferentes tipos de datos: cadenas, números enteros o decimales (float), etc. Todos estos tipos de datos pueden ser almacenados en una tupla como se indica a continuación:"
      ],
      "metadata": {
        "application/vnd.databricks.v1+cell": {
          "title": "",
          "showTitle": false,
          "inputWidgets": {},
          "nuid": "c8d3c308-3bc5-4c57-8846-34ebec5c416a"
        },
        "id": "8vMZ9ppwMUU8"
      }
    },
    {
      "cell_type": "markdown",
      "source": [
        "<img src=\"https://s3-api.us-geo.objectstorage.softlayer.net/cf-courses-data/CognitiveClass/PY0101EN/Chapter%202/Images/TuplesType.png\" width=\"750\" align=\"center\" />"
      ],
      "metadata": {
        "application/vnd.databricks.v1+cell": {
          "title": "",
          "showTitle": false,
          "inputWidgets": {},
          "nuid": "6cc9082c-8fdb-4e1f-bdb3-22a92ab22bce"
        },
        "id": "Z1_WiyVQMUU8"
      }
    },
    {
      "cell_type": "markdown",
      "source": [
        "Vamos a crear tu primera tupla compuesta de: una cadena, un entero y un número decimal."
      ],
      "metadata": {
        "application/vnd.databricks.v1+cell": {
          "title": "",
          "showTitle": false,
          "inputWidgets": {},
          "nuid": "489d122d-be0e-4377-91b8-62b32f2ffb01"
        },
        "id": "DPIGTzoWMUU8"
      }
    },
    {
      "cell_type": "code",
      "source": [
        "# Crear tu primera tupla\n",
        "\n",
        "tuple1=(1,2,3)\n",
        "tuple1"
      ],
      "metadata": {
        "jupyter": {
          "outputs_hidden": false
        },
        "application/vnd.databricks.v1+cell": {
          "title": "",
          "showTitle": false,
          "inputWidgets": {},
          "nuid": "a6d5cf99-b579-489a-ad7e-c9a03d32d618"
        },
        "colab": {
          "base_uri": "https://localhost:8080/"
        },
        "id": "DQwRInqLMUU8",
        "outputId": "a9396ed1-593b-4794-b77d-4da0ead56fd2"
      },
      "outputs": [
        {
          "output_type": "execute_result",
          "data": {
            "text/plain": [
              "(1, 2, 3)"
            ]
          },
          "metadata": {},
          "execution_count": 5
        }
      ],
      "execution_count": 5
    },
    {
      "cell_type": "markdown",
      "source": [
        "El tipo de dato almacenado en la variable es **tuple**."
      ],
      "metadata": {
        "application/vnd.databricks.v1+cell": {
          "title": "",
          "showTitle": false,
          "inputWidgets": {},
          "nuid": "af8cd245-0cd7-4343-acfa-6b240432c173"
        },
        "id": "a_SN10u4MUU9"
      }
    },
    {
      "cell_type": "code",
      "source": [
        "# Imprime el tipo de dato de la tupla\n",
        "\n",
        "type(tuple1)"
      ],
      "metadata": {
        "jupyter": {
          "outputs_hidden": false
        },
        "application/vnd.databricks.v1+cell": {
          "title": "",
          "showTitle": false,
          "inputWidgets": {},
          "nuid": "fe1fb2db-815a-4539-8049-7102a713fed5"
        },
        "colab": {
          "base_uri": "https://localhost:8080/"
        },
        "id": "l-j97jFWMUU9",
        "outputId": "6126ad1e-a369-4e47-cf20-f5e6097c6ae5"
      },
      "outputs": [
        {
          "output_type": "execute_result",
          "data": {
            "text/plain": [
              "tuple"
            ]
          },
          "metadata": {},
          "execution_count": 6
        }
      ],
      "execution_count": 6
    },
    {
      "cell_type": "markdown",
      "source": [
        "<h3 id=\"index\">Indexación</h3>"
      ],
      "metadata": {
        "application/vnd.databricks.v1+cell": {
          "title": "",
          "showTitle": false,
          "inputWidgets": {},
          "nuid": "27c8f0a0-40fd-4b1c-addd-ba1aaf792558"
        },
        "id": "1uiPnvDQMUU9"
      }
    },
    {
      "cell_type": "markdown",
      "source": [
        "Cada elemento dentro de la tupla puede ser accedido a través de su número de índice. La siguiente tabla representa la relación entre el número de índice y los elementos dentro de la tupla. Se puede obtener cada elemento escribiendo el nombre de la tupla seguido de corchetes conteniendo el número del índice:"
      ],
      "metadata": {
        "application/vnd.databricks.v1+cell": {
          "title": "",
          "showTitle": false,
          "inputWidgets": {},
          "nuid": "c6b30036-7ca1-48f9-bbbc-ea0a8c823264"
        },
        "id": "LYaOe8lwMUU9"
      }
    },
    {
      "cell_type": "markdown",
      "source": [
        "<img src=\"https://s3-api.us-geo.objectstorage.softlayer.net/cf-courses-data/CognitiveClass/PY0101EN/Chapter%202/Images/TuplesIndex.gif\" width=\"750\" align=\"center\">"
      ],
      "metadata": {
        "application/vnd.databricks.v1+cell": {
          "title": "",
          "showTitle": false,
          "inputWidgets": {},
          "nuid": "de267f5c-7822-473d-bea8-159ef6e1319b"
        },
        "id": "LdqYtrnPMUU9"
      }
    },
    {
      "cell_type": "markdown",
      "source": [
        "Podemos imprimir cada uno de los valores de la tupla:"
      ],
      "metadata": {
        "application/vnd.databricks.v1+cell": {
          "title": "",
          "showTitle": false,
          "inputWidgets": {},
          "nuid": "a72e0e29-8772-4f8f-b441-372f514f90e0"
        },
        "id": "fofakwz7MUU9"
      }
    },
    {
      "cell_type": "code",
      "source": [
        "# Imprimir la variable en cada índice\n",
        "\n",
        "print(tuple1[0])\n",
        "print(tuple1[1])\n",
        "print(tuple1[2])"
      ],
      "metadata": {
        "jupyter": {
          "outputs_hidden": false
        },
        "application/vnd.databricks.v1+cell": {
          "title": "",
          "showTitle": false,
          "inputWidgets": {},
          "nuid": "bd1621ae-6436-4df4-9958-cca5b36334d8"
        },
        "colab": {
          "base_uri": "https://localhost:8080/"
        },
        "id": "YIUlDaH-MUU9",
        "outputId": "46a8ad29-554c-44d9-d536-d97c86e158db"
      },
      "outputs": [
        {
          "output_type": "stream",
          "name": "stdout",
          "text": [
            "1\n",
            "2\n",
            "3\n"
          ]
        }
      ],
      "execution_count": 7
    },
    {
      "cell_type": "markdown",
      "source": [
        "Podemos imprimir el **tipo** de cada uno de los valores de la tupla:"
      ],
      "metadata": {
        "application/vnd.databricks.v1+cell": {
          "title": "",
          "showTitle": false,
          "inputWidgets": {},
          "nuid": "bfa7586f-d2ee-438d-b4e3-8d19d1e2f4b2"
        },
        "id": "6r9djCzFMUU-"
      }
    },
    {
      "cell_type": "code",
      "source": [
        "# Imprimir el tipo de valor de cada uno de los índices\n",
        "\n",
        "print(type(tuple1[0]))\n",
        "print(type(tuple1[1]))\n",
        "print(type(tuple1[2]))"
      ],
      "metadata": {
        "jupyter": {
          "outputs_hidden": false
        },
        "application/vnd.databricks.v1+cell": {
          "title": "",
          "showTitle": false,
          "inputWidgets": {},
          "nuid": "1bb006c1-fe68-4533-afdb-538b76f98668"
        },
        "colab": {
          "base_uri": "https://localhost:8080/"
        },
        "id": "mDjcdtM9MUU-",
        "outputId": "7aa49ac9-cd0b-4377-98c0-cc18d9898e45"
      },
      "outputs": [
        {
          "output_type": "stream",
          "name": "stdout",
          "text": [
            "<class 'int'>\n",
            "<class 'int'>\n",
            "<class 'int'>\n"
          ]
        }
      ],
      "execution_count": 8
    },
    {
      "cell_type": "markdown",
      "source": [
        "También podemos usar números de índice negativos. Vamos a usar la misma tabla de arriba con su correspondiente valor negativo:"
      ],
      "metadata": {
        "application/vnd.databricks.v1+cell": {
          "title": "",
          "showTitle": false,
          "inputWidgets": {},
          "nuid": "0b388290-d409-4bd1-ab56-90639c2d4fe8"
        },
        "id": "WYF4-T8cMUU-"
      }
    },
    {
      "cell_type": "markdown",
      "source": [
        "<img src=\"https://s3-api.us-geo.objectstorage.softlayer.net/cf-courses-data/CognitiveClass/PY0101EN/Chapter%202/Images/TuplesNeg.png\" width=\"750\" align=\"center\">"
      ],
      "metadata": {
        "application/vnd.databricks.v1+cell": {
          "title": "",
          "showTitle": false,
          "inputWidgets": {},
          "nuid": "3913af14-308e-4822-b85a-562aed74f62d"
        },
        "id": "8vgLPjcKMUU-"
      }
    },
    {
      "cell_type": "markdown",
      "source": [
        "Obtenemos el ultimo elemento de la siguiente forma (en esta ocasión no usaremos la sentencia print para mostrar los valores en pantalla):"
      ],
      "metadata": {
        "application/vnd.databricks.v1+cell": {
          "title": "",
          "showTitle": false,
          "inputWidgets": {},
          "nuid": "25fc0fb5-2202-4008-ada3-438eb3fe472b"
        },
        "id": "7PLxj88lMUU-"
      }
    },
    {
      "cell_type": "code",
      "source": [
        "# Usar un valor negativo en el índice para obtener el valor del último elemento\n",
        "\n",
        "tuple1[-1]"
      ],
      "metadata": {
        "jupyter": {
          "outputs_hidden": false
        },
        "application/vnd.databricks.v1+cell": {
          "title": "",
          "showTitle": false,
          "inputWidgets": {},
          "nuid": "28831d43-39a4-4412-84f4-505868307a7d"
        },
        "colab": {
          "base_uri": "https://localhost:8080/"
        },
        "id": "eSBYI3S0MUU-",
        "outputId": "4117db40-2469-498b-c2bb-d83df11254a2"
      },
      "outputs": [
        {
          "output_type": "execute_result",
          "data": {
            "text/plain": [
              "3"
            ]
          },
          "metadata": {},
          "execution_count": 9
        }
      ],
      "execution_count": 9
    },
    {
      "cell_type": "markdown",
      "source": [
        "Podemos mostrar en pantalla los siguientes dos elementos de la siguiente forma:"
      ],
      "metadata": {
        "application/vnd.databricks.v1+cell": {
          "title": "",
          "showTitle": false,
          "inputWidgets": {},
          "nuid": "4e5a003c-6d0e-4c4d-9759-2e3525a9b277"
        },
        "id": "Qxwp3JK8MUU-"
      }
    },
    {
      "cell_type": "code",
      "source": [
        "# Usar un valor negativo en el índice para obtener el valor del penúltimo elemento\n",
        "\n",
        "tuple1[-2]"
      ],
      "metadata": {
        "jupyter": {
          "outputs_hidden": false
        },
        "application/vnd.databricks.v1+cell": {
          "title": "",
          "showTitle": false,
          "inputWidgets": {},
          "nuid": "66ecb0a7-e227-4d25-af73-43e785d841cb"
        },
        "colab": {
          "base_uri": "https://localhost:8080/"
        },
        "id": "DCHkTKf2MUU-",
        "outputId": "9827a18f-7cc7-4aa5-db0b-0d03943e00e6"
      },
      "outputs": [
        {
          "output_type": "execute_result",
          "data": {
            "text/plain": [
              "2"
            ]
          },
          "metadata": {},
          "execution_count": 10
        }
      ],
      "execution_count": 10
    },
    {
      "cell_type": "code",
      "source": [
        "# Usar un valor negativo en el índice para obtener el valor del antepenúltimo elemento\n",
        "\n",
        "tuple1[-3]"
      ],
      "metadata": {
        "jupyter": {
          "outputs_hidden": false
        },
        "application/vnd.databricks.v1+cell": {
          "title": "",
          "showTitle": false,
          "inputWidgets": {},
          "nuid": "2beeff0e-a346-4e03-b477-90e84e7ebb7e"
        },
        "colab": {
          "base_uri": "https://localhost:8080/"
        },
        "id": "eAC5HUNqMUU-",
        "outputId": "14ea89ce-5736-4366-97e5-9659ea74ca29"
      },
      "outputs": [
        {
          "output_type": "execute_result",
          "data": {
            "text/plain": [
              "1"
            ]
          },
          "metadata": {},
          "execution_count": 11
        }
      ],
      "execution_count": 11
    },
    {
      "cell_type": "markdown",
      "source": [
        "<h3 id=\"concate\">Concatenación de Tuplas</h3>"
      ],
      "metadata": {
        "application/vnd.databricks.v1+cell": {
          "title": "",
          "showTitle": false,
          "inputWidgets": {},
          "nuid": "76b7fe53-cdaf-40ce-b00e-fd59e52faed4"
        },
        "id": "k5h6nH98MUU-"
      }
    },
    {
      "cell_type": "markdown",
      "source": [
        "Podemos concatenar o combinar tuplas utilizando el signo **+**:"
      ],
      "metadata": {
        "application/vnd.databricks.v1+cell": {
          "title": "",
          "showTitle": false,
          "inputWidgets": {},
          "nuid": "3925bfeb-8a32-4146-8b38-367ad355c81e"
        },
        "id": "5X_B-wJ_MUU-"
      }
    },
    {
      "cell_type": "code",
      "source": [
        "# Concatenar dos tuplas\n",
        "\n",
        "tuple2 = tuple1 + (\"hard rock\", 10)\n",
        "tuple2"
      ],
      "metadata": {
        "jupyter": {
          "outputs_hidden": false
        },
        "application/vnd.databricks.v1+cell": {
          "title": "",
          "showTitle": false,
          "inputWidgets": {},
          "nuid": "cb6b0947-1b0f-4014-ad3d-6ad0309ea8d0"
        },
        "colab": {
          "base_uri": "https://localhost:8080/"
        },
        "id": "8QkD8mKLMUU-",
        "outputId": "c89e6cbc-fb18-4663-c114-b4dcedbc7283"
      },
      "outputs": [
        {
          "output_type": "execute_result",
          "data": {
            "text/plain": [
              "(1, 2, 3, 'hard rock', 10)"
            ]
          },
          "metadata": {},
          "execution_count": 12
        }
      ],
      "execution_count": 12
    },
    {
      "cell_type": "markdown",
      "source": [
        "Podemos subdividir (slice) una tupla y obtener múltiples valores como se muestra en la siguiente imagen:"
      ],
      "metadata": {
        "application/vnd.databricks.v1+cell": {
          "title": "",
          "showTitle": false,
          "inputWidgets": {},
          "nuid": "16172976-5ff5-41e9-ae73-233ef6b16a47"
        },
        "id": "cvTajlJ1MUU_"
      }
    },
    {
      "cell_type": "markdown",
      "source": [
        "<img src=\"https://s3-api.us-geo.objectstorage.softlayer.net/cf-courses-data/CognitiveClass/PY0101EN/Chapter%202/Images/TuplesSlice.gif\" width=\"750\" align=\"center\">"
      ],
      "metadata": {
        "application/vnd.databricks.v1+cell": {
          "title": "",
          "showTitle": false,
          "inputWidgets": {},
          "nuid": "2d39f26d-d470-4237-8066-ad5414d3be3d"
        },
        "id": "5wk_omZDMUU_"
      }
    },
    {
      "cell_type": "markdown",
      "source": [
        "<h3 id=\"slice\">Slicing (Sublistas)</h3>"
      ],
      "metadata": {
        "application/vnd.databricks.v1+cell": {
          "title": "",
          "showTitle": false,
          "inputWidgets": {},
          "nuid": "03cd56a4-f64d-4500-b6c3-921befbc63c6"
        },
        "id": "VDxVCUrOMUU_"
      }
    },
    {
      "cell_type": "markdown",
      "source": [
        "Podemos aplicar el slice en las tuplas, obteniendo su vez nuevas tuplas con sus elementos correspondientes:"
      ],
      "metadata": {
        "application/vnd.databricks.v1+cell": {
          "title": "",
          "showTitle": false,
          "inputWidgets": {},
          "nuid": "dcf4f32a-cd87-42ab-9271-b1e40393250c"
        },
        "id": "phQ-l2aEMUU_"
      }
    },
    {
      "cell_type": "code",
      "source": [
        "# Sublista(slice) desde el índice 0 al 2\n",
        "\n",
        "tuple2[0:3]"
      ],
      "metadata": {
        "jupyter": {
          "outputs_hidden": false
        },
        "application/vnd.databricks.v1+cell": {
          "title": "",
          "showTitle": false,
          "inputWidgets": {},
          "nuid": "4ac95889-0019-4660-972f-18c0520cc4d3"
        },
        "colab": {
          "base_uri": "https://localhost:8080/"
        },
        "id": "FNIVgJd7MUU_",
        "outputId": "0bcde841-8668-44b9-8eb0-84b0d5b61239"
      },
      "outputs": [
        {
          "output_type": "execute_result",
          "data": {
            "text/plain": [
              "(1, 2, 3)"
            ]
          },
          "metadata": {},
          "execution_count": 13
        }
      ],
      "execution_count": 13
    },
    {
      "cell_type": "markdown",
      "source": [
        "Podemos obtener los últimos dos elementos de una tupla:"
      ],
      "metadata": {
        "application/vnd.databricks.v1+cell": {
          "title": "",
          "showTitle": false,
          "inputWidgets": {},
          "nuid": "5c1022ca-646a-42a5-8fae-7b83f392cb02"
        },
        "id": "fdVxgkhOMUU_"
      }
    },
    {
      "cell_type": "code",
      "source": [
        "# Sublista(slice) desde el índice 3 al 4\n",
        "\n",
        "tuple2[3:5]"
      ],
      "metadata": {
        "jupyter": {
          "outputs_hidden": false
        },
        "application/vnd.databricks.v1+cell": {
          "title": "",
          "showTitle": false,
          "inputWidgets": {},
          "nuid": "b969a8a5-c10f-40a2-a773-09d920f8934d"
        },
        "colab": {
          "base_uri": "https://localhost:8080/"
        },
        "id": "0fvOeTyLMUU_",
        "outputId": "63c571b7-bced-442d-f93a-b5b07dc30d4f"
      },
      "outputs": [
        {
          "output_type": "execute_result",
          "data": {
            "text/plain": [
              "('hard rock', 10)"
            ]
          },
          "metadata": {},
          "execution_count": 14
        }
      ],
      "execution_count": 14
    },
    {
      "cell_type": "markdown",
      "source": [
        "Podemos obtener la longitud de una tupla usando el comando length:"
      ],
      "metadata": {
        "application/vnd.databricks.v1+cell": {
          "title": "",
          "showTitle": false,
          "inputWidgets": {},
          "nuid": "56148dfb-03d9-4c1d-bb69-8bd2ba344555"
        },
        "id": "ffxk3Km9MUU_"
      }
    },
    {
      "cell_type": "code",
      "source": [
        "# Obtener la longitud de la tupla\n",
        "\n",
        "len(tuple2)"
      ],
      "metadata": {
        "jupyter": {
          "outputs_hidden": false
        },
        "application/vnd.databricks.v1+cell": {
          "title": "",
          "showTitle": false,
          "inputWidgets": {},
          "nuid": "55c2b3cc-d7dd-4876-9ea2-cf0973bef939"
        },
        "colab": {
          "base_uri": "https://localhost:8080/"
        },
        "id": "3IlmZKbHMUU_",
        "outputId": "bf387a58-1672-4048-a94e-d888795271ed"
      },
      "outputs": [
        {
          "output_type": "execute_result",
          "data": {
            "text/plain": [
              "5"
            ]
          },
          "metadata": {},
          "execution_count": 15
        }
      ],
      "execution_count": 15
    },
    {
      "cell_type": "markdown",
      "source": [
        "La siguiente imagen muestra el número de elementos:"
      ],
      "metadata": {
        "application/vnd.databricks.v1+cell": {
          "title": "",
          "showTitle": false,
          "inputWidgets": {},
          "nuid": "ca6dbae3-8989-4035-ab0e-5757154b1122"
        },
        "id": "qSoN-x70MUVD"
      }
    },
    {
      "cell_type": "markdown",
      "source": [
        "<img src=\"https://s3-api.us-geo.objectstorage.softlayer.net/cf-courses-data/CognitiveClass/PY0101EN/Chapter%202/Images/TuplesElement.png\" width=\"750\" align=\"center\">"
      ],
      "metadata": {
        "application/vnd.databricks.v1+cell": {
          "title": "",
          "showTitle": false,
          "inputWidgets": {},
          "nuid": "b2da4fe7-4137-4502-8a87-515693a42bec"
        },
        "id": "q1a7gVqcMUVE"
      }
    },
    {
      "cell_type": "markdown",
      "source": [
        "<h3 id=\"sort\">Ordenamiento</h3>"
      ],
      "metadata": {
        "application/vnd.databricks.v1+cell": {
          "title": "",
          "showTitle": false,
          "inputWidgets": {},
          "nuid": "45fc9e26-75b2-4f18-92c9-2cbfd72025a4"
        },
        "id": "Ucbm1JjZMUVE"
      }
    },
    {
      "cell_type": "markdown",
      "source": [
        "Considérese la siguiente tupla:"
      ],
      "metadata": {
        "application/vnd.databricks.v1+cell": {
          "title": "",
          "showTitle": false,
          "inputWidgets": {},
          "nuid": "ed9f7a0f-0476-4eeb-9ad3-146c18292deb"
        },
        "id": "zEIjkjdiMUVE"
      }
    },
    {
      "cell_type": "code",
      "source": [
        "# Tupla de ejemplo\n",
        "\n",
        "Ratings = (0, 9, 6, 5, 10, 8, 9, 6, 2)"
      ],
      "metadata": {
        "jupyter": {
          "outputs_hidden": true
        },
        "application/vnd.databricks.v1+cell": {
          "title": "",
          "showTitle": false,
          "inputWidgets": {},
          "nuid": "5ce57784-248f-4db4-84e7-f5349681cfaa"
        },
        "id": "pOKFFlg-MUVE"
      },
      "outputs": [],
      "execution_count": 16
    },
    {
      "cell_type": "markdown",
      "source": [
        "Podemos ordenar los valores en la tupla y guardarlos en una nueva:"
      ],
      "metadata": {
        "application/vnd.databricks.v1+cell": {
          "title": "",
          "showTitle": false,
          "inputWidgets": {},
          "nuid": "98d6de6c-4d59-4a62-9d67-a13247a03ec2"
        },
        "id": "TVz8wtx8MUVE"
      }
    },
    {
      "cell_type": "code",
      "source": [
        "# Ordenar la tupla\n",
        "\n",
        "RatingsSorted = sorted(Ratings)\n",
        "RatingsSorted"
      ],
      "metadata": {
        "jupyter": {
          "outputs_hidden": false
        },
        "application/vnd.databricks.v1+cell": {
          "title": "",
          "showTitle": false,
          "inputWidgets": {},
          "nuid": "c1a7de27-861c-4204-8f3b-404a4c37f618"
        },
        "colab": {
          "base_uri": "https://localhost:8080/"
        },
        "id": "Lfc3Rk70MUVE",
        "outputId": "c4faecb7-0672-41f0-db38-ca0c6a8bc20b"
      },
      "outputs": [
        {
          "output_type": "execute_result",
          "data": {
            "text/plain": [
              "[0, 2, 5, 6, 6, 8, 9, 9, 10]"
            ]
          },
          "metadata": {},
          "execution_count": 17
        }
      ],
      "execution_count": 17
    },
    {
      "cell_type": "markdown",
      "source": [
        "<h3 id=\"nest\">Tupla Anidada</h3>"
      ],
      "metadata": {
        "application/vnd.databricks.v1+cell": {
          "title": "",
          "showTitle": false,
          "inputWidgets": {},
          "nuid": "be1c8f4f-2154-4ba2-bc4a-26175f37c319"
        },
        "id": "IXWvg7olMUVF"
      }
    },
    {
      "cell_type": "markdown",
      "source": [
        "Una tupla puede contener a otras tuplas, adi como otro tipo de datos complejos. Este proceso es conocido como “anidar”. Considere la siguiente tupla con algunos elementos:"
      ],
      "metadata": {
        "application/vnd.databricks.v1+cell": {
          "title": "",
          "showTitle": false,
          "inputWidgets": {},
          "nuid": "27ce7588-4d7b-410a-932d-b5de6a422397"
        },
        "id": "u8FAHULcMUVF"
      }
    },
    {
      "cell_type": "code",
      "source": [
        "# Crear una tupla anidada\n",
        "\n",
        "NestedT =(1, 2, (\"pop\", \"rock\") ,(3,4),(\"disco\",(1,2)))"
      ],
      "metadata": {
        "jupyter": {
          "outputs_hidden": true
        },
        "application/vnd.databricks.v1+cell": {
          "title": "",
          "showTitle": false,
          "inputWidgets": {},
          "nuid": "0ee54511-9008-4737-8e98-1582e183b2d0"
        },
        "id": "iOR83so4MUVF"
      },
      "outputs": [],
      "execution_count": 18
    },
    {
      "cell_type": "markdown",
      "source": [
        "El valor de cada elemento en la tupla incluyendo a otras tuplas pueden ser obtenido a través de un numero de índice como se muestra en la imagen:"
      ],
      "metadata": {
        "application/vnd.databricks.v1+cell": {
          "title": "",
          "showTitle": false,
          "inputWidgets": {},
          "nuid": "48b8c34c-13ad-4969-945d-2e9b52fcbeb4"
        },
        "id": "YIEvYPi4MUVF"
      }
    },
    {
      "cell_type": "markdown",
      "source": [
        "<img src=\"https://s3-api.us-geo.objectstorage.softlayer.net/cf-courses-data/CognitiveClass/PY0101EN/Chapter%202/Images/TuplesNestOne.png\" width=\"750\" align=\"center\">"
      ],
      "metadata": {
        "application/vnd.databricks.v1+cell": {
          "title": "",
          "showTitle": false,
          "inputWidgets": {},
          "nuid": "7f0fedc7-5421-41a7-a37d-be4038c78baa"
        },
        "id": "WgCBbzaNMUVF"
      }
    },
    {
      "cell_type": "code",
      "source": [
        "# Imprimir el elemento de cada índice\n",
        "\n",
        "print(\"Element 0 of Tuple: \", NestedT[0])\n",
        "print(\"Element 1 of Tuple: \", NestedT[1])\n",
        "print(\"Element 2 of Tuple: \", NestedT[2])\n",
        "print(\"Element 3 of Tuple: \", NestedT[3])\n",
        "print(\"Element 4 of Tuple: \", NestedT[4])"
      ],
      "metadata": {
        "jupyter": {
          "outputs_hidden": false
        },
        "application/vnd.databricks.v1+cell": {
          "title": "",
          "showTitle": false,
          "inputWidgets": {},
          "nuid": "ec8eb5a7-482f-4873-b0b4-ed77e88b2172"
        },
        "colab": {
          "base_uri": "https://localhost:8080/"
        },
        "id": "EukFlUcxMUVF",
        "outputId": "9b074c63-fa1c-4cea-8def-bb2022a08b3e"
      },
      "outputs": [
        {
          "output_type": "stream",
          "name": "stdout",
          "text": [
            "Element 0 of Tuple:  1\n",
            "Element 1 of Tuple:  2\n",
            "Element 2 of Tuple:  ('pop', 'rock')\n",
            "Element 3 of Tuple:  (3, 4)\n",
            "Element 4 of Tuple:  ('disco', (1, 2))\n"
          ]
        }
      ],
      "execution_count": 19
    },
    {
      "cell_type": "markdown",
      "source": [
        "Podemos usar un segundo índice para acceder otras tuplas como se muestra en la siguiente imagen:"
      ],
      "metadata": {
        "application/vnd.databricks.v1+cell": {
          "title": "",
          "showTitle": false,
          "inputWidgets": {},
          "nuid": "1d65a029-6132-4d5a-9ed6-94da531f4a2c"
        },
        "id": "Kf42POwfMUVF"
      }
    },
    {
      "cell_type": "markdown",
      "source": [
        "<img src=\"https://s3-api.us-geo.objectstorage.softlayer.net/cf-courses-data/CognitiveClass/PY0101EN/Chapter%202/Images/TuplesNestTwo.png\" width=\"750\" align=\"center\">"
      ],
      "metadata": {
        "application/vnd.databricks.v1+cell": {
          "title": "",
          "showTitle": false,
          "inputWidgets": {},
          "nuid": "cb7d8b79-7798-40da-9abe-8acfaa576e03"
        },
        "id": "a-DtzD_pMUVF"
      }
    },
    {
      "cell_type": "markdown",
      "source": [
        "Podemos acceder a las tuplas anidadas:"
      ],
      "metadata": {
        "application/vnd.databricks.v1+cell": {
          "title": "",
          "showTitle": false,
          "inputWidgets": {},
          "nuid": "57ee7d33-1ecf-4ffc-a745-ae0a1fe639dc"
        },
        "id": "CB2xIeo4MUVF"
      }
    },
    {
      "cell_type": "code",
      "source": [
        "# Imprimir el elemento de cada índice, incluyendo los índices anidados\n",
        "\n",
        "print(\"Element 2, 0 of Tuple: \",   NestedT[2][0])\n",
        "print(\"Element 2, 1 of Tuple: \",   NestedT[2][1])\n",
        "print(\"Element 3, 0 of Tuple: \",   NestedT[3][0])\n",
        "print(\"Element 3, 1 of Tuple: \",   NestedT[3][1])\n",
        "print(\"Element 4, 0 of Tuple: \",   NestedT[4][0])\n",
        "print(\"Element 4, 1 of Tuple: \",   NestedT[4][1])"
      ],
      "metadata": {
        "jupyter": {
          "outputs_hidden": false
        },
        "application/vnd.databricks.v1+cell": {
          "title": "",
          "showTitle": false,
          "inputWidgets": {},
          "nuid": "868f3566-9276-4dde-a44b-d1230c533618"
        },
        "colab": {
          "base_uri": "https://localhost:8080/"
        },
        "id": "RTzKoS5oMUVG",
        "outputId": "4803a1f9-9071-4daf-a796-72cbee412eb0"
      },
      "outputs": [
        {
          "output_type": "stream",
          "name": "stdout",
          "text": [
            "Element 2, 0 of Tuple:  pop\n",
            "Element 2, 1 of Tuple:  rock\n",
            "Element 3, 0 of Tuple:  3\n",
            "Element 3, 1 of Tuple:  4\n",
            "Element 4, 0 of Tuple:  disco\n",
            "Element 4, 1 of Tuple:  (1, 2)\n"
          ]
        }
      ],
      "execution_count": 20
    },
    {
      "cell_type": "markdown",
      "source": [
        "Podemos acceder a las cadenas de las segundas tuplas anidadas usando un tercer número de índice:"
      ],
      "metadata": {
        "application/vnd.databricks.v1+cell": {
          "title": "",
          "showTitle": false,
          "inputWidgets": {},
          "nuid": "accbe0f1-f971-492e-864f-ae1cb855cb1f"
        },
        "id": "kI1OaQzwMUVG"
      }
    },
    {
      "cell_type": "code",
      "source": [
        "# Imprimir el primer elemento en las segundas tuplas anidadas\n",
        "\n",
        "NestedT[2][1][0]"
      ],
      "metadata": {
        "jupyter": {
          "outputs_hidden": false
        },
        "application/vnd.databricks.v1+cell": {
          "title": "",
          "showTitle": false,
          "inputWidgets": {},
          "nuid": "baa4a64f-019c-4c02-95b1-7643387ed486"
        },
        "colab": {
          "base_uri": "https://localhost:8080/",
          "height": 36
        },
        "id": "6phwtuLeMUVG",
        "outputId": "768b6266-6fac-4796-dd2d-6737bf167b88"
      },
      "outputs": [
        {
          "output_type": "execute_result",
          "data": {
            "text/plain": [
              "'r'"
            ],
            "application/vnd.google.colaboratory.intrinsic+json": {
              "type": "string"
            }
          },
          "metadata": {},
          "execution_count": 21
        }
      ],
      "execution_count": 21
    },
    {
      "cell_type": "code",
      "source": [
        "# Imprimir el segundo elemento en las segundas tuplas anidadas\n",
        "\n",
        "NestedT[2][1][1]"
      ],
      "metadata": {
        "jupyter": {
          "outputs_hidden": false
        },
        "application/vnd.databricks.v1+cell": {
          "title": "",
          "showTitle": false,
          "inputWidgets": {},
          "nuid": "9da85cb7-ca69-4cc9-9b89-ee8ac4cf598d"
        },
        "colab": {
          "base_uri": "https://localhost:8080/",
          "height": 36
        },
        "id": "LeGqxJMbMUVG",
        "outputId": "cd93e1e1-1701-4c70-fb55-c96997d03943"
      },
      "outputs": [
        {
          "output_type": "execute_result",
          "data": {
            "text/plain": [
              "'o'"
            ],
            "application/vnd.google.colaboratory.intrinsic+json": {
              "type": "string"
            }
          },
          "metadata": {},
          "execution_count": 22
        }
      ],
      "execution_count": 22
    },
    {
      "cell_type": "markdown",
      "source": [
        "Podemos usar una estructura de árbol para visualizar el proceso. Cada índice nuevo corresponde a un nivel mas profundo del árbol:"
      ],
      "metadata": {
        "application/vnd.databricks.v1+cell": {
          "title": "",
          "showTitle": false,
          "inputWidgets": {},
          "nuid": "7f830683-a6e7-4598-ad85-42468e109c76"
        },
        "id": "nK92adxSMUVG"
      }
    },
    {
      "cell_type": "markdown",
      "source": [
        "<img src=\"https://s3-api.us-geo.objectstorage.softlayer.net/cf-courses-data/CognitiveClass/PY0101EN/Chapter%202/Images/TuplesNestThree.gif\" width=\"750\" align=\"center\">"
      ],
      "metadata": {
        "application/vnd.databricks.v1+cell": {
          "title": "",
          "showTitle": false,
          "inputWidgets": {},
          "nuid": "f1bc5e3c-8db6-4e48-9644-67d33739ac9b"
        },
        "id": "7c_-uM6CMUVG"
      }
    },
    {
      "cell_type": "markdown",
      "source": [
        "De igual forma, podemos acceder a elementos anidados en niveles mas bajos dentro del árbol utilizando un cuarto índice:"
      ],
      "metadata": {
        "application/vnd.databricks.v1+cell": {
          "title": "",
          "showTitle": false,
          "inputWidgets": {},
          "nuid": "872c2e8f-283d-4649-a12b-3fdee0ad567a"
        },
        "id": "w-uGf0q1MUVG"
      }
    },
    {
      "cell_type": "code",
      "source": [
        "# Imprimir el primer elemento en las segundas tuplas anidadas\n",
        "\n",
        "NestedT[4][1][0]"
      ],
      "metadata": {
        "jupyter": {
          "outputs_hidden": false
        },
        "application/vnd.databricks.v1+cell": {
          "title": "",
          "showTitle": false,
          "inputWidgets": {},
          "nuid": "e9337664-0f22-41d9-a962-40e358171b1f"
        },
        "colab": {
          "base_uri": "https://localhost:8080/"
        },
        "id": "Wy8RDm4aMUVG",
        "outputId": "94701eee-a07e-433a-faba-4c1f4bbb640d"
      },
      "outputs": [
        {
          "output_type": "execute_result",
          "data": {
            "text/plain": [
              "1"
            ]
          },
          "metadata": {},
          "execution_count": 23
        }
      ],
      "execution_count": 23
    },
    {
      "cell_type": "code",
      "source": [
        "# Imprimir el segundo elemento en las segundas tuplas anidadas\n",
        "\n",
        "NestedT[4][1][1]"
      ],
      "metadata": {
        "jupyter": {
          "outputs_hidden": false
        },
        "application/vnd.databricks.v1+cell": {
          "title": "",
          "showTitle": false,
          "inputWidgets": {},
          "nuid": "6942691c-9901-44eb-a837-9e254e5b9927"
        },
        "colab": {
          "base_uri": "https://localhost:8080/"
        },
        "id": "kGv6uOw_MUVG",
        "outputId": "dc61e3aa-03e9-40ac-c36e-e1bed02cb998"
      },
      "outputs": [
        {
          "output_type": "execute_result",
          "data": {
            "text/plain": [
              "2"
            ]
          },
          "metadata": {},
          "execution_count": 24
        }
      ],
      "execution_count": 24
    },
    {
      "cell_type": "markdown",
      "source": [
        "La siguiente figura muestra la relación entre la estructura de árbol y el elemento <code>NestedT[4][1][1]</code>:"
      ],
      "metadata": {
        "application/vnd.databricks.v1+cell": {
          "title": "",
          "showTitle": false,
          "inputWidgets": {},
          "nuid": "eee01e0e-b270-4b41-ad02-3acf422b557a"
        },
        "id": "i4VIPHJ4MUVG"
      }
    },
    {
      "cell_type": "markdown",
      "source": [
        "<img src=\"https://s3-api.us-geo.objectstorage.softlayer.net/cf-courses-data/CognitiveClass/PY0101EN/Chapter%202/Images/TuplesNestFour.gif\" width=\"750\" align=\"center\">"
      ],
      "metadata": {
        "application/vnd.databricks.v1+cell": {
          "title": "",
          "showTitle": false,
          "inputWidgets": {},
          "nuid": "7804b00e-9c21-4bbf-b21e-c1cc7070d98e"
        },
        "id": "GQUoj4UfMUVG"
      }
    },
    {
      "cell_type": "markdown",
      "source": [
        "<h2 id=\"quiz\">Exámen sobre Tuplas</h2>"
      ],
      "metadata": {
        "application/vnd.databricks.v1+cell": {
          "title": "",
          "showTitle": false,
          "inputWidgets": {},
          "nuid": "e2561eb3-1d1f-41a5-a17e-18afc6925d1d"
        },
        "id": "Lv5J6OuHMUVH"
      }
    },
    {
      "cell_type": "markdown",
      "source": [
        "Considérese la siguiente tupla:"
      ],
      "metadata": {
        "application/vnd.databricks.v1+cell": {
          "title": "",
          "showTitle": false,
          "inputWidgets": {},
          "nuid": "7ff725b0-8a35-41cf-9d89-88425d0baa82"
        },
        "id": "afsKLWWZMUVH"
      }
    },
    {
      "cell_type": "code",
      "source": [
        "# Tupla de ejemplo\n",
        "\n",
        "genres_tuple = (\"pop\", \"rock\", \"soul\", \"hard rock\", \"soft rock\", \\\n",
        "                \"R&B\", \"progressive rock\", \"disco\")\n",
        "genres_tuple"
      ],
      "metadata": {
        "jupyter": {
          "outputs_hidden": false
        },
        "application/vnd.databricks.v1+cell": {
          "title": "",
          "showTitle": false,
          "inputWidgets": {},
          "nuid": "297bf323-823f-4446-b6ca-55ef52d995ee"
        },
        "colab": {
          "base_uri": "https://localhost:8080/"
        },
        "id": "gRXykCarMUVH",
        "outputId": "59212280-76b5-49ad-efff-b9bd0355c319"
      },
      "outputs": [
        {
          "output_type": "execute_result",
          "data": {
            "text/plain": [
              "('pop',\n",
              " 'rock',\n",
              " 'soul',\n",
              " 'hard rock',\n",
              " 'soft rock',\n",
              " 'R&B',\n",
              " 'progressive rock',\n",
              " 'disco')"
            ]
          },
          "metadata": {},
          "execution_count": 25
        }
      ],
      "execution_count": 25
    },
    {
      "cell_type": "markdown",
      "source": [
        "Encontrar la longitud de la tupla, <code>genres_tuple</code>:"
      ],
      "metadata": {
        "application/vnd.databricks.v1+cell": {
          "title": "",
          "showTitle": false,
          "inputWidgets": {},
          "nuid": "d244b988-895f-40d9-90e0-2251a473ff54"
        },
        "id": "zLobGb8xMUVH"
      }
    },
    {
      "cell_type": "code",
      "source": [
        "# Escribe abajo tu código y presiona Shift+Enter para ejecutarlo\n",
        "len(genres_tuple)"
      ],
      "metadata": {
        "jupyter": {
          "outputs_hidden": false
        },
        "application/vnd.databricks.v1+cell": {
          "title": "",
          "showTitle": false,
          "inputWidgets": {},
          "nuid": "b24b5ac5-e7d9-422e-a84a-48394c8c7ca3"
        },
        "colab": {
          "base_uri": "https://localhost:8080/"
        },
        "id": "mS97feUHMUVH",
        "outputId": "cf7749f7-a51e-4890-e89e-d665047bfe57"
      },
      "outputs": [
        {
          "output_type": "execute_result",
          "data": {
            "text/plain": [
              "8"
            ]
          },
          "metadata": {},
          "execution_count": 26
        }
      ],
      "execution_count": 26
    },
    {
      "cell_type": "markdown",
      "source": [
        "<img src=\"https://s3-api.us-geo.objectstorage.softlayer.net/cf-courses-data/CognitiveClass/PY0101EN/Chapter%202/Images/TuplesQuiz.png\" width=\"1100\" align=\"center\">"
      ],
      "metadata": {
        "application/vnd.databricks.v1+cell": {
          "title": "",
          "showTitle": false,
          "inputWidgets": {},
          "nuid": "78148650-c13a-495b-b37c-63cbb74ad41f"
        },
        "id": "sXmEipRQMUVH"
      }
    },
    {
      "cell_type": "markdown",
      "source": [
        "Respuesta :\n",
        "\n",
        "La funcion \"len\" muestra la longitud de la tupla, es decir 8"
      ],
      "metadata": {
        "application/vnd.databricks.v1+cell": {
          "title": "",
          "showTitle": false,
          "inputWidgets": {},
          "nuid": "2884856e-e8c7-4121-81a8-ce1518fff8ac"
        },
        "id": "QEKiB3HuMUVH"
      }
    },
    {
      "cell_type": "markdown",
      "source": [
        "Accede al elemento en el índice 3:"
      ],
      "metadata": {
        "application/vnd.databricks.v1+cell": {
          "title": "",
          "showTitle": false,
          "inputWidgets": {},
          "nuid": "ec47d71d-84cc-4422-88e7-a253ebe07945"
        },
        "id": "wtJS8QCyMUVH"
      }
    },
    {
      "cell_type": "code",
      "source": [
        "# Escribe abajo tu código y presiona Shift+Enter para ejecutarlo\n",
        "genres_tuple[3]"
      ],
      "metadata": {
        "jupyter": {
          "outputs_hidden": false
        },
        "application/vnd.databricks.v1+cell": {
          "title": "",
          "showTitle": false,
          "inputWidgets": {},
          "nuid": "44c71a5b-19b5-4628-a14f-6399a325d177"
        },
        "colab": {
          "base_uri": "https://localhost:8080/",
          "height": 36
        },
        "id": "wBCa_VnvMUVH",
        "outputId": "79c85dc3-c221-4c9b-83b0-1066d1bc66a7"
      },
      "outputs": [
        {
          "output_type": "execute_result",
          "data": {
            "text/plain": [
              "'hard rock'"
            ],
            "application/vnd.google.colaboratory.intrinsic+json": {
              "type": "string"
            }
          },
          "metadata": {},
          "execution_count": 27
        }
      ],
      "execution_count": 27
    },
    {
      "cell_type": "markdown",
      "source": [
        "Respuesta :\n",
        "\n",
        "Se accede al elemento guardado en el **indice 3**.\n",
        "\n",
        "Verificando así, que el elemento es ***hard rock***"
      ],
      "metadata": {
        "application/vnd.databricks.v1+cell": {
          "title": "",
          "showTitle": false,
          "inputWidgets": {},
          "nuid": "7f58bb52-0e9d-451b-a190-ad78fc3771a9"
        },
        "id": "nS4aLAuFMUVH"
      }
    },
    {
      "cell_type": "markdown",
      "source": [
        "Utiliza el slicing para obtener los índices 3, 4 y 5:"
      ],
      "metadata": {
        "application/vnd.databricks.v1+cell": {
          "title": "",
          "showTitle": false,
          "inputWidgets": {},
          "nuid": "bd9b5565-de86-4065-9548-d365d68235f9"
        },
        "id": "7HwC58lvMUVH"
      }
    },
    {
      "cell_type": "code",
      "source": [
        "# Escribe abajo tu código y presiona Shift+Enter para ejecutarlo\n",
        "genres_tuple[3:6]"
      ],
      "metadata": {
        "jupyter": {
          "outputs_hidden": false
        },
        "application/vnd.databricks.v1+cell": {
          "title": "",
          "showTitle": false,
          "inputWidgets": {},
          "nuid": "3da462f7-dc82-4f65-8a29-d7212c5abd18"
        },
        "colab": {
          "base_uri": "https://localhost:8080/"
        },
        "id": "SPExBN9bMUVH",
        "outputId": "89a335e3-cd4f-4156-9d76-387a99fb78eb"
      },
      "outputs": [
        {
          "output_type": "execute_result",
          "data": {
            "text/plain": [
              "('hard rock', 'soft rock', 'R&B')"
            ]
          },
          "metadata": {},
          "execution_count": 28
        }
      ],
      "execution_count": 28
    },
    {
      "cell_type": "markdown",
      "source": [
        "Respuesta :\n",
        "\n",
        "La funcion slicing obtiene los elementos en los indices 3, 4 y 5 de la misma manera que en el anterior ejercicio, e igualmente verificable"
      ],
      "metadata": {
        "application/vnd.databricks.v1+cell": {
          "title": "",
          "showTitle": false,
          "inputWidgets": {},
          "nuid": "81d1ac0f-6abb-4084-9f0a-d7e99ebea0cc"
        },
        "id": "Bzyk6_eXMUVH"
      }
    },
    {
      "cell_type": "markdown",
      "source": [
        "Encuentra los primeros dos elementos de la tupla <code>genres_tuple</code>:"
      ],
      "metadata": {
        "application/vnd.databricks.v1+cell": {
          "title": "",
          "showTitle": false,
          "inputWidgets": {},
          "nuid": "cdda5e10-8f24-4c39-a125-56457fa4cdcf"
        },
        "id": "yVeEmVoIMUVI"
      }
    },
    {
      "cell_type": "code",
      "source": [
        "# Escribe abajo tu código y presiona Shift+Enter para ejecutarlo\n",
        "genres_tuple[0:2]"
      ],
      "metadata": {
        "jupyter": {
          "outputs_hidden": false
        },
        "application/vnd.databricks.v1+cell": {
          "title": "",
          "showTitle": false,
          "inputWidgets": {},
          "nuid": "21c5a8d4-abd2-4e0b-bf22-32ed42bad159"
        },
        "colab": {
          "base_uri": "https://localhost:8080/"
        },
        "id": "D7TWhcCWMUVI",
        "outputId": "51543194-e415-4486-c09d-e6f5af75626d"
      },
      "outputs": [
        {
          "output_type": "execute_result",
          "data": {
            "text/plain": [
              "('pop', 'rock')"
            ]
          },
          "metadata": {},
          "execution_count": 29
        }
      ],
      "execution_count": 29
    },
    {
      "cell_type": "markdown",
      "source": [
        "Respuesta :\n",
        "\n",
        "De igual manera encuentra los 2 primeros elementos de la tupla, mostrados correctamente"
      ],
      "metadata": {
        "application/vnd.databricks.v1+cell": {
          "title": "",
          "showTitle": false,
          "inputWidgets": {},
          "nuid": "e5748576-bda3-4412-9644-f95b7914fc09"
        },
        "id": "4el86RflMUVI"
      }
    },
    {
      "cell_type": "markdown",
      "source": [
        "Encuentra el primer índice de <code>\"disco\"</code>:"
      ],
      "metadata": {
        "application/vnd.databricks.v1+cell": {
          "title": "",
          "showTitle": false,
          "inputWidgets": {},
          "nuid": "0ff77f26-92fd-4bc0-b6c1-ed1ff21d370e"
        },
        "id": "h4uoEZ5KMUVI"
      }
    },
    {
      "cell_type": "code",
      "source": [
        "# Escribe abajo tu código y presiona Shift+Enter para ejecutarlo\n",
        "genres_tuple.index(\"disco\")"
      ],
      "metadata": {
        "jupyter": {
          "outputs_hidden": false
        },
        "application/vnd.databricks.v1+cell": {
          "title": "",
          "showTitle": false,
          "inputWidgets": {},
          "nuid": "675b5d81-5b90-4c7f-879b-2c89b84a06ce"
        },
        "colab": {
          "base_uri": "https://localhost:8080/"
        },
        "id": "iTaS4UtnMUVI",
        "outputId": "e9dedc56-29c4-4df9-d9dd-9ff97138057d"
      },
      "outputs": [
        {
          "output_type": "execute_result",
          "data": {
            "text/plain": [
              "7"
            ]
          },
          "metadata": {},
          "execution_count": 30
        }
      ],
      "execution_count": 30
    },
    {
      "cell_type": "markdown",
      "source": [
        "Respuesta :\n",
        "\n",
        "La funcion **\".index\"** muestra por pantalla el index en donde se encuentra alojada la palabra disco"
      ],
      "metadata": {
        "application/vnd.databricks.v1+cell": {
          "title": "",
          "showTitle": false,
          "inputWidgets": {},
          "nuid": "ea8ee142-9b31-4f83-90da-6fa6a5c5ac61"
        },
        "id": "s55bjSpyMUVI"
      }
    },
    {
      "cell_type": "markdown",
      "source": [
        "Genera una lista ordenada desde la tupla <code>C_tuple=(-5, 1, -3)</code>:"
      ],
      "metadata": {
        "application/vnd.databricks.v1+cell": {
          "title": "",
          "showTitle": false,
          "inputWidgets": {},
          "nuid": "2d789f30-7a08-415e-b162-f6bfcd75a9c6"
        },
        "id": "rzkdjrI0MUVI"
      }
    },
    {
      "cell_type": "code",
      "source": [
        "# Escribe abajo tu código y presiona Shift+Enter para ejecutarlo\n",
        "C_tuple = (-5, 1, -3)\n",
        "C_list = sorted(C_tuple)\n",
        "C_list"
      ],
      "metadata": {
        "jupyter": {
          "outputs_hidden": false
        },
        "application/vnd.databricks.v1+cell": {
          "title": "",
          "showTitle": false,
          "inputWidgets": {},
          "nuid": "ccb2137d-68c2-45bc-a1f0-e7152ad13bbb"
        },
        "colab": {
          "base_uri": "https://localhost:8080/"
        },
        "id": "SwITCv2PMUVI",
        "outputId": "38b444d1-71b5-4551-f8ad-d4cb18e0969b"
      },
      "outputs": [
        {
          "output_type": "execute_result",
          "data": {
            "text/plain": [
              "[-5, -3, 1]"
            ]
          },
          "metadata": {},
          "execution_count": 31
        }
      ],
      "execution_count": 31
    },
    {
      "cell_type": "markdown",
      "source": [
        "Respuesta :\n",
        "\n",
        "La funcion sorted genera una lista organizada según la tupla, en este caso de menor a mayor"
      ],
      "metadata": {
        "application/vnd.databricks.v1+cell": {
          "title": "",
          "showTitle": false,
          "inputWidgets": {},
          "nuid": "c875eb56-4ee8-446e-9cb3-c519a0818595"
        },
        "id": "Pv8vZ709MUVJ"
      }
    }
  ],
  "metadata": {
    "kernelspec": {
      "display_name": "Python 3",
      "language": "python",
      "name": "python3"
    },
    "language_info": {
      "mimetype": "text/x-python",
      "name": "python",
      "pygments_lexer": "ipython3",
      "codemirror_mode": {
        "name": "ipython",
        "version": 3
      },
      "version": "3.8.3",
      "nbconvert_exporter": "python",
      "file_extension": ".py"
    },
    "application/vnd.databricks.v1+notebook": {
      "notebookName": "02-Python-Tuplas",
      "dashboards": [],
      "notebookMetadata": {
        "pythonIndentUnit": 2
      },
      "language": "python",
      "widgets": {},
      "notebookOrigID": 3296315911138266
    },
    "colab": {
      "provenance": []
    }
  },
  "nbformat": 4,
  "nbformat_minor": 0
}