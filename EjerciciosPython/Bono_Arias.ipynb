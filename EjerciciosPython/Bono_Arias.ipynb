{
  "cells": [
    {
      "cell_type": "markdown",
      "source": [
        "\n",
        "# 📌 Portada\n",
        "\n",
        "**Curso:** Procesamiento de Big Data\n",
        "\n",
        "**Docente**: John Corredor Franco\n",
        "\n",
        "**Estudiante:** Juan Pablo Arias\n",
        "\n",
        " **ID**: 20524770\n",
        "\n",
        "**Carrera:** Ciencia de Datos"
      ],
      "metadata": {
        "id": "OcC0EzRbbx6w"
      }
    },
    {
      "cell_type": "markdown",
      "metadata": {
        "id": "4oLoyHCjqtvg"
      },
      "source": [
        "# CALENTAMIENTO:"
      ]
    },
    {
      "cell_type": "markdown",
      "metadata": {
        "id": "i-uLqm-1qtvh"
      },
      "source": [
        "#### MENOR DE DOS PARES: Escriba una función que devuelva el menor de dos números dados *si* ambos números son pares, pero devuelva el mayor si uno o ambos números son impares\n",
        "    lesser_of_two_evens(2,4) --> 2\n",
        "    lesser_of_two_evens(2,5) --> 5"
      ]
    },
    {
      "cell_type": "code",
      "execution_count": 10,
      "metadata": {
        "id": "eJzqgiOIqtvh"
      },
      "outputs": [],
      "source": [
        "def lesser_of_two_evens(a, b):\n",
        "    if a % 2 == 0 and b % 2 == 0:\n",
        "        return min(a, b)\n",
        "    else:\n",
        "        return max(a, b)"
      ]
    },
    {
      "cell_type": "code",
      "execution_count": 11,
      "metadata": {
        "outputId": "fc19711e-4e1a-4cff-9f5d-1f330c4d5e20",
        "colab": {
          "base_uri": "https://localhost:8080/"
        },
        "id": "eVcj_TNBqtvh"
      },
      "outputs": [
        {
          "output_type": "execute_result",
          "data": {
            "text/plain": [
              "2"
            ]
          },
          "metadata": {},
          "execution_count": 11
        }
      ],
      "source": [
        "# Revisión\n",
        "lesser_of_two_evens(2,4)"
      ]
    },
    {
      "cell_type": "markdown",
      "source": [
        "**Respuesta** :\n",
        "\n",
        "Ambos son pares y el menor es 2"
      ],
      "metadata": {
        "id": "Ws8x0fTbz-m9"
      }
    },
    {
      "cell_type": "code",
      "execution_count": 12,
      "metadata": {
        "outputId": "69265693-0c59-44b3-aa2c-b39033f554eb",
        "colab": {
          "base_uri": "https://localhost:8080/"
        },
        "id": "oPAM9YVGqtvi"
      },
      "outputs": [
        {
          "output_type": "execute_result",
          "data": {
            "text/plain": [
              "5"
            ]
          },
          "metadata": {},
          "execution_count": 12
        }
      ],
      "source": [
        "# Revisión\n",
        "lesser_of_two_evens(2,5)"
      ]
    },
    {
      "cell_type": "markdown",
      "source": [
        "**Respuesta** :\n",
        "\n",
        "5 es impar por lo tanto devuelve el mayor que es el mismo 5"
      ],
      "metadata": {
        "id": "rP1BfEVT0Bsl"
      }
    },
    {
      "cell_type": "markdown",
      "metadata": {
        "id": "pzzZzp7Rqtvi"
      },
      "source": [
        "#### GALLETAS DE ANIMALES: Escribir una función que toma una cadena de dos palabras y devuelve True si ambas palabras comienzan con la misma letra\n",
        "    animal_crackers('Ciudad Calor') --> True\n",
        "    animal_crackers('Lugar Frio') --> False"
      ]
    },
    {
      "cell_type": "code",
      "execution_count": 13,
      "metadata": {
        "id": "nFrMMjV8qtvi"
      },
      "outputs": [],
      "source": [
        "def animal_crackers(text):\n",
        "    words = text.split()\n",
        "    if len(words) != 2:\n",
        "        return False\n",
        "    return words[0][0].lower() == words[1][0].lower()"
      ]
    },
    {
      "cell_type": "code",
      "execution_count": 14,
      "metadata": {
        "outputId": "206e1bdb-d394-4fc7-864d-f770f1171f38",
        "colab": {
          "base_uri": "https://localhost:8080/"
        },
        "id": "-LXb-Z1kqtvi"
      },
      "outputs": [
        {
          "output_type": "execute_result",
          "data": {
            "text/plain": [
              "True"
            ]
          },
          "metadata": {},
          "execution_count": 14
        }
      ],
      "source": [
        "# Revisión\n",
        "animal_crackers('Ciudad Calor')"
      ]
    },
    {
      "cell_type": "markdown",
      "source": [
        "**Respuesta** :\n",
        "\n",
        "Ciudad y calor comienzan con C"
      ],
      "metadata": {
        "id": "Ff5IR5ly0Giy"
      }
    },
    {
      "cell_type": "code",
      "execution_count": 15,
      "metadata": {
        "outputId": "ff45d836-ae17-4969-9a6a-0bb22fd877da",
        "colab": {
          "base_uri": "https://localhost:8080/"
        },
        "id": "z1LpaiA0qtvj"
      },
      "outputs": [
        {
          "output_type": "execute_result",
          "data": {
            "text/plain": [
              "False"
            ]
          },
          "metadata": {},
          "execution_count": 15
        }
      ],
      "source": [
        "# Revisión\n",
        "animal_crackers('Lugar Frio')"
      ]
    },
    {
      "cell_type": "markdown",
      "source": [
        "**Respuesta** :\n",
        "\n",
        "Lugar y calor no comienzan con la misma letra"
      ],
      "metadata": {
        "id": "mH5X05ou0KBQ"
      }
    },
    {
      "cell_type": "markdown",
      "metadata": {
        "id": "gYJ8qsnCqtvj"
      },
      "source": [
        "#### HACE VEINTE: dados dos enteros, devuelve True si la suma de los enteros es 20 o si uno de los enteros es 20. De lo contrario, devuelve False\n",
        "\n",
        "    makes_twenty(20,10) --> True\n",
        "    makes_twenty(12,8) --> True\n",
        "    makes_twenty(2,3) --> False"
      ]
    },
    {
      "cell_type": "code",
      "execution_count": 16,
      "metadata": {
        "id": "eotaqR9Iqtvj"
      },
      "outputs": [],
      "source": [
        "def makes_twenty(n1, n2):\n",
        "    return (n1 + n2 == 20) or (n1 == 20) or (n2 == 20)"
      ]
    },
    {
      "cell_type": "code",
      "execution_count": 17,
      "metadata": {
        "outputId": "1bfe9135-5967-43d9-ce6f-9a74bc07a07d",
        "colab": {
          "base_uri": "https://localhost:8080/"
        },
        "id": "afArcUEpqtvj"
      },
      "outputs": [
        {
          "output_type": "execute_result",
          "data": {
            "text/plain": [
              "True"
            ]
          },
          "metadata": {},
          "execution_count": 17
        }
      ],
      "source": [
        "# Revisión\n",
        "makes_twenty(20,10)"
      ]
    },
    {
      "cell_type": "markdown",
      "source": [
        "**Respuesta** :\n",
        "\n",
        "hay un 20 entre las variables"
      ],
      "metadata": {
        "id": "4_DnSNSw0OUW"
      }
    },
    {
      "cell_type": "code",
      "execution_count": 18,
      "metadata": {
        "outputId": "71125f85-46c4-4f2a-c77d-7467f2efd837",
        "colab": {
          "base_uri": "https://localhost:8080/"
        },
        "id": "KUPpxsWbqtvk"
      },
      "outputs": [
        {
          "output_type": "execute_result",
          "data": {
            "text/plain": [
              "False"
            ]
          },
          "metadata": {},
          "execution_count": 18
        }
      ],
      "source": [
        "# Revisión\n",
        "makes_twenty(2,3)"
      ]
    },
    {
      "cell_type": "markdown",
      "source": [
        "**Respuesta** :\n",
        "\n",
        "La suma de ambos no alcanza a ser 20, ademas de ninguno ser 20"
      ],
      "metadata": {
        "id": "N3xIv7oE0T5E"
      }
    },
    {
      "cell_type": "code",
      "execution_count": 19,
      "metadata": {
        "outputId": "4bd0b910-a51c-4228-a307-82f558a8ab20",
        "colab": {
          "base_uri": "https://localhost:8080/"
        },
        "id": "8LCREGyKqtvk"
      },
      "outputs": [
        {
          "output_type": "execute_result",
          "data": {
            "text/plain": [
              "True"
            ]
          },
          "metadata": {},
          "execution_count": 19
        }
      ],
      "source": [
        "makes_twenty(12,8)"
      ]
    },
    {
      "cell_type": "markdown",
      "source": [
        "**Respuesta** :\n",
        "\n",
        "a persar de que ninguno es 20, la suma de los valores si es 20"
      ],
      "metadata": {
        "id": "MpZr3OTL0ZmY"
      }
    },
    {
      "cell_type": "markdown",
      "metadata": {
        "id": "gWSS33GBqtvk"
      },
      "source": [
        " Nivel 1"
      ]
    },
    {
      "cell_type": "markdown",
      "metadata": {
        "id": "g6eFfIuKqtvk"
      },
      "source": [
        "#### MAYÚSCULAS: Escribir una función que haga mayúscula la primera y cuarta letra de una cadena de texto\n",
        "     \n",
        "    old_macdonald('macdonald') --> MacDonald\n",
        "    \n",
        "Note: `'macdonald'.capitalize()` returns `'Macdonald'`"
      ]
    },
    {
      "cell_type": "code",
      "execution_count": 20,
      "metadata": {
        "id": "OIbk9e7Qqtvl"
      },
      "outputs": [],
      "source": [
        "def old_macdonald(name):\n",
        "    if len(name) < 4:\n",
        "        return name.capitalize()\n",
        "    else:\n",
        "        return name[:1].upper() + name[1:3] + name[3:4].upper() + name[4:]"
      ]
    },
    {
      "cell_type": "code",
      "execution_count": 21,
      "metadata": {
        "outputId": "722c5e4f-8ff1-4bae-c317-2e8fc78cbbc6",
        "colab": {
          "base_uri": "https://localhost:8080/",
          "height": 36
        },
        "id": "2OvB3wJAqtvl"
      },
      "outputs": [
        {
          "output_type": "execute_result",
          "data": {
            "text/plain": [
              "'MacDonald'"
            ],
            "application/vnd.google.colaboratory.intrinsic+json": {
              "type": "string"
            }
          },
          "metadata": {},
          "execution_count": 21
        }
      ],
      "source": [
        "# Check\n",
        "old_macdonald('macdonald')"
      ]
    },
    {
      "cell_type": "markdown",
      "source": [
        "**Respuesta** :\n",
        "\n",
        "Siendo la primera letra M y la cuarta D"
      ],
      "metadata": {
        "id": "HMJzQWYd0muC"
      }
    },
    {
      "cell_type": "markdown",
      "metadata": {
        "id": "PPBLbXqBqtvl"
      },
      "source": [
        "#### REVERSA: Dada una oración, retornar la misma oración pero en reversa\n",
        "\n",
        "    master_yoda('I am home') --> 'home am I'\n",
        "    master_yoda('We are ready') --> 'ready are We'\n",
        "    \n",
        "Note: Revisar método .join()\n",
        "\n",
        "    >>> \"--\".join(['a','b','c'])\n",
        "    >>> 'a--b--c'\n",
        "\n",
        "Resultado de .join():\n",
        "\n",
        "    >>> \" \".join(['Hello','world'])\n",
        "    >>> \"Hello world\""
      ]
    },
    {
      "cell_type": "code",
      "execution_count": 22,
      "metadata": {
        "id": "A1bOf_lUqtvl"
      },
      "outputs": [],
      "source": [
        "def master_yoda(text):\n",
        "    words = text.split()\n",
        "    reversed_words = words[::-1]\n",
        "    reversed_sentence = ' '.join(reversed_words)\n",
        "    return reversed_sentence"
      ]
    },
    {
      "cell_type": "markdown",
      "source": [
        "**Respuesta** :\n",
        "\n",
        "Divide la oracion en palabras (partes), invierte el orden, las une en una sola u devuelve el resultado"
      ],
      "metadata": {
        "id": "mWtAKdfM0zC2"
      }
    },
    {
      "cell_type": "code",
      "execution_count": 23,
      "metadata": {
        "id": "DzgFwEcrqtvl"
      },
      "outputs": [],
      "source": [
        "######"
      ]
    },
    {
      "cell_type": "code",
      "execution_count": 24,
      "metadata": {
        "outputId": "835bae72-aeb6-4256-e918-6bd04e614d72",
        "colab": {
          "base_uri": "https://localhost:8080/",
          "height": 36
        },
        "id": "zSn4wu0gqtvm"
      },
      "outputs": [
        {
          "output_type": "execute_result",
          "data": {
            "text/plain": [
              "'home am I'"
            ],
            "application/vnd.google.colaboratory.intrinsic+json": {
              "type": "string"
            }
          },
          "metadata": {},
          "execution_count": 24
        }
      ],
      "source": [
        "# Revisión\n",
        "master_yoda('I am home')"
      ]
    },
    {
      "cell_type": "markdown",
      "source": [
        "**Respuesta** :\n",
        "\n",
        "El codigo efectivamente invirtio el orden de \"I\" y \"home\""
      ],
      "metadata": {
        "id": "Iqec3xVc0-Yf"
      }
    },
    {
      "cell_type": "code",
      "execution_count": 25,
      "metadata": {
        "outputId": "5daaa529-1b14-4f41-9f80-e620a4c60607",
        "colab": {
          "base_uri": "https://localhost:8080/",
          "height": 36
        },
        "id": "Hu1ns_xeqtvm"
      },
      "outputs": [
        {
          "output_type": "execute_result",
          "data": {
            "text/plain": [
              "'ready are We'"
            ],
            "application/vnd.google.colaboratory.intrinsic+json": {
              "type": "string"
            }
          },
          "metadata": {},
          "execution_count": 25
        }
      ],
      "source": [
        "# Revisión\n",
        "master_yoda('We are ready')"
      ]
    },
    {
      "cell_type": "markdown",
      "source": [
        "**Respuesta** :\n",
        "\n",
        "El codigo efectivamente invirtio el orden de \"We\" y \"ready\""
      ],
      "metadata": {
        "id": "DZ3YEboY1Hxx"
      }
    },
    {
      "cell_type": "markdown",
      "metadata": {
        "id": "UnDwD49Gqtvm"
      },
      "source": [
        " Nivel 2"
      ]
    },
    {
      "cell_type": "markdown",
      "metadata": {
        "id": "ikQAN5E0qtvm"
      },
      "source": [
        "#### PROBLEMA 33:\n",
        "\n",
        "Dada una lista de enteros, retornar True si el arreglo tinene un  3  seguido por un  3 .\n",
        "\n",
        "    has_33([1, 3, 3]) → True\n",
        "    has_33([1, 3, 1, 3]) → False\n",
        "    has_33([3, 1, 3]) → False"
      ]
    },
    {
      "cell_type": "code",
      "execution_count": 26,
      "metadata": {
        "id": "B0BZwHE6qtvn"
      },
      "outputs": [],
      "source": [
        "def has_33(nums):\n",
        "    for i in range(len(nums) - 1):\n",
        "        if nums[i] == 3 and nums[i + 1] == 3:\n",
        "            return True\n",
        "    return False"
      ]
    },
    {
      "cell_type": "code",
      "execution_count": 27,
      "metadata": {
        "outputId": "78858467-7d33-482b-f85e-7ddac197803b",
        "colab": {
          "base_uri": "https://localhost:8080/"
        },
        "id": "dWHQVg-Uqtvn"
      },
      "outputs": [
        {
          "output_type": "execute_result",
          "data": {
            "text/plain": [
              "True"
            ]
          },
          "metadata": {},
          "execution_count": 27
        }
      ],
      "source": [
        "# Revisión\n",
        "has_33([1, 3, 3])"
      ]
    },
    {
      "cell_type": "markdown",
      "source": [
        "**Respuesta** :\n",
        "\n",
        "Cumple con la condicion de que hay un 3 al lado de otro"
      ],
      "metadata": {
        "id": "__1gWSUx1QmD"
      }
    },
    {
      "cell_type": "code",
      "execution_count": 28,
      "metadata": {
        "outputId": "3b912995-97de-4b40-c6a2-34d11022d34d",
        "colab": {
          "base_uri": "https://localhost:8080/"
        },
        "id": "FnWiaJGpqtvn"
      },
      "outputs": [
        {
          "output_type": "execute_result",
          "data": {
            "text/plain": [
              "False"
            ]
          },
          "metadata": {},
          "execution_count": 28
        }
      ],
      "source": [
        "# Revisión\n",
        "has_33([1, 3, 1, 3])"
      ]
    },
    {
      "cell_type": "markdown",
      "source": [
        "**Respuesta** :\n",
        "\n",
        "No cumple devido a que no hay numeros 3 seguidos"
      ],
      "metadata": {
        "id": "M5f0v3Vl1VY9"
      }
    },
    {
      "cell_type": "code",
      "execution_count": 29,
      "metadata": {
        "outputId": "44c2f496-0377-42ef-dfcb-fbbf05b88d97",
        "colab": {
          "base_uri": "https://localhost:8080/"
        },
        "id": "vUPoigeyqtvn"
      },
      "outputs": [
        {
          "output_type": "execute_result",
          "data": {
            "text/plain": [
              "False"
            ]
          },
          "metadata": {},
          "execution_count": 29
        }
      ],
      "source": [
        "# Revisión\n",
        "has_33([3, 1, 3])"
      ]
    },
    {
      "cell_type": "markdown",
      "source": [
        "**Respuesta** :\n",
        "\n",
        "No cumple devido a que no hay numeros 3 seguidos"
      ],
      "metadata": {
        "id": "1sM9bfzf1Zz6"
      }
    },
    {
      "cell_type": "markdown",
      "metadata": {
        "id": "JOudEn-0qtvo"
      },
      "source": [
        "#### REPLICADOR: Dada una cadena, devuelve una cadena donde por cada carácter en el original hay tres caracteres REPETIDOS\n",
        "    paper_doll('Hello') --> 'HHHeeellllllooo'\n",
        "    paper_doll('Mississippi') --> 'MMMiiissssssiiippppppiii'"
      ]
    },
    {
      "cell_type": "code",
      "execution_count": 30,
      "metadata": {
        "id": "mMBu-3i1qtvo"
      },
      "outputs": [],
      "source": [
        "def paper_doll(text):\n",
        "    return ''.join(char * 3 for char in text)"
      ]
    },
    {
      "cell_type": "markdown",
      "source": [
        "**Respuesta** :\n",
        "\n",
        "Crea una nueva cadena donde cumple la condicion de que cada caracter sea repetido 3 veces"
      ],
      "metadata": {
        "id": "63ZITOeb1ppk"
      }
    },
    {
      "cell_type": "code",
      "execution_count": 31,
      "metadata": {
        "outputId": "1277959a-89dd-41bc-fbca-037579077615",
        "colab": {
          "base_uri": "https://localhost:8080/",
          "height": 36
        },
        "id": "YD4WvoL-qtvo"
      },
      "outputs": [
        {
          "output_type": "execute_result",
          "data": {
            "text/plain": [
              "'HHHeeellllllooo'"
            ],
            "application/vnd.google.colaboratory.intrinsic+json": {
              "type": "string"
            }
          },
          "metadata": {},
          "execution_count": 31
        }
      ],
      "source": [
        "# Check\n",
        "paper_doll('Hello')"
      ]
    },
    {
      "cell_type": "markdown",
      "source": [
        "**Respuesta** :\n",
        "\n",
        "Hay 3 H, 3 e , 6 l (3 de la primera l y 3 de la segunda) y 3 o"
      ],
      "metadata": {
        "id": "i0JHFZ6T1xk3"
      }
    },
    {
      "cell_type": "code",
      "execution_count": 32,
      "metadata": {
        "outputId": "29b22560-185f-45b0-a974-3f7527d2b9d7",
        "colab": {
          "base_uri": "https://localhost:8080/",
          "height": 36
        },
        "id": "PddOsosEqtvo"
      },
      "outputs": [
        {
          "output_type": "execute_result",
          "data": {
            "text/plain": [
              "'MMMiiissssssiiissssssiiippppppiii'"
            ],
            "application/vnd.google.colaboratory.intrinsic+json": {
              "type": "string"
            }
          },
          "metadata": {},
          "execution_count": 32
        }
      ],
      "source": [
        "# Check\n",
        "paper_doll('Mississippi')"
      ]
    },
    {
      "cell_type": "markdown",
      "source": [
        "**Respuesta** :\n",
        "\n",
        "Hay 3 M , 3 i, 6 s (3 de la primera s y 3 de la segunda), 3 i ,6 s (3 de la primera s y 3 de la segunda), 6 p (3 de la primera p y 3 de la segunda) y 3 i"
      ],
      "metadata": {
        "id": "71Z0frS718t9"
      }
    },
    {
      "cell_type": "markdown",
      "metadata": {
        "id": "v1YA3-Tpqtvo"
      },
      "source": [
        "#### BLACKJACK: Dados tres enteros entre 1 y 11, si su suma es menor o igual a 21, devuelve su suma. Si su suma excede 21 *y* hay un once, reduce la suma total en 10. Finalmente, si la suma (incluso después del ajuste) excede 21, devuelve 'BUST'\n",
        "    blackjack(5,6,7) --> 18\n",
        "    blackjack(9,9,9) --> 'BUST'\n",
        "    blackjack(9,9,11) --> 19"
      ]
    },
    {
      "cell_type": "code",
      "execution_count": 33,
      "metadata": {
        "id": "arMpucuRqtvp"
      },
      "outputs": [],
      "source": [
        "def blackjack(a, b, c):\n",
        "    total = a + b + c\n",
        "    if total <= 21:\n",
        "        return total\n",
        "    if 11 in (a, b, c):\n",
        "        total -= 10\n",
        "    if total > 21:\n",
        "        return 'BUST'\n",
        "\n",
        "    return total"
      ]
    },
    {
      "cell_type": "code",
      "execution_count": 34,
      "metadata": {
        "outputId": "68973936-ae02-4333-a329-320a8553782a",
        "colab": {
          "base_uri": "https://localhost:8080/"
        },
        "id": "gb-zxZk0qtvp"
      },
      "outputs": [
        {
          "output_type": "execute_result",
          "data": {
            "text/plain": [
              "18"
            ]
          },
          "metadata": {},
          "execution_count": 34
        }
      ],
      "source": [
        "# Revisión\n",
        "blackjack(5,6,7)"
      ]
    },
    {
      "cell_type": "markdown",
      "source": [
        "**Respuesta** :\n",
        "\n",
        "Retorna el numero, debido a que la suma no alcanza a ser 21 y no hay ningun 11"
      ],
      "metadata": {
        "id": "VHcr94F-2bMk"
      }
    },
    {
      "cell_type": "code",
      "execution_count": 35,
      "metadata": {
        "outputId": "e708b408-67ea-4340-b46d-85f6e49cd8cc",
        "colab": {
          "base_uri": "https://localhost:8080/",
          "height": 36
        },
        "id": "zWkjc07-qtvp"
      },
      "outputs": [
        {
          "output_type": "execute_result",
          "data": {
            "text/plain": [
              "'BUST'"
            ],
            "application/vnd.google.colaboratory.intrinsic+json": {
              "type": "string"
            }
          },
          "metadata": {},
          "execution_count": 35
        }
      ],
      "source": [
        "# Revisión\n",
        "blackjack(9,9,9)"
      ]
    },
    {
      "cell_type": "markdown",
      "source": [
        "**Respuesta** :\n",
        "\n",
        "Arroja Bust devido a aque la suma de los valores es mayor a 21 (27 en este caso)"
      ],
      "metadata": {
        "id": "-GE5TKSX2p8K"
      }
    },
    {
      "cell_type": "code",
      "execution_count": 36,
      "metadata": {
        "outputId": "c92a718c-6336-4206-cb8b-98abcdf56b51",
        "colab": {
          "base_uri": "https://localhost:8080/"
        },
        "id": "PynyeiSXqtvp"
      },
      "outputs": [
        {
          "output_type": "execute_result",
          "data": {
            "text/plain": [
              "19"
            ]
          },
          "metadata": {},
          "execution_count": 36
        }
      ],
      "source": [
        "# Revisión\n",
        "blackjack(9,9,11)"
      ]
    },
    {
      "cell_type": "markdown",
      "source": [
        "**Respuesta** :\n",
        "\n",
        "Restorna el numero de la suma de las variables menos 10 porque dentro de los valores hay un 11; es decir que la suma arroja 29 pero al poseer un 11 se le restan once y queda el numero por pantalla (19)"
      ],
      "metadata": {
        "id": "bY671OwX21Ya"
      }
    }
  ],
  "metadata": {
    "kernelspec": {
      "display_name": "Python 3",
      "language": "python",
      "name": "python3"
    },
    "language_info": {
      "mimetype": "text/x-python",
      "name": "python",
      "pygments_lexer": "ipython3",
      "codemirror_mode": {
        "name": "ipython",
        "version": 3
      },
      "version": "3.8.3",
      "nbconvert_exporter": "python",
      "file_extension": ".py"
    },
    "application/vnd.databricks.v1+notebook": {
      "notebookName": "01-Python-Cadenas",
      "dashboards": [],
      "notebookMetadata": {
        "pythonIndentUnit": 2
      },
      "language": "python",
      "widgets": {},
      "notebookOrigID": 3377342904741170
    },
    "colab": {
      "provenance": [],
      "collapsed_sections": [
        "aCsRYqz7Y5Qq",
        "li-MHQsKaxux",
        "ehrWjeRjcVX_",
        "HLZk3d5KeoVx",
        "dBJ1nTPjgb_f",
        "m_EN4JhSYjzs",
        "xBE0k7wyi7SF"
      ]
    }
  },
  "nbformat": 4,
  "nbformat_minor": 0
}